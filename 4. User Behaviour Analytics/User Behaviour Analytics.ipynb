{
 "cells": [
  {
   "cell_type": "markdown",
   "metadata": {},
   "source": [
    "# Анализ пользовательского поведения в мобильном приложении по продаже продуктов питания"
   ]
  },
  {
   "cell_type": "markdown",
   "metadata": {},
   "source": [
    "**Цель проекта** - выяснить, как ведут себя пользователи мобильного приложения. "
   ]
  },
  {
   "cell_type": "markdown",
   "metadata": {},
   "source": [
    "**Задачи проекта:**\n",
    "\n",
    "- Изучить воронку продаж. Узнать как пользователь доходит до совершения покупки;\n",
    "- Проанализировать поэтапный путь пользователя до покупки;\n",
    "- Провести исследование результатов A/A/B-эксперимента со шрифтами;\n",
    "- Выяснить, какой шрифт лучше работает для пользователей."
   ]
  },
  {
   "cell_type": "markdown",
   "metadata": {},
   "source": [
    "## Шаг 1. Загрузим файл с данными и изучим общую информацию\n"
   ]
  },
  {
   "cell_type": "code",
   "execution_count": 1,
   "metadata": {},
   "outputs": [],
   "source": [
    "#подключим нужные модули и библиотеки\n",
    "import pandas as pd\n",
    "import datetime as dt\n",
    "import numpy as np\n",
    "import matplotlib.pyplot as plt\n",
    "from scipy import stats as st\n",
    "import seaborn as sns\n",
    "import math as mth"
   ]
  },
  {
   "cell_type": "code",
   "execution_count": 2,
   "metadata": {},
   "outputs": [],
   "source": [
    "df = pd.read_csv('/datasets/logs_exp.csv', sep='\\t')"
   ]
  },
  {
   "cell_type": "code",
   "execution_count": 3,
   "metadata": {},
   "outputs": [
    {
     "name": "stdout",
     "output_type": "stream",
     "text": [
      "<class 'pandas.core.frame.DataFrame'>\n",
      "RangeIndex: 244126 entries, 0 to 244125\n",
      "Data columns (total 4 columns):\n",
      " #   Column          Non-Null Count   Dtype \n",
      "---  ------          --------------   ----- \n",
      " 0   EventName       244126 non-null  object\n",
      " 1   DeviceIDHash    244126 non-null  int64 \n",
      " 2   EventTimestamp  244126 non-null  int64 \n",
      " 3   ExpId           244126 non-null  int64 \n",
      "dtypes: int64(3), object(1)\n",
      "memory usage: 7.5+ MB\n"
     ]
    }
   ],
   "source": [
    "df.info()"
   ]
  },
  {
   "cell_type": "code",
   "execution_count": 4,
   "metadata": {},
   "outputs": [
    {
     "data": {
      "text/html": [
       "<div>\n",
       "<style scoped>\n",
       "    .dataframe tbody tr th:only-of-type {\n",
       "        vertical-align: middle;\n",
       "    }\n",
       "\n",
       "    .dataframe tbody tr th {\n",
       "        vertical-align: top;\n",
       "    }\n",
       "\n",
       "    .dataframe thead th {\n",
       "        text-align: right;\n",
       "    }\n",
       "</style>\n",
       "<table border=\"1\" class=\"dataframe\">\n",
       "  <thead>\n",
       "    <tr style=\"text-align: right;\">\n",
       "      <th></th>\n",
       "      <th>EventName</th>\n",
       "      <th>DeviceIDHash</th>\n",
       "      <th>EventTimestamp</th>\n",
       "      <th>ExpId</th>\n",
       "    </tr>\n",
       "  </thead>\n",
       "  <tbody>\n",
       "    <tr>\n",
       "      <th>0</th>\n",
       "      <td>MainScreenAppear</td>\n",
       "      <td>4575588528974610257</td>\n",
       "      <td>1564029816</td>\n",
       "      <td>246</td>\n",
       "    </tr>\n",
       "    <tr>\n",
       "      <th>1</th>\n",
       "      <td>MainScreenAppear</td>\n",
       "      <td>7416695313311560658</td>\n",
       "      <td>1564053102</td>\n",
       "      <td>246</td>\n",
       "    </tr>\n",
       "    <tr>\n",
       "      <th>2</th>\n",
       "      <td>PaymentScreenSuccessful</td>\n",
       "      <td>3518123091307005509</td>\n",
       "      <td>1564054127</td>\n",
       "      <td>248</td>\n",
       "    </tr>\n",
       "    <tr>\n",
       "      <th>3</th>\n",
       "      <td>CartScreenAppear</td>\n",
       "      <td>3518123091307005509</td>\n",
       "      <td>1564054127</td>\n",
       "      <td>248</td>\n",
       "    </tr>\n",
       "    <tr>\n",
       "      <th>4</th>\n",
       "      <td>PaymentScreenSuccessful</td>\n",
       "      <td>6217807653094995999</td>\n",
       "      <td>1564055322</td>\n",
       "      <td>248</td>\n",
       "    </tr>\n",
       "  </tbody>\n",
       "</table>\n",
       "</div>"
      ],
      "text/plain": [
       "                 EventName         DeviceIDHash  EventTimestamp  ExpId\n",
       "0         MainScreenAppear  4575588528974610257      1564029816    246\n",
       "1         MainScreenAppear  7416695313311560658      1564053102    246\n",
       "2  PaymentScreenSuccessful  3518123091307005509      1564054127    248\n",
       "3         CartScreenAppear  3518123091307005509      1564054127    248\n",
       "4  PaymentScreenSuccessful  6217807653094995999      1564055322    248"
      ]
     },
     "execution_count": 4,
     "metadata": {},
     "output_type": "execute_result"
    }
   ],
   "source": [
    "df.head(5)"
   ]
  },
  {
   "cell_type": "markdown",
   "metadata": {},
   "source": [
    "**Вывод:**\n",
    "\n",
    "По первому взгляду на данные, необходимо сделать следующее:\n",
    "- Привести название столбцов к рабочему и более удобному виду;\n",
    "- Поменять типы данных в столбцах;\n",
    "- Проверить датасет на пропуски и дубликаты;\n",
    "- Для удобства, заменить название групп на \"А1\", \"А2\" и \"B\"\n",
    "- Проверить, нет ли в данных пользователей, участвовавших в нескольких группах теста одновременно."
   ]
  },
  {
   "cell_type": "markdown",
   "metadata": {},
   "source": [
    "## Шаг 2. Подготовим данные"
   ]
  },
  {
   "cell_type": "markdown",
   "metadata": {},
   "source": [
    "### Переименуем столбцы"
   ]
  },
  {
   "cell_type": "code",
   "execution_count": 5,
   "metadata": {},
   "outputs": [],
   "source": [
    "# сделаем копию датасета\n",
    "data = df.copy()"
   ]
  },
  {
   "cell_type": "code",
   "execution_count": 6,
   "metadata": {},
   "outputs": [],
   "source": [
    "data.columns = ['event_name', 'user_id', 'dt', 'group']"
   ]
  },
  {
   "cell_type": "markdown",
   "metadata": {},
   "source": [
    "### Приведем столбец с датой и временем к нужному типу и добавим столбец с датами"
   ]
  },
  {
   "cell_type": "code",
   "execution_count": 7,
   "metadata": {},
   "outputs": [],
   "source": [
    "data['dt'] = pd.to_datetime(data['dt'], unit='s')\n",
    "\n",
    "# Добавим поле с датой:\n",
    "data['date'] = pd.to_datetime(data['dt'].dt.date)"
   ]
  },
  {
   "cell_type": "markdown",
   "metadata": {},
   "source": [
    "### Поменяем название групп теста\n",
    "246 и 247 — контрольные группы будут А1 и А2, а 248 — экспериментальная группой B."
   ]
  },
  {
   "cell_type": "code",
   "execution_count": 8,
   "metadata": {},
   "outputs": [
    {
     "data": {
      "text/html": [
       "<div>\n",
       "<style scoped>\n",
       "    .dataframe tbody tr th:only-of-type {\n",
       "        vertical-align: middle;\n",
       "    }\n",
       "\n",
       "    .dataframe tbody tr th {\n",
       "        vertical-align: top;\n",
       "    }\n",
       "\n",
       "    .dataframe thead th {\n",
       "        text-align: right;\n",
       "    }\n",
       "</style>\n",
       "<table border=\"1\" class=\"dataframe\">\n",
       "  <thead>\n",
       "    <tr style=\"text-align: right;\">\n",
       "      <th></th>\n",
       "      <th>event_name</th>\n",
       "      <th>user_id</th>\n",
       "      <th>dt</th>\n",
       "      <th>group</th>\n",
       "      <th>date</th>\n",
       "    </tr>\n",
       "  </thead>\n",
       "  <tbody>\n",
       "    <tr>\n",
       "      <th>0</th>\n",
       "      <td>MainScreenAppear</td>\n",
       "      <td>4575588528974610257</td>\n",
       "      <td>2019-07-25 04:43:36</td>\n",
       "      <td>A1</td>\n",
       "      <td>2019-07-25</td>\n",
       "    </tr>\n",
       "    <tr>\n",
       "      <th>1</th>\n",
       "      <td>MainScreenAppear</td>\n",
       "      <td>7416695313311560658</td>\n",
       "      <td>2019-07-25 11:11:42</td>\n",
       "      <td>A1</td>\n",
       "      <td>2019-07-25</td>\n",
       "    </tr>\n",
       "    <tr>\n",
       "      <th>2</th>\n",
       "      <td>PaymentScreenSuccessful</td>\n",
       "      <td>3518123091307005509</td>\n",
       "      <td>2019-07-25 11:28:47</td>\n",
       "      <td>B</td>\n",
       "      <td>2019-07-25</td>\n",
       "    </tr>\n",
       "    <tr>\n",
       "      <th>3</th>\n",
       "      <td>CartScreenAppear</td>\n",
       "      <td>3518123091307005509</td>\n",
       "      <td>2019-07-25 11:28:47</td>\n",
       "      <td>B</td>\n",
       "      <td>2019-07-25</td>\n",
       "    </tr>\n",
       "    <tr>\n",
       "      <th>4</th>\n",
       "      <td>PaymentScreenSuccessful</td>\n",
       "      <td>6217807653094995999</td>\n",
       "      <td>2019-07-25 11:48:42</td>\n",
       "      <td>B</td>\n",
       "      <td>2019-07-25</td>\n",
       "    </tr>\n",
       "    <tr>\n",
       "      <th>...</th>\n",
       "      <td>...</td>\n",
       "      <td>...</td>\n",
       "      <td>...</td>\n",
       "      <td>...</td>\n",
       "      <td>...</td>\n",
       "    </tr>\n",
       "    <tr>\n",
       "      <th>244121</th>\n",
       "      <td>MainScreenAppear</td>\n",
       "      <td>4599628364049201812</td>\n",
       "      <td>2019-08-07 21:12:25</td>\n",
       "      <td>A2</td>\n",
       "      <td>2019-08-07</td>\n",
       "    </tr>\n",
       "    <tr>\n",
       "      <th>244122</th>\n",
       "      <td>MainScreenAppear</td>\n",
       "      <td>5849806612437486590</td>\n",
       "      <td>2019-08-07 21:13:59</td>\n",
       "      <td>A1</td>\n",
       "      <td>2019-08-07</td>\n",
       "    </tr>\n",
       "    <tr>\n",
       "      <th>244123</th>\n",
       "      <td>MainScreenAppear</td>\n",
       "      <td>5746969938801999050</td>\n",
       "      <td>2019-08-07 21:14:43</td>\n",
       "      <td>A1</td>\n",
       "      <td>2019-08-07</td>\n",
       "    </tr>\n",
       "    <tr>\n",
       "      <th>244124</th>\n",
       "      <td>MainScreenAppear</td>\n",
       "      <td>5746969938801999050</td>\n",
       "      <td>2019-08-07 21:14:58</td>\n",
       "      <td>A1</td>\n",
       "      <td>2019-08-07</td>\n",
       "    </tr>\n",
       "    <tr>\n",
       "      <th>244125</th>\n",
       "      <td>OffersScreenAppear</td>\n",
       "      <td>5746969938801999050</td>\n",
       "      <td>2019-08-07 21:15:17</td>\n",
       "      <td>A1</td>\n",
       "      <td>2019-08-07</td>\n",
       "    </tr>\n",
       "  </tbody>\n",
       "</table>\n",
       "<p>244126 rows × 5 columns</p>\n",
       "</div>"
      ],
      "text/plain": [
       "                     event_name              user_id                  dt  \\\n",
       "0              MainScreenAppear  4575588528974610257 2019-07-25 04:43:36   \n",
       "1              MainScreenAppear  7416695313311560658 2019-07-25 11:11:42   \n",
       "2       PaymentScreenSuccessful  3518123091307005509 2019-07-25 11:28:47   \n",
       "3              CartScreenAppear  3518123091307005509 2019-07-25 11:28:47   \n",
       "4       PaymentScreenSuccessful  6217807653094995999 2019-07-25 11:48:42   \n",
       "...                         ...                  ...                 ...   \n",
       "244121         MainScreenAppear  4599628364049201812 2019-08-07 21:12:25   \n",
       "244122         MainScreenAppear  5849806612437486590 2019-08-07 21:13:59   \n",
       "244123         MainScreenAppear  5746969938801999050 2019-08-07 21:14:43   \n",
       "244124         MainScreenAppear  5746969938801999050 2019-08-07 21:14:58   \n",
       "244125       OffersScreenAppear  5746969938801999050 2019-08-07 21:15:17   \n",
       "\n",
       "       group       date  \n",
       "0         A1 2019-07-25  \n",
       "1         A1 2019-07-25  \n",
       "2          B 2019-07-25  \n",
       "3          B 2019-07-25  \n",
       "4          B 2019-07-25  \n",
       "...      ...        ...  \n",
       "244121    A2 2019-08-07  \n",
       "244122    A1 2019-08-07  \n",
       "244123    A1 2019-08-07  \n",
       "244124    A1 2019-08-07  \n",
       "244125    A1 2019-08-07  \n",
       "\n",
       "[244126 rows x 5 columns]"
      ]
     },
     "execution_count": 8,
     "metadata": {},
     "output_type": "execute_result"
    }
   ],
   "source": [
    "# Напишем функцию\n",
    "def rename_group(x):\n",
    "    if x == 246:\n",
    "        return 'A1'\n",
    "    elif x == 247:\n",
    "        return 'A2'\n",
    "    elif x == 248:\n",
    "        return 'B'\n",
    "    else:\n",
    "        return 'Unknown'\n",
    "\n",
    "data['group'] = data['group'].apply(rename_group)\n",
    "data"
   ]
  },
  {
   "cell_type": "code",
   "execution_count": 9,
   "metadata": {},
   "outputs": [
    {
     "data": {
      "text/plain": [
       "array(['A1', 'B', 'A2'], dtype=object)"
      ]
     },
     "execution_count": 9,
     "metadata": {},
     "output_type": "execute_result"
    }
   ],
   "source": [
    "# Проверим, есть ли группа \"Unknown\"?\n",
    "data['group'].unique()"
   ]
  },
  {
   "cell_type": "markdown",
   "metadata": {},
   "source": [
    "### Проверим датасет на пропуски и дубликаты"
   ]
  },
  {
   "cell_type": "code",
   "execution_count": 10,
   "metadata": {},
   "outputs": [
    {
     "data": {
      "text/plain": [
       "event_name    0\n",
       "user_id       0\n",
       "dt            0\n",
       "group         0\n",
       "date          0\n",
       "dtype: int64"
      ]
     },
     "execution_count": 10,
     "metadata": {},
     "output_type": "execute_result"
    }
   ],
   "source": [
    "data.isnull().sum()"
   ]
  },
  {
   "cell_type": "code",
   "execution_count": 11,
   "metadata": {},
   "outputs": [
    {
     "data": {
      "text/plain": [
       "413"
      ]
     },
     "execution_count": 11,
     "metadata": {},
     "output_type": "execute_result"
    }
   ],
   "source": [
    "data.duplicated().sum()"
   ]
  },
  {
   "cell_type": "markdown",
   "metadata": {},
   "source": [
    "Обнаружено 413 дубликатов, посмотрим сколько это составляет в процентах"
   ]
  },
  {
   "cell_type": "code",
   "execution_count": 12,
   "metadata": {},
   "outputs": [
    {
     "name": "stdout",
     "output_type": "stream",
     "text": [
      "доля дубликатов 0.17%\n"
     ]
    }
   ],
   "source": [
    "print(f\"доля дубликатов {data.duplicated().sum()/data['user_id'].count():.2%}\")"
   ]
  },
  {
   "cell_type": "code",
   "execution_count": 13,
   "metadata": {},
   "outputs": [],
   "source": [
    "# Удалим дубликаты\n",
    "data = data.drop_duplicates().reset_index(drop=True)"
   ]
  },
  {
   "cell_type": "markdown",
   "metadata": {},
   "source": [
    "### Проверим, нет ли в данных пользователей, участвовавших в нескольких группах теста одновременно"
   ]
  },
  {
   "cell_type": "code",
   "execution_count": 14,
   "metadata": {},
   "outputs": [
    {
     "name": "stdout",
     "output_type": "stream",
     "text": [
      "0\n",
      "0\n",
      "0\n"
     ]
    }
   ],
   "source": [
    "# отберем данные по группам\n",
    "group_a1 = data.query('group == \"A1\"') \n",
    "group_a2 = data.query('group == \"A2\"') \n",
    "group_b = data.query('group == \"B\"') \n",
    "  \n",
    "# получим id пользователей, попавших в обе группы А1 - А2\n",
    "group_intersections = list(np.intersect1d(group_a1['user_id'], group_a2['user_id']))\n",
    "print(len(group_intersections))\n",
    "\n",
    "# получим id пользователей, попавших в обе группы А1 - В\n",
    "group_intersections = list(np.intersect1d(group_a1['user_id'], group_b['user_id']))\n",
    "print(len(group_intersections))\n",
    "\n",
    "# получим id пользователей, попавших в обе группы А2 - В\n",
    "group_intersections = list(np.intersect1d(group_a2['user_id'], group_b['user_id']))\n",
    "print(len(group_intersections))"
   ]
  },
  {
   "cell_type": "markdown",
   "metadata": {},
   "source": [
    "**Выводы по шагу 2**\n",
    "\n",
    "На этапе предобработки было сделано:\n",
    "\n",
    "- Заданы новые имена столбцов;\n",
    "- Добавлен столбец с датами;\n",
    "- Изменены названия групп (246, 247, 248 - А1, А2, В);\n",
    "- Удалены 413 дубликатов (0.2% данных);\n",
    "- Проверено пересечение пользователей в группах. Пересекающиеся пользователи не обнаружены."
   ]
  },
  {
   "cell_type": "markdown",
   "metadata": {},
   "source": [
    "## Шаг 3. Изучим и проверим данные."
   ]
  },
  {
   "cell_type": "markdown",
   "metadata": {},
   "source": [
    "### Посмотрим, сколько всего событий в логе?"
   ]
  },
  {
   "cell_type": "code",
   "execution_count": 15,
   "metadata": {},
   "outputs": [
    {
     "name": "stdout",
     "output_type": "stream",
     "text": [
      "Всего событий: 243713\n",
      "\n",
      "Вариантов событий: 5 ['MainScreenAppear' 'PaymentScreenSuccessful' 'CartScreenAppear'\n",
      " 'OffersScreenAppear' 'Tutorial']\n"
     ]
    }
   ],
   "source": [
    "print('Всего событий:', data['event_name'].count())\n",
    "print()\n",
    "print('Вариантов событий:', data['event_name'].nunique(), data['event_name'].unique())"
   ]
  },
  {
   "cell_type": "code",
   "execution_count": 16,
   "metadata": {},
   "outputs": [
    {
     "data": {
      "text/plain": [
       "MainScreenAppear           119101\n",
       "OffersScreenAppear          46808\n",
       "CartScreenAppear            42668\n",
       "PaymentScreenSuccessful     34118\n",
       "Tutorial                     1018\n",
       "Name: event_name, dtype: int64"
      ]
     },
     "execution_count": 16,
     "metadata": {},
     "output_type": "execute_result"
    }
   ],
   "source": [
    "# посмотрим, как распределены события\n",
    "data['event_name'].value_counts()"
   ]
  },
  {
   "cell_type": "markdown",
   "metadata": {},
   "source": [
    "### Узнаем, сколько всего пользователей в логе?"
   ]
  },
  {
   "cell_type": "code",
   "execution_count": 17,
   "metadata": {},
   "outputs": [
    {
     "name": "stdout",
     "output_type": "stream",
     "text": [
      "Всего уникальных пользователей: 7551\n"
     ]
    }
   ],
   "source": [
    "print('Всего уникальных пользователей:', data['user_id'].nunique())"
   ]
  },
  {
   "cell_type": "markdown",
   "metadata": {},
   "source": [
    "### Узнаем, сколько в среднем событий приходится на пользователя?"
   ]
  },
  {
   "cell_type": "code",
   "execution_count": 18,
   "metadata": {},
   "outputs": [
    {
     "data": {
      "text/plain": [
       "20.0"
      ]
     },
     "execution_count": 18,
     "metadata": {},
     "output_type": "execute_result"
    }
   ],
   "source": [
    "data.groupby('user_id')['event_name'].agg('count').median()"
   ]
  },
  {
   "cell_type": "markdown",
   "metadata": {},
   "source": [
    "**Вывод:**\n",
    "\n",
    "Поскольку в поведенческих данных пользователей часто бывают выбросы, то среднее посчитали через медиану. В среднем, на пользователя приходится 20 событий."
   ]
  },
  {
   "cell_type": "markdown",
   "metadata": {},
   "source": [
    "**Построим точечный график количества событий на пользователей, оценим выбросы и распределение в целом.**"
   ]
  },
  {
   "cell_type": "code",
   "execution_count": 19,
   "metadata": {},
   "outputs": [
    {
     "name": "stdout",
     "output_type": "stream",
     "text": [
      "                  user_id  events\n",
      "5116  6304868067479728361    2307\n",
      "147    197027893265565660    1998\n",
      "3714  4623191541214045580    1768\n",
      "5590  6932517045703054087    1439\n",
      "1391  1754140665440434215    1221\n",
      "2641  3337471580007169353    1186\n",
      "6294  7738058666231999878     888\n",
      "822   1055544042902443290     854\n",
      "3801  4713748699910253089     824\n",
      "6617  8118046800480174342     755\n"
     ]
    },
    {
     "data": {
      "image/png": "[encoded data removed]",
      "text/plain": [
       "<Figure size 720x432 with 1 Axes>"
      ]
     },
     "metadata": {
      "needs_background": "light"
     },
     "output_type": "display_data"
    }
   ],
   "source": [
    "event_per_user = (\n",
    "    data.groupby('user_id', as_index=False)\n",
    "    .agg({'event_name': 'count'})\n",
    ")\n",
    "event_per_user.columns = ['user_id', 'events']\n",
    "\n",
    "print(event_per_user.sort_values(by='events', ascending=False).head(10))\n",
    "\n",
    "# серия из чисел от 0 до количества наблюдений в event_per_user\n",
    "x_values = pd.Series(range(0, len(event_per_user)))\n",
    "plt.figure(figsize=(10, 6))\n",
    "plt.scatter(x_values, event_per_user['events'], alpha=0.5)\n",
    "plt.xlabel('Пользователи')\n",
    "plt.ylabel('Количество событий')\n",
    "plt.title('Распределение количества событий на пользователей')\n",
    "plt.grid()\n",
    "plt.show()"
   ]
  },
  {
   "cell_type": "markdown",
   "metadata": {},
   "source": [
    "**Вывод**\n",
    "\n",
    "На графике видим пользователей, на которых приходится более тысячи событий - просмотров страниц. Либо они настолько погружены в приложение, либо произошли технические неполадки при фиксировании их активности."
   ]
  },
  {
   "cell_type": "code",
   "execution_count": 20,
   "metadata": {},
   "outputs": [
    {
     "data": {
      "image/png": "[encoded data removed]",
      "text/plain": [
       "<Figure size 720x432 with 1 Axes>"
      ]
     },
     "metadata": {
      "needs_background": "light"
     },
     "output_type": "display_data"
    }
   ],
   "source": [
    "plt.figure(figsize=(10, 6))\n",
    "plt.scatter(x_values, event_per_user['events'], alpha=0.4)\n",
    "plt.xlabel('Пользователи')\n",
    "plt.ylabel('Количество событий')\n",
    "plt.title('Распределение количества событий на пользователей')\n",
    "plt.ylim([0,200])\n",
    "plt.axhline(y=20, color='black', linestyle='--') \n",
    "plt.grid()\n",
    "plt.show()"
   ]
  },
  {
   "cell_type": "markdown",
   "metadata": {},
   "source": [
    "В целом, можно понять, что для большинства пользователей количество событий не превышает 25."
   ]
  },
  {
   "cell_type": "markdown",
   "metadata": {},
   "source": [
    "### Узнаем, данными за какой период мы располагаем? \n",
    "Найдем максимальную и минимальную дату. \n",
    "\n",
    "Изучим, как меняется количество данных: построим столбчатую диаграмму, которая отобразит количество событий в зависимости от времени в разрезе групп. Сделаем вывод о полноте данных за весь период. \n",
    "\n",
    "Технически в логи новых дней по некоторым пользователям могут «доезжать» события из прошлого — это может «перекашивать данные». Определим, с какого момента данные полные и отбросим более старые. Поймем, данными за какой период времени мы располагаем на самом деле?"
   ]
  },
  {
   "cell_type": "markdown",
   "metadata": {},
   "source": [
    "#### Найдем максимальную и минимальную дату. "
   ]
  },
  {
   "cell_type": "code",
   "execution_count": 21,
   "metadata": {},
   "outputs": [
    {
     "name": "stdout",
     "output_type": "stream",
     "text": [
      "Данные представлены с 2019-07-25 00:00:00 по 2019-08-07 00:00:00\n"
     ]
    }
   ],
   "source": [
    "print(f\"Данные представлены с {data['date'].min()} по {data['date'].max()}\")"
   ]
  },
  {
   "cell_type": "markdown",
   "metadata": {},
   "source": [
    "#### Изучим, как меняется количество данных: построим столбчатую диаграмму, которая отобразит количество событий в зависимости от времени в разрезе групп. Сделаем вывод о полноте данных за весь период. "
   ]
  },
  {
   "cell_type": "code",
   "execution_count": 22,
   "metadata": {},
   "outputs": [
    {
     "data": {
      "image/png": "[encoded data removed]",
      "text/plain": [
       "<Figure size 864x360 with 1 Axes>"
      ]
     },
     "metadata": {
      "needs_background": "light"
     },
     "output_type": "display_data"
    }
   ],
   "source": [
    "(data.pivot_table(index = 'date', columns = 'group', values = 'event_name', aggfunc = 'count')\n",
    " .plot(kind = 'bar', \n",
    "       title = 'Количество событий в зависимости от даты в разрезе групп', \n",
    "       xlabel = 'Дата', \n",
    "       ylabel = 'Количество событий', \n",
    "       figsize = (12,5),\n",
    "       edgecolor = 'black',\n",
    "       grid = True,\n",
    "       legend = True)\n",
    ")\n",
    "None"
   ]
  },
  {
   "cell_type": "markdown",
   "metadata": {},
   "source": [
    "**Вывод**\n",
    "\n",
    "Видим, что хоть данные и представлены с 2019-07-25, но информационной ценности вплоть до 2019-08-01 они для нас не несут. Поэтому можем отбросить данные до этого периода. \n",
    "\n",
    "Акутальным и полезным для исследования периодом можем считать период с 2019-08-01 по 2019-08-07"
   ]
  },
  {
   "cell_type": "code",
   "execution_count": 23,
   "metadata": {},
   "outputs": [],
   "source": [
    "data_new = data.query('dt >= \"2019-08-01\"').reset_index(drop=True)"
   ]
  },
  {
   "cell_type": "markdown",
   "metadata": {},
   "source": [
    "### Рассмотрим, много ли событий и пользователей мы потеряли, отбросив старые данные?"
   ]
  },
  {
   "cell_type": "code",
   "execution_count": 24,
   "metadata": {
    "scrolled": true
   },
   "outputs": [
    {
     "name": "stdout",
     "output_type": "stream",
     "text": [
      "Потеряли 2826 событий, что составляет 1.16%\n",
      "Потеряли 17 пользователей, что составляет 0.23%\n"
     ]
    }
   ],
   "source": [
    "lost_events = data['event_name'].count() - data_new['event_name'].count()\n",
    "lost_events_per = lost_events / data['event_name'].count()\n",
    "print(f\"Потеряли {lost_events} событий, что составляет {lost_events_per:.2%}\")\n",
    "\n",
    "lost_users = data['user_id'].nunique() - data_new['user_id'].nunique()\n",
    "lost_users_per = lost_users / data['user_id'].nunique()\n",
    "print(f\"Потеряли {lost_users} пользователей, что составляет {lost_users_per:.2%}\")"
   ]
  },
  {
   "cell_type": "markdown",
   "metadata": {},
   "source": [
    "### Проверим, что у нас есть пользователи из всех трёх экспериментальных групп."
   ]
  },
  {
   "cell_type": "code",
   "execution_count": 25,
   "metadata": {},
   "outputs": [
    {
     "data": {
      "text/plain": [
       "group\n",
       "A1    2484\n",
       "A2    2513\n",
       "B     2537\n",
       "Name: user_id, dtype: int64"
      ]
     },
     "execution_count": 25,
     "metadata": {},
     "output_type": "execute_result"
    }
   ],
   "source": [
    "data_new.groupby('group')['user_id'].nunique()"
   ]
  },
  {
   "cell_type": "markdown",
   "metadata": {},
   "source": [
    "**Выводы по шагу 3:**\n",
    "\n",
    "- Определили актуальный период для целей исследования - с 2019-08-01 по 2019-08-07\n",
    "- Подчистили данные, потеряли 2826 событий, что составляет 1.2%, а также 17 пользователей, что составляет 0.2%.\n",
    "- Выяснили, что после подчистки данных, у нас сохранились пользователи из трех экспериментальных групп. Количество участников которых в среднем находится на уровне 2500 человек."
   ]
  },
  {
   "cell_type": "markdown",
   "metadata": {},
   "source": [
    "## Шаг 4. Изучим воронку событий"
   ]
  },
  {
   "cell_type": "markdown",
   "metadata": {},
   "source": [
    "### Посмотрим, какие события есть в логах, как часто они встречаются. \n",
    "Отсортируем события по частоте."
   ]
  },
  {
   "cell_type": "code",
   "execution_count": 26,
   "metadata": {},
   "outputs": [
    {
     "data": {
      "text/html": [
       "<div>\n",
       "<style scoped>\n",
       "    .dataframe tbody tr th:only-of-type {\n",
       "        vertical-align: middle;\n",
       "    }\n",
       "\n",
       "    .dataframe tbody tr th {\n",
       "        vertical-align: top;\n",
       "    }\n",
       "\n",
       "    .dataframe thead th {\n",
       "        text-align: right;\n",
       "    }\n",
       "</style>\n",
       "<table border=\"1\" class=\"dataframe\">\n",
       "  <thead>\n",
       "    <tr style=\"text-align: right;\">\n",
       "      <th></th>\n",
       "      <th>event_name</th>\n",
       "      <th>user_id</th>\n",
       "      <th>dt</th>\n",
       "      <th>group</th>\n",
       "      <th>date</th>\n",
       "    </tr>\n",
       "  </thead>\n",
       "  <tbody>\n",
       "    <tr>\n",
       "      <th>0</th>\n",
       "      <td>Tutorial</td>\n",
       "      <td>3737462046622621720</td>\n",
       "      <td>2019-08-01 00:07:28</td>\n",
       "      <td>A1</td>\n",
       "      <td>2019-08-01</td>\n",
       "    </tr>\n",
       "    <tr>\n",
       "      <th>1</th>\n",
       "      <td>MainScreenAppear</td>\n",
       "      <td>3737462046622621720</td>\n",
       "      <td>2019-08-01 00:08:00</td>\n",
       "      <td>A1</td>\n",
       "      <td>2019-08-01</td>\n",
       "    </tr>\n",
       "    <tr>\n",
       "      <th>2</th>\n",
       "      <td>MainScreenAppear</td>\n",
       "      <td>3737462046622621720</td>\n",
       "      <td>2019-08-01 00:08:55</td>\n",
       "      <td>A1</td>\n",
       "      <td>2019-08-01</td>\n",
       "    </tr>\n",
       "    <tr>\n",
       "      <th>3</th>\n",
       "      <td>OffersScreenAppear</td>\n",
       "      <td>3737462046622621720</td>\n",
       "      <td>2019-08-01 00:08:58</td>\n",
       "      <td>A1</td>\n",
       "      <td>2019-08-01</td>\n",
       "    </tr>\n",
       "    <tr>\n",
       "      <th>4</th>\n",
       "      <td>MainScreenAppear</td>\n",
       "      <td>1433840883824088890</td>\n",
       "      <td>2019-08-01 00:08:59</td>\n",
       "      <td>A2</td>\n",
       "      <td>2019-08-01</td>\n",
       "    </tr>\n",
       "    <tr>\n",
       "      <th>...</th>\n",
       "      <td>...</td>\n",
       "      <td>...</td>\n",
       "      <td>...</td>\n",
       "      <td>...</td>\n",
       "      <td>...</td>\n",
       "    </tr>\n",
       "    <tr>\n",
       "      <th>240882</th>\n",
       "      <td>MainScreenAppear</td>\n",
       "      <td>4599628364049201812</td>\n",
       "      <td>2019-08-07 21:12:25</td>\n",
       "      <td>A2</td>\n",
       "      <td>2019-08-07</td>\n",
       "    </tr>\n",
       "    <tr>\n",
       "      <th>240883</th>\n",
       "      <td>MainScreenAppear</td>\n",
       "      <td>5849806612437486590</td>\n",
       "      <td>2019-08-07 21:13:59</td>\n",
       "      <td>A1</td>\n",
       "      <td>2019-08-07</td>\n",
       "    </tr>\n",
       "    <tr>\n",
       "      <th>240884</th>\n",
       "      <td>MainScreenAppear</td>\n",
       "      <td>5746969938801999050</td>\n",
       "      <td>2019-08-07 21:14:43</td>\n",
       "      <td>A1</td>\n",
       "      <td>2019-08-07</td>\n",
       "    </tr>\n",
       "    <tr>\n",
       "      <th>240885</th>\n",
       "      <td>MainScreenAppear</td>\n",
       "      <td>5746969938801999050</td>\n",
       "      <td>2019-08-07 21:14:58</td>\n",
       "      <td>A1</td>\n",
       "      <td>2019-08-07</td>\n",
       "    </tr>\n",
       "    <tr>\n",
       "      <th>240886</th>\n",
       "      <td>OffersScreenAppear</td>\n",
       "      <td>5746969938801999050</td>\n",
       "      <td>2019-08-07 21:15:17</td>\n",
       "      <td>A1</td>\n",
       "      <td>2019-08-07</td>\n",
       "    </tr>\n",
       "  </tbody>\n",
       "</table>\n",
       "<p>240887 rows × 5 columns</p>\n",
       "</div>"
      ],
      "text/plain": [
       "                event_name              user_id                  dt group  \\\n",
       "0                 Tutorial  3737462046622621720 2019-08-01 00:07:28    A1   \n",
       "1         MainScreenAppear  3737462046622621720 2019-08-01 00:08:00    A1   \n",
       "2         MainScreenAppear  3737462046622621720 2019-08-01 00:08:55    A1   \n",
       "3       OffersScreenAppear  3737462046622621720 2019-08-01 00:08:58    A1   \n",
       "4         MainScreenAppear  1433840883824088890 2019-08-01 00:08:59    A2   \n",
       "...                    ...                  ...                 ...   ...   \n",
       "240882    MainScreenAppear  4599628364049201812 2019-08-07 21:12:25    A2   \n",
       "240883    MainScreenAppear  5849806612437486590 2019-08-07 21:13:59    A1   \n",
       "240884    MainScreenAppear  5746969938801999050 2019-08-07 21:14:43    A1   \n",
       "240885    MainScreenAppear  5746969938801999050 2019-08-07 21:14:58    A1   \n",
       "240886  OffersScreenAppear  5746969938801999050 2019-08-07 21:15:17    A1   \n",
       "\n",
       "             date  \n",
       "0      2019-08-01  \n",
       "1      2019-08-01  \n",
       "2      2019-08-01  \n",
       "3      2019-08-01  \n",
       "4      2019-08-01  \n",
       "...           ...  \n",
       "240882 2019-08-07  \n",
       "240883 2019-08-07  \n",
       "240884 2019-08-07  \n",
       "240885 2019-08-07  \n",
       "240886 2019-08-07  \n",
       "\n",
       "[240887 rows x 5 columns]"
      ]
     },
     "execution_count": 26,
     "metadata": {},
     "output_type": "execute_result"
    }
   ],
   "source": [
    "data_new"
   ]
  },
  {
   "cell_type": "code",
   "execution_count": 27,
   "metadata": {},
   "outputs": [
    {
     "data": {
      "text/plain": [
       "MainScreenAppear           117328\n",
       "OffersScreenAppear          46333\n",
       "CartScreenAppear            42303\n",
       "PaymentScreenSuccessful     33918\n",
       "Tutorial                     1005\n",
       "Name: event_name, dtype: int64"
      ]
     },
     "execution_count": 27,
     "metadata": {},
     "output_type": "execute_result"
    }
   ],
   "source": [
    "data_new['event_name'].value_counts()"
   ]
  },
  {
   "cell_type": "markdown",
   "metadata": {},
   "source": [
    "Для работы с событиями, следует разобраться с обозначениями событий:\n",
    "\n",
    "- MainScreenAppear - Появление главной страницы приложения\n",
    "- OffersScreenAppear - Появление страницы с предложениями\n",
    "- CartScreenAppear - Появление страницы с корзиной клиента\n",
    "- PaymentScreenSuccessful - Появление уведомления об успешной оплате покупок\n",
    "- Tutorial - Инструкция по пользованию\n",
    "\n",
    "Таким образом, мы видим, что наиболее популярное событие в логах - MainScreenAppear, появление главной страницы.\n",
    "Наименее популярное событие - туториал."
   ]
  },
  {
   "cell_type": "code",
   "execution_count": 28,
   "metadata": {},
   "outputs": [
    {
     "data": {
      "image/png": "[encoded data removed]",
      "text/plain": [
       "<Figure size 432x288 with 1 Axes>"
      ]
     },
     "metadata": {
      "needs_background": "light"
     },
     "output_type": "display_data"
    }
   ],
   "source": [
    "data_new['event_name'].value_counts(ascending = True).plot(\n",
    "    kind = 'barh', \n",
    "    grid = True, \n",
    "    title = 'Частота появления событий', \n",
    "    ylabel = 'Количество')\n",
    "None"
   ]
  },
  {
   "cell_type": "markdown",
   "metadata": {},
   "source": [
    "### Посчитаем, сколько пользователей совершали каждое из этих событий. \n",
    "Отсортируйте события по числу пользователей. Посчитайте долю пользователей, которые хоть раз совершали событие."
   ]
  },
  {
   "cell_type": "code",
   "execution_count": 29,
   "metadata": {},
   "outputs": [],
   "source": [
    "event_user = data_new.pivot_table(\n",
    "             index = 'event_name', \n",
    "             values = 'user_id', \n",
    "             aggfunc = 'nunique').sort_values(by='user_id', ascending= False).reset_index()\n",
    "\n",
    "event_user.columns = ['event_name', 'count']"
   ]
  },
  {
   "cell_type": "code",
   "execution_count": 30,
   "metadata": {},
   "outputs": [
    {
     "data": {
      "text/html": [
       "<div>\n",
       "<style scoped>\n",
       "    .dataframe tbody tr th:only-of-type {\n",
       "        vertical-align: middle;\n",
       "    }\n",
       "\n",
       "    .dataframe tbody tr th {\n",
       "        vertical-align: top;\n",
       "    }\n",
       "\n",
       "    .dataframe thead th {\n",
       "        text-align: right;\n",
       "    }\n",
       "</style>\n",
       "<table border=\"1\" class=\"dataframe\">\n",
       "  <thead>\n",
       "    <tr style=\"text-align: right;\">\n",
       "      <th></th>\n",
       "      <th>event_name</th>\n",
       "      <th>count</th>\n",
       "      <th>ratio</th>\n",
       "    </tr>\n",
       "  </thead>\n",
       "  <tbody>\n",
       "    <tr>\n",
       "      <th>0</th>\n",
       "      <td>MainScreenAppear</td>\n",
       "      <td>7419</td>\n",
       "      <td>98.47</td>\n",
       "    </tr>\n",
       "    <tr>\n",
       "      <th>1</th>\n",
       "      <td>OffersScreenAppear</td>\n",
       "      <td>4593</td>\n",
       "      <td>60.96</td>\n",
       "    </tr>\n",
       "    <tr>\n",
       "      <th>2</th>\n",
       "      <td>CartScreenAppear</td>\n",
       "      <td>3734</td>\n",
       "      <td>49.56</td>\n",
       "    </tr>\n",
       "    <tr>\n",
       "      <th>3</th>\n",
       "      <td>PaymentScreenSuccessful</td>\n",
       "      <td>3539</td>\n",
       "      <td>46.97</td>\n",
       "    </tr>\n",
       "    <tr>\n",
       "      <th>4</th>\n",
       "      <td>Tutorial</td>\n",
       "      <td>840</td>\n",
       "      <td>11.15</td>\n",
       "    </tr>\n",
       "  </tbody>\n",
       "</table>\n",
       "</div>"
      ],
      "text/plain": [
       "                event_name  count  ratio\n",
       "0         MainScreenAppear   7419  98.47\n",
       "1       OffersScreenAppear   4593  60.96\n",
       "2         CartScreenAppear   3734  49.56\n",
       "3  PaymentScreenSuccessful   3539  46.97\n",
       "4                 Tutorial    840  11.15"
      ]
     },
     "execution_count": 30,
     "metadata": {},
     "output_type": "execute_result"
    }
   ],
   "source": [
    "event_user['ratio'] = round(event_user['count']/data_new['user_id'].nunique()*100, 2)\n",
    "event_user"
   ]
  },
  {
   "cell_type": "markdown",
   "metadata": {},
   "source": [
    "### Предположим, в каком порядке происходят события\n"
   ]
  },
  {
   "cell_type": "markdown",
   "metadata": {},
   "source": [
    "**Вывод:**\n",
    "\n",
    "Вырисовывается определенная последовательность, воронка.\n",
    "1. Сначала человек попадает на главную страницу приложения (MainScreenAppear);\n",
    "2. Далее переходит на страницу с предложениями (OffersScreenAppear);\n",
    "3. Добавляет необходимое и переходит в корзину (CartScreenAppear);\n",
    "4. Оплачивает заказ (CartScreenAppear).\n",
    "\n",
    "Также, стоит отметить, что существует пункт с туториалом, т.е. инструкцией (Tutorial), но очевидно, что данный пункт не участвует непосредственно в воронке, а является необязательным пунктом, который можно скипнуть. Он идет после важного целевого действия - оплаты."
   ]
  },
  {
   "cell_type": "markdown",
   "metadata": {},
   "source": [
    "### По воронке событий посчитаем, какая доля пользователей проходит на следующий шаг воронки (от числа пользователей на предыдущем)"
   ]
  },
  {
   "cell_type": "code",
   "execution_count": 31,
   "metadata": {},
   "outputs": [
    {
     "data": {
      "text/html": [
       "<div>\n",
       "<style scoped>\n",
       "    .dataframe tbody tr th:only-of-type {\n",
       "        vertical-align: middle;\n",
       "    }\n",
       "\n",
       "    .dataframe tbody tr th {\n",
       "        vertical-align: top;\n",
       "    }\n",
       "\n",
       "    .dataframe thead th {\n",
       "        text-align: right;\n",
       "    }\n",
       "</style>\n",
       "<table border=\"1\" class=\"dataframe\">\n",
       "  <thead>\n",
       "    <tr style=\"text-align: right;\">\n",
       "      <th></th>\n",
       "      <th>event_name</th>\n",
       "      <th>count</th>\n",
       "      <th>conversion</th>\n",
       "    </tr>\n",
       "  </thead>\n",
       "  <tbody>\n",
       "    <tr>\n",
       "      <th>0</th>\n",
       "      <td>MainScreenAppear</td>\n",
       "      <td>7419</td>\n",
       "      <td>100.0</td>\n",
       "    </tr>\n",
       "    <tr>\n",
       "      <th>1</th>\n",
       "      <td>OffersScreenAppear</td>\n",
       "      <td>4593</td>\n",
       "      <td>61.9</td>\n",
       "    </tr>\n",
       "    <tr>\n",
       "      <th>2</th>\n",
       "      <td>CartScreenAppear</td>\n",
       "      <td>3734</td>\n",
       "      <td>81.3</td>\n",
       "    </tr>\n",
       "    <tr>\n",
       "      <th>3</th>\n",
       "      <td>PaymentScreenSuccessful</td>\n",
       "      <td>3539</td>\n",
       "      <td>94.8</td>\n",
       "    </tr>\n",
       "    <tr>\n",
       "      <th>4</th>\n",
       "      <td>Tutorial</td>\n",
       "      <td>840</td>\n",
       "      <td>23.7</td>\n",
       "    </tr>\n",
       "  </tbody>\n",
       "</table>\n",
       "</div>"
      ],
      "text/plain": [
       "                event_name  count  conversion\n",
       "0         MainScreenAppear   7419       100.0\n",
       "1       OffersScreenAppear   4593        61.9\n",
       "2         CartScreenAppear   3734        81.3\n",
       "3  PaymentScreenSuccessful   3539        94.8\n",
       "4                 Tutorial    840        23.7"
      ]
     },
     "execution_count": 31,
     "metadata": {},
     "output_type": "execute_result"
    }
   ],
   "source": [
    "\n",
    "funnel = event_user[['event_name', 'count']]\n",
    "\n",
    "# используем метод shift\n",
    "funnel['shift'] = funnel['count'].shift(1, fill_value = funnel['count'].loc[funnel.index[0]])\n",
    "\n",
    "funnel['conversion'] = round(funnel['count']/funnel['shift']*100, 1)\n",
    "\n",
    "#в итоговой таблице оставим только количество уникальных пользователей и конверсией\n",
    "funnel = funnel[['event_name', 'count', 'conversion']]\n",
    "funnel"
   ]
  },
  {
   "cell_type": "markdown",
   "metadata": {},
   "source": [
    "**Вывод:**\n",
    "\n",
    "Наибольшая потеря клиентов случается на втором шаге - когда пользователь переходит с главной страницы на страницу с предложениями/товарами. Возможно, существуют технические проблемы при переходе."
   ]
  },
  {
   "cell_type": "code",
   "execution_count": 34,
   "metadata": {},
   "outputs": [
    {
     "data": {
      "application/vnd.plotly.v1+json": {
       "config": {
        "plotlyServerURL": "https://plot.ly"
       },
       "data": [
        {
         "connector": {
          "fillcolor": "#a6bddb"
         },
         "insidetextfont": {
          "color": "white",
          "size": 14
         },
         "marker": {
          "color": [
           "#016450",
           "#02818a",
           "#3690c0",
           "#fc9272"
          ],
          "line": {
           "color": [
            "white",
            "white",
            "white",
            "white"
           ],
           "width": [
            3,
            2,
            2,
            2
           ]
          }
         },
         "textinfo": "value+percent initial+percent previous",
         "textposition": "inside",
         "type": "funnel",
         "x": [
          7419,
          4593,
          3734,
          3539
         ],
         "y": [
          "MainScreenAppear",
          "OffersScreenAppear",
          "CartScreenAppear",
          "PaymentScreenSuccessful"
         ]
        }
       ],
       "layout": {
        "template": {
         "data": {
          "bar": [
           {
            "error_x": {
             "color": "#2a3f5f"
            },
            "error_y": {
             "color": "#2a3f5f"
            },
            "marker": {
             "line": {
              "color": "#E5ECF6",
              "width": 0.5
             },
             "pattern": {
              "fillmode": "overlay",
              "size": 10,
              "solidity": 0.2
             }
            },
            "type": "bar"
           }
          ],
          "barpolar": [
           {
            "marker": {
             "line": {
              "color": "#E5ECF6",
              "width": 0.5
             },
             "pattern": {
              "fillmode": "overlay",
              "size": 10,
              "solidity": 0.2
             }
            },
            "type": "barpolar"
           }
          ],
          "carpet": [
           {
            "aaxis": {
             "endlinecolor": "#2a3f5f",
             "gridcolor": "white",
             "linecolor": "white",
             "minorgridcolor": "white",
             "startlinecolor": "#2a3f5f"
            },
            "baxis": {
             "endlinecolor": "#2a3f5f",
             "gridcolor": "white",
             "linecolor": "white",
             "minorgridcolor": "white",
             "startlinecolor": "#2a3f5f"
            },
            "type": "carpet"
           }
          ],
          "choropleth": [
           {
            "colorbar": {
             "outlinewidth": 0,
             "ticks": ""
            },
            "type": "choropleth"
           }
          ],
          "contour": [
           {
            "colorbar": {
             "outlinewidth": 0,
             "ticks": ""
            },
            "colorscale": [
             [
              0,
              "#0d0887"
             ],
             [
              0.1111111111111111,
              "#46039f"
             ],
             [
              0.2222222222222222,
              "#7201a8"
             ],
             [
              0.3333333333333333,
              "#9c179e"
             ],
             [
              0.4444444444444444,
              "#bd3786"
             ],
             [
              0.5555555555555556,
              "#d8576b"
             ],
             [
              0.6666666666666666,
              "#ed7953"
             ],
             [
              0.7777777777777778,
              "#fb9f3a"
             ],
             [
              0.8888888888888888,
              "#fdca26"
             ],
             [
              1,
              "#f0f921"
             ]
            ],
            "type": "contour"
           }
          ],
          "contourcarpet": [
           {
            "colorbar": {
             "outlinewidth": 0,
             "ticks": ""
            },
            "type": "contourcarpet"
           }
          ],
          "heatmap": [
           {
            "colorbar": {
             "outlinewidth": 0,
             "ticks": ""
            },
            "colorscale": [
             [
              0,
              "#0d0887"
             ],
             [
              0.1111111111111111,
              "#46039f"
             ],
             [
              0.2222222222222222,
              "#7201a8"
             ],
             [
              0.3333333333333333,
              "#9c179e"
             ],
             [
              0.4444444444444444,
              "#bd3786"
             ],
             [
              0.5555555555555556,
              "#d8576b"
             ],
             [
              0.6666666666666666,
              "#ed7953"
             ],
             [
              0.7777777777777778,
              "#fb9f3a"
             ],
             [
              0.8888888888888888,
              "#fdca26"
             ],
             [
              1,
              "#f0f921"
             ]
            ],
            "type": "heatmap"
           }
          ],
          "heatmapgl": [
           {
            "colorbar": {
             "outlinewidth": 0,
             "ticks": ""
            },
            "colorscale": [
             [
              0,
              "#0d0887"
             ],
             [
              0.1111111111111111,
              "#46039f"
             ],
             [
              0.2222222222222222,
              "#7201a8"
             ],
             [
              0.3333333333333333,
              "#9c179e"
             ],
             [
              0.4444444444444444,
              "#bd3786"
             ],
             [
              0.5555555555555556,
              "#d8576b"
             ],
             [
              0.6666666666666666,
              "#ed7953"
             ],
             [
              0.7777777777777778,
              "#fb9f3a"
             ],
             [
              0.8888888888888888,
              "#fdca26"
             ],
             [
              1,
              "#f0f921"
             ]
            ],
            "type": "heatmapgl"
           }
          ],
          "histogram": [
           {
            "marker": {
             "pattern": {
              "fillmode": "overlay",
              "size": 10,
              "solidity": 0.2
             }
            },
            "type": "histogram"
           }
          ],
          "histogram2d": [
           {
            "colorbar": {
             "outlinewidth": 0,
             "ticks": ""
            },
            "colorscale": [
             [
              0,
              "#0d0887"
             ],
             [
              0.1111111111111111,
              "#46039f"
             ],
             [
              0.2222222222222222,
              "#7201a8"
             ],
             [
              0.3333333333333333,
              "#9c179e"
             ],
             [
              0.4444444444444444,
              "#bd3786"
             ],
             [
              0.5555555555555556,
              "#d8576b"
             ],
             [
              0.6666666666666666,
              "#ed7953"
             ],
             [
              0.7777777777777778,
              "#fb9f3a"
             ],
             [
              0.8888888888888888,
              "#fdca26"
             ],
             [
              1,
              "#f0f921"
             ]
            ],
            "type": "histogram2d"
           }
          ],
          "histogram2dcontour": [
           {
            "colorbar": {
             "outlinewidth": 0,
             "ticks": ""
            },
            "colorscale": [
             [
              0,
              "#0d0887"
             ],
             [
              0.1111111111111111,
              "#46039f"
             ],
             [
              0.2222222222222222,
              "#7201a8"
             ],
             [
              0.3333333333333333,
              "#9c179e"
             ],
             [
              0.4444444444444444,
              "#bd3786"
             ],
             [
              0.5555555555555556,
              "#d8576b"
             ],
             [
              0.6666666666666666,
              "#ed7953"
             ],
             [
              0.7777777777777778,
              "#fb9f3a"
             ],
             [
              0.8888888888888888,
              "#fdca26"
             ],
             [
              1,
              "#f0f921"
             ]
            ],
            "type": "histogram2dcontour"
           }
          ],
          "mesh3d": [
           {
            "colorbar": {
             "outlinewidth": 0,
             "ticks": ""
            },
            "type": "mesh3d"
           }
          ],
          "parcoords": [
           {
            "line": {
             "colorbar": {
              "outlinewidth": 0,
              "ticks": ""
             }
            },
            "type": "parcoords"
           }
          ],
          "pie": [
           {
            "automargin": true,
            "type": "pie"
           }
          ],
          "scatter": [
           {
            "marker": {
             "colorbar": {
              "outlinewidth": 0,
              "ticks": ""
             }
            },
            "type": "scatter"
           }
          ],
          "scatter3d": [
           {
            "line": {
             "colorbar": {
              "outlinewidth": 0,
              "ticks": ""
             }
            },
            "marker": {
             "colorbar": {
              "outlinewidth": 0,
              "ticks": ""
             }
            },
            "type": "scatter3d"
           }
          ],
          "scattercarpet": [
           {
            "marker": {
             "colorbar": {
              "outlinewidth": 0,
              "ticks": ""
             }
            },
            "type": "scattercarpet"
           }
          ],
          "scattergeo": [
           {
            "marker": {
             "colorbar": {
              "outlinewidth": 0,
              "ticks": ""
             }
            },
            "type": "scattergeo"
           }
          ],
          "scattergl": [
           {
            "marker": {
             "colorbar": {
              "outlinewidth": 0,
              "ticks": ""
             }
            },
            "type": "scattergl"
           }
          ],
          "scattermapbox": [
           {
            "marker": {
             "colorbar": {
              "outlinewidth": 0,
              "ticks": ""
             }
            },
            "type": "scattermapbox"
           }
          ],
          "scatterpolar": [
           {
            "marker": {
             "colorbar": {
              "outlinewidth": 0,
              "ticks": ""
             }
            },
            "type": "scatterpolar"
           }
          ],
          "scatterpolargl": [
           {
            "marker": {
             "colorbar": {
              "outlinewidth": 0,
              "ticks": ""
             }
            },
            "type": "scatterpolargl"
           }
          ],
          "scatterternary": [
           {
            "marker": {
             "colorbar": {
              "outlinewidth": 0,
              "ticks": ""
             }
            },
            "type": "scatterternary"
           }
          ],
          "surface": [
           {
            "colorbar": {
             "outlinewidth": 0,
             "ticks": ""
            },
            "colorscale": [
             [
              0,
              "#0d0887"
             ],
             [
              0.1111111111111111,
              "#46039f"
             ],
             [
              0.2222222222222222,
              "#7201a8"
             ],
             [
              0.3333333333333333,
              "#9c179e"
             ],
             [
              0.4444444444444444,
              "#bd3786"
             ],
             [
              0.5555555555555556,
              "#d8576b"
             ],
             [
              0.6666666666666666,
              "#ed7953"
             ],
             [
              0.7777777777777778,
              "#fb9f3a"
             ],
             [
              0.8888888888888888,
              "#fdca26"
             ],
             [
              1,
              "#f0f921"
             ]
            ],
            "type": "surface"
           }
          ],
          "table": [
           {
            "cells": {
             "fill": {
              "color": "#EBF0F8"
             },
             "line": {
              "color": "white"
             }
            },
            "header": {
             "fill": {
              "color": "#C8D4E3"
             },
             "line": {
              "color": "white"
             }
            },
            "type": "table"
           }
          ]
         },
         "layout": {
          "annotationdefaults": {
           "arrowcolor": "#2a3f5f",
           "arrowhead": 0,
           "arrowwidth": 1
          },
          "autotypenumbers": "strict",
          "coloraxis": {
           "colorbar": {
            "outlinewidth": 0,
            "ticks": ""
           }
          },
          "colorscale": {
           "diverging": [
            [
             0,
             "#8e0152"
            ],
            [
             0.1,
             "#c51b7d"
            ],
            [
             0.2,
             "#de77ae"
            ],
            [
             0.3,
             "#f1b6da"
            ],
            [
             0.4,
             "#fde0ef"
            ],
            [
             0.5,
             "#f7f7f7"
            ],
            [
             0.6,
             "#e6f5d0"
            ],
            [
             0.7,
             "#b8e186"
            ],
            [
             0.8,
             "#7fbc41"
            ],
            [
             0.9,
             "#4d9221"
            ],
            [
             1,
             "#276419"
            ]
           ],
           "sequential": [
            [
             0,
             "#0d0887"
            ],
            [
             0.1111111111111111,
             "#46039f"
            ],
            [
             0.2222222222222222,
             "#7201a8"
            ],
            [
             0.3333333333333333,
             "#9c179e"
            ],
            [
             0.4444444444444444,
             "#bd3786"
            ],
            [
             0.5555555555555556,
             "#d8576b"
            ],
            [
             0.6666666666666666,
             "#ed7953"
            ],
            [
             0.7777777777777778,
             "#fb9f3a"
            ],
            [
             0.8888888888888888,
             "#fdca26"
            ],
            [
             1,
             "#f0f921"
            ]
           ],
           "sequentialminus": [
            [
             0,
             "#0d0887"
            ],
            [
             0.1111111111111111,
             "#46039f"
            ],
            [
             0.2222222222222222,
             "#7201a8"
            ],
            [
             0.3333333333333333,
             "#9c179e"
            ],
            [
             0.4444444444444444,
             "#bd3786"
            ],
            [
             0.5555555555555556,
             "#d8576b"
            ],
            [
             0.6666666666666666,
             "#ed7953"
            ],
            [
             0.7777777777777778,
             "#fb9f3a"
            ],
            [
             0.8888888888888888,
             "#fdca26"
            ],
            [
             1,
             "#f0f921"
            ]
           ]
          },
          "colorway": [
           "#636efa",
           "#EF553B",
           "#00cc96",
           "#ab63fa",
           "#FFA15A",
           "#19d3f3",
           "#FF6692",
           "#B6E880",
           "#FF97FF",
           "#FECB52"
          ],
          "font": {
           "color": "#2a3f5f"
          },
          "geo": {
           "bgcolor": "white",
           "lakecolor": "white",
           "landcolor": "#E5ECF6",
           "showlakes": true,
           "showland": true,
           "subunitcolor": "white"
          },
          "hoverlabel": {
           "align": "left"
          },
          "hovermode": "closest",
          "mapbox": {
           "style": "light"
          },
          "paper_bgcolor": "white",
          "plot_bgcolor": "#E5ECF6",
          "polar": {
           "angularaxis": {
            "gridcolor": "white",
            "linecolor": "white",
            "ticks": ""
           },
           "bgcolor": "#E5ECF6",
           "radialaxis": {
            "gridcolor": "white",
            "linecolor": "white",
            "ticks": ""
           }
          },
          "scene": {
           "xaxis": {
            "backgroundcolor": "#E5ECF6",
            "gridcolor": "white",
            "gridwidth": 2,
            "linecolor": "white",
            "showbackground": true,
            "ticks": "",
            "zerolinecolor": "white"
           },
           "yaxis": {
            "backgroundcolor": "#E5ECF6",
            "gridcolor": "white",
            "gridwidth": 2,
            "linecolor": "white",
            "showbackground": true,
            "ticks": "",
            "zerolinecolor": "white"
           },
           "zaxis": {
            "backgroundcolor": "#E5ECF6",
            "gridcolor": "white",
            "gridwidth": 2,
            "linecolor": "white",
            "showbackground": true,
            "ticks": "",
            "zerolinecolor": "white"
           }
          },
          "shapedefaults": {
           "line": {
            "color": "#2a3f5f"
           }
          },
          "ternary": {
           "aaxis": {
            "gridcolor": "white",
            "linecolor": "white",
            "ticks": ""
           },
           "baxis": {
            "gridcolor": "white",
            "linecolor": "white",
            "ticks": ""
           },
           "bgcolor": "#E5ECF6",
           "caxis": {
            "gridcolor": "white",
            "linecolor": "white",
            "ticks": ""
           }
          },
          "title": {
           "x": 0.05
          },
          "xaxis": {
           "automargin": true,
           "gridcolor": "white",
           "linecolor": "white",
           "ticks": "",
           "title": {
            "standoff": 15
           },
           "zerolinecolor": "white",
           "zerolinewidth": 2
          },
          "yaxis": {
           "automargin": true,
           "gridcolor": "white",
           "linecolor": "white",
           "ticks": "",
           "title": {
            "standoff": 15
           },
           "zerolinecolor": "white",
           "zerolinewidth": 2
          }
         }
        }
       }
      },
      "text/html": [
       "<div>                            <div id=\"c3c60c45-7f45-4d29-b816-cd7237e527fd\" class=\"plotly-graph-div\" style=\"height:525px; width:100%;\"></div>            <script type=\"text/javascript\">                require([\"plotly\"], function(Plotly) {                    window.PLOTLYENV=window.PLOTLYENV || {};                                    if (document.getElementById(\"c3c60c45-7f45-4d29-b816-cd7237e527fd\")) {                    Plotly.newPlot(                        \"c3c60c45-7f45-4d29-b816-cd7237e527fd\",                        [{\"connector\":{\"fillcolor\":\"#a6bddb\"},\"insidetextfont\":{\"color\":\"white\",\"size\":14},\"marker\":{\"color\":[\"#016450\",\"#02818a\",\"#3690c0\",\"#fc9272\"],\"line\":{\"color\":[\"white\",\"white\",\"white\",\"white\"],\"width\":[3,2,2,2]}},\"textinfo\":\"value+percent initial+percent previous\",\"textposition\":\"inside\",\"x\":[7419,4593,3734,3539],\"y\":[\"MainScreenAppear\",\"OffersScreenAppear\",\"CartScreenAppear\",\"PaymentScreenSuccessful\"],\"type\":\"funnel\"}],                        {\"template\":{\"data\":{\"bar\":[{\"error_x\":{\"color\":\"#2a3f5f\"},\"error_y\":{\"color\":\"#2a3f5f\"},\"marker\":{\"line\":{\"color\":\"#E5ECF6\",\"width\":0.5},\"pattern\":{\"fillmode\":\"overlay\",\"size\":10,\"solidity\":0.2}},\"type\":\"bar\"}],\"barpolar\":[{\"marker\":{\"line\":{\"color\":\"#E5ECF6\",\"width\":0.5},\"pattern\":{\"fillmode\":\"overlay\",\"size\":10,\"solidity\":0.2}},\"type\":\"barpolar\"}],\"carpet\":[{\"aaxis\":{\"endlinecolor\":\"#2a3f5f\",\"gridcolor\":\"white\",\"linecolor\":\"white\",\"minorgridcolor\":\"white\",\"startlinecolor\":\"#2a3f5f\"},\"baxis\":{\"endlinecolor\":\"#2a3f5f\",\"gridcolor\":\"white\",\"linecolor\":\"white\",\"minorgridcolor\":\"white\",\"startlinecolor\":\"#2a3f5f\"},\"type\":\"carpet\"}],\"choropleth\":[{\"colorbar\":{\"outlinewidth\":0,\"ticks\":\"\"},\"type\":\"choropleth\"}],\"contour\":[{\"colorbar\":{\"outlinewidth\":0,\"ticks\":\"\"},\"colorscale\":[[0.0,\"#0d0887\"],[0.1111111111111111,\"#46039f\"],[0.2222222222222222,\"#7201a8\"],[0.3333333333333333,\"#9c179e\"],[0.4444444444444444,\"#bd3786\"],[0.5555555555555556,\"#d8576b\"],[0.6666666666666666,\"#ed7953\"],[0.7777777777777778,\"#fb9f3a\"],[0.8888888888888888,\"#fdca26\"],[1.0,\"#f0f921\"]],\"type\":\"contour\"}],\"contourcarpet\":[{\"colorbar\":{\"outlinewidth\":0,\"ticks\":\"\"},\"type\":\"contourcarpet\"}],\"heatmap\":[{\"colorbar\":{\"outlinewidth\":0,\"ticks\":\"\"},\"colorscale\":[[0.0,\"#0d0887\"],[0.1111111111111111,\"#46039f\"],[0.2222222222222222,\"#7201a8\"],[0.3333333333333333,\"#9c179e\"],[0.4444444444444444,\"#bd3786\"],[0.5555555555555556,\"#d8576b\"],[0.6666666666666666,\"#ed7953\"],[0.7777777777777778,\"#fb9f3a\"],[0.8888888888888888,\"#fdca26\"],[1.0,\"#f0f921\"]],\"type\":\"heatmap\"}],\"heatmapgl\":[{\"colorbar\":{\"outlinewidth\":0,\"ticks\":\"\"},\"colorscale\":[[0.0,\"#0d0887\"],[0.1111111111111111,\"#46039f\"],[0.2222222222222222,\"#7201a8\"],[0.3333333333333333,\"#9c179e\"],[0.4444444444444444,\"#bd3786\"],[0.5555555555555556,\"#d8576b\"],[0.6666666666666666,\"#ed7953\"],[0.7777777777777778,\"#fb9f3a\"],[0.8888888888888888,\"#fdca26\"],[1.0,\"#f0f921\"]],\"type\":\"heatmapgl\"}],\"histogram\":[{\"marker\":{\"pattern\":{\"fillmode\":\"overlay\",\"size\":10,\"solidity\":0.2}},\"type\":\"histogram\"}],\"histogram2d\":[{\"colorbar\":{\"outlinewidth\":0,\"ticks\":\"\"},\"colorscale\":[[0.0,\"#0d0887\"],[0.1111111111111111,\"#46039f\"],[0.2222222222222222,\"#7201a8\"],[0.3333333333333333,\"#9c179e\"],[0.4444444444444444,\"#bd3786\"],[0.5555555555555556,\"#d8576b\"],[0.6666666666666666,\"#ed7953\"],[0.7777777777777778,\"#fb9f3a\"],[0.8888888888888888,\"#fdca26\"],[1.0,\"#f0f921\"]],\"type\":\"histogram2d\"}],\"histogram2dcontour\":[{\"colorbar\":{\"outlinewidth\":0,\"ticks\":\"\"},\"colorscale\":[[0.0,\"#0d0887\"],[0.1111111111111111,\"#46039f\"],[0.2222222222222222,\"#7201a8\"],[0.3333333333333333,\"#9c179e\"],[0.4444444444444444,\"#bd3786\"],[0.5555555555555556,\"#d8576b\"],[0.6666666666666666,\"#ed7953\"],[0.7777777777777778,\"#fb9f3a\"],[0.8888888888888888,\"#fdca26\"],[1.0,\"#f0f921\"]],\"type\":\"histogram2dcontour\"}],\"mesh3d\":[{\"colorbar\":{\"outlinewidth\":0,\"ticks\":\"\"},\"type\":\"mesh3d\"}],\"parcoords\":[{\"line\":{\"colorbar\":{\"outlinewidth\":0,\"ticks\":\"\"}},\"type\":\"parcoords\"}],\"pie\":[{\"automargin\":true,\"type\":\"pie\"}],\"scatter\":[{\"marker\":{\"colorbar\":{\"outlinewidth\":0,\"ticks\":\"\"}},\"type\":\"scatter\"}],\"scatter3d\":[{\"line\":{\"colorbar\":{\"outlinewidth\":0,\"ticks\":\"\"}},\"marker\":{\"colorbar\":{\"outlinewidth\":0,\"ticks\":\"\"}},\"type\":\"scatter3d\"}],\"scattercarpet\":[{\"marker\":{\"colorbar\":{\"outlinewidth\":0,\"ticks\":\"\"}},\"type\":\"scattercarpet\"}],\"scattergeo\":[{\"marker\":{\"colorbar\":{\"outlinewidth\":0,\"ticks\":\"\"}},\"type\":\"scattergeo\"}],\"scattergl\":[{\"marker\":{\"colorbar\":{\"outlinewidth\":0,\"ticks\":\"\"}},\"type\":\"scattergl\"}],\"scattermapbox\":[{\"marker\":{\"colorbar\":{\"outlinewidth\":0,\"ticks\":\"\"}},\"type\":\"scattermapbox\"}],\"scatterpolar\":[{\"marker\":{\"colorbar\":{\"outlinewidth\":0,\"ticks\":\"\"}},\"type\":\"scatterpolar\"}],\"scatterpolargl\":[{\"marker\":{\"colorbar\":{\"outlinewidth\":0,\"ticks\":\"\"}},\"type\":\"scatterpolargl\"}],\"scatterternary\":[{\"marker\":{\"colorbar\":{\"outlinewidth\":0,\"ticks\":\"\"}},\"type\":\"scatterternary\"}],\"surface\":[{\"colorbar\":{\"outlinewidth\":0,\"ticks\":\"\"},\"colorscale\":[[0.0,\"#0d0887\"],[0.1111111111111111,\"#46039f\"],[0.2222222222222222,\"#7201a8\"],[0.3333333333333333,\"#9c179e\"],[0.4444444444444444,\"#bd3786\"],[0.5555555555555556,\"#d8576b\"],[0.6666666666666666,\"#ed7953\"],[0.7777777777777778,\"#fb9f3a\"],[0.8888888888888888,\"#fdca26\"],[1.0,\"#f0f921\"]],\"type\":\"surface\"}],\"table\":[{\"cells\":{\"fill\":{\"color\":\"#EBF0F8\"},\"line\":{\"color\":\"white\"}},\"header\":{\"fill\":{\"color\":\"#C8D4E3\"},\"line\":{\"color\":\"white\"}},\"type\":\"table\"}]},\"layout\":{\"annotationdefaults\":{\"arrowcolor\":\"#2a3f5f\",\"arrowhead\":0,\"arrowwidth\":1},\"autotypenumbers\":\"strict\",\"coloraxis\":{\"colorbar\":{\"outlinewidth\":0,\"ticks\":\"\"}},\"colorscale\":{\"diverging\":[[0,\"#8e0152\"],[0.1,\"#c51b7d\"],[0.2,\"#de77ae\"],[0.3,\"#f1b6da\"],[0.4,\"#fde0ef\"],[0.5,\"#f7f7f7\"],[0.6,\"#e6f5d0\"],[0.7,\"#b8e186\"],[0.8,\"#7fbc41\"],[0.9,\"#4d9221\"],[1,\"#276419\"]],\"sequential\":[[0.0,\"#0d0887\"],[0.1111111111111111,\"#46039f\"],[0.2222222222222222,\"#7201a8\"],[0.3333333333333333,\"#9c179e\"],[0.4444444444444444,\"#bd3786\"],[0.5555555555555556,\"#d8576b\"],[0.6666666666666666,\"#ed7953\"],[0.7777777777777778,\"#fb9f3a\"],[0.8888888888888888,\"#fdca26\"],[1.0,\"#f0f921\"]],\"sequentialminus\":[[0.0,\"#0d0887\"],[0.1111111111111111,\"#46039f\"],[0.2222222222222222,\"#7201a8\"],[0.3333333333333333,\"#9c179e\"],[0.4444444444444444,\"#bd3786\"],[0.5555555555555556,\"#d8576b\"],[0.6666666666666666,\"#ed7953\"],[0.7777777777777778,\"#fb9f3a\"],[0.8888888888888888,\"#fdca26\"],[1.0,\"#f0f921\"]]},\"colorway\":[\"#636efa\",\"#EF553B\",\"#00cc96\",\"#ab63fa\",\"#FFA15A\",\"#19d3f3\",\"#FF6692\",\"#B6E880\",\"#FF97FF\",\"#FECB52\"],\"font\":{\"color\":\"#2a3f5f\"},\"geo\":{\"bgcolor\":\"white\",\"lakecolor\":\"white\",\"landcolor\":\"#E5ECF6\",\"showlakes\":true,\"showland\":true,\"subunitcolor\":\"white\"},\"hoverlabel\":{\"align\":\"left\"},\"hovermode\":\"closest\",\"mapbox\":{\"style\":\"light\"},\"paper_bgcolor\":\"white\",\"plot_bgcolor\":\"#E5ECF6\",\"polar\":{\"angularaxis\":{\"gridcolor\":\"white\",\"linecolor\":\"white\",\"ticks\":\"\"},\"bgcolor\":\"#E5ECF6\",\"radialaxis\":{\"gridcolor\":\"white\",\"linecolor\":\"white\",\"ticks\":\"\"}},\"scene\":{\"xaxis\":{\"backgroundcolor\":\"#E5ECF6\",\"gridcolor\":\"white\",\"gridwidth\":2,\"linecolor\":\"white\",\"showbackground\":true,\"ticks\":\"\",\"zerolinecolor\":\"white\"},\"yaxis\":{\"backgroundcolor\":\"#E5ECF6\",\"gridcolor\":\"white\",\"gridwidth\":2,\"linecolor\":\"white\",\"showbackground\":true,\"ticks\":\"\",\"zerolinecolor\":\"white\"},\"zaxis\":{\"backgroundcolor\":\"#E5ECF6\",\"gridcolor\":\"white\",\"gridwidth\":2,\"linecolor\":\"white\",\"showbackground\":true,\"ticks\":\"\",\"zerolinecolor\":\"white\"}},\"shapedefaults\":{\"line\":{\"color\":\"#2a3f5f\"}},\"ternary\":{\"aaxis\":{\"gridcolor\":\"white\",\"linecolor\":\"white\",\"ticks\":\"\"},\"baxis\":{\"gridcolor\":\"white\",\"linecolor\":\"white\",\"ticks\":\"\"},\"bgcolor\":\"#E5ECF6\",\"caxis\":{\"gridcolor\":\"white\",\"linecolor\":\"white\",\"ticks\":\"\"}},\"title\":{\"x\":0.05},\"xaxis\":{\"automargin\":true,\"gridcolor\":\"white\",\"linecolor\":\"white\",\"ticks\":\"\",\"title\":{\"standoff\":15},\"zerolinecolor\":\"white\",\"zerolinewidth\":2},\"yaxis\":{\"automargin\":true,\"gridcolor\":\"white\",\"linecolor\":\"white\",\"ticks\":\"\",\"title\":{\"standoff\":15},\"zerolinecolor\":\"white\",\"zerolinewidth\":2}}}},                        {\"responsive\": true}                    ).then(function(){\n",
       "                            \n",
       "var gd = document.getElementById('c3c60c45-7f45-4d29-b816-cd7237e527fd');\n",
       "var x = new MutationObserver(function (mutations, observer) {{\n",
       "        var display = window.getComputedStyle(gd).display;\n",
       "        if (!display || display === 'none') {{\n",
       "            console.log([gd, 'removed!']);\n",
       "            Plotly.purge(gd);\n",
       "            observer.disconnect();\n",
       "        }}\n",
       "}});\n",
       "\n",
       "// Listen for the removal of the full notebook cells\n",
       "var notebookContainer = gd.closest('#notebook-container');\n",
       "if (notebookContainer) {{\n",
       "    x.observe(notebookContainer, {childList: true});\n",
       "}}\n",
       "\n",
       "// Listen for the clearing of the current output cell\n",
       "var outputEl = gd.closest('.output');\n",
       "if (outputEl) {{\n",
       "    x.observe(outputEl, {childList: true});\n",
       "}}\n",
       "\n",
       "                        })                };                });            </script>        </div>"
      ]
     },
     "metadata": {},
     "output_type": "display_data"
    }
   ],
   "source": [
    "from plotly import graph_objects as go\n",
    "\n",
    "fig = go.Figure(go.Funnel(\n",
    "    y = [\"MainScreenAppear\", \"OffersScreenAppear\", \"CartScreenAppear\", \"PaymentScreenSuccessful\"],\n",
    "    x = [7419, 4593, 3734, 3539],\n",
    "    textposition = \"inside\",\n",
    "    textinfo = \"value+percent initial+percent previous\",\n",
    "    marker = {\"color\": [\"#016450\", \"#02818a\", \"#3690c0\", \"#fc9272\"],\n",
    "    \"line\": {\"width\": [3, 2, 2, 2], \"color\": [\"white\", \"white\", \"white\", \"white\"]}},\n",
    "    connector = {\"fillcolor\": '#a6bddb'},\n",
    "        insidetextfont = {'color': 'white', 'size': 14})\n",
    "    )\n",
    "\n",
    "\n",
    "fig.show()"
   ]
  },
  {
   "cell_type": "markdown",
   "metadata": {},
   "source": [
    "**Выводы по шагу 3:**\n",
    "\n",
    "Выявлена воронка событий для пользователя:\n",
    "1. Сначала человек попадает на главную страницу приложения (MainScreenAppear);\n",
    "2. Далее переходит на страницу с предложениями (OffersScreenAppear);\n",
    "3. Добавляет необходимое и переходит в корзину (CartScreenAppear);\n",
    "4. Оплачивает заказ (CartScreenAppear).\n",
    "\n",
    "Наибольшая потеря клиентов случается на втором шаге - когда пользователь переходит с главной страницы на страницу с предложениями/товарами. На это могут оказывать влияние технические неполадки при загрузке страниц или же пользователям попросту неинтересны предложения от магазина. Однако 47.7 процентов пользователей проходят путь от главной страницы до оплаты.\n",
    "\n"
   ]
  },
  {
   "cell_type": "markdown",
   "metadata": {},
   "source": [
    "## Шаг 5. Изучим результаты эксперимента\n"
   ]
  },
  {
   "cell_type": "code",
   "execution_count": 35,
   "metadata": {},
   "outputs": [
    {
     "data": {
      "text/html": [
       "<div>\n",
       "<style scoped>\n",
       "    .dataframe tbody tr th:only-of-type {\n",
       "        vertical-align: middle;\n",
       "    }\n",
       "\n",
       "    .dataframe tbody tr th {\n",
       "        vertical-align: top;\n",
       "    }\n",
       "\n",
       "    .dataframe thead th {\n",
       "        text-align: right;\n",
       "    }\n",
       "</style>\n",
       "<table border=\"1\" class=\"dataframe\">\n",
       "  <thead>\n",
       "    <tr style=\"text-align: right;\">\n",
       "      <th></th>\n",
       "      <th>event_name</th>\n",
       "      <th>user_id</th>\n",
       "      <th>dt</th>\n",
       "      <th>group</th>\n",
       "      <th>date</th>\n",
       "    </tr>\n",
       "  </thead>\n",
       "  <tbody>\n",
       "    <tr>\n",
       "      <th>0</th>\n",
       "      <td>Tutorial</td>\n",
       "      <td>3737462046622621720</td>\n",
       "      <td>2019-08-01 00:07:28</td>\n",
       "      <td>A1</td>\n",
       "      <td>2019-08-01</td>\n",
       "    </tr>\n",
       "    <tr>\n",
       "      <th>1</th>\n",
       "      <td>MainScreenAppear</td>\n",
       "      <td>3737462046622621720</td>\n",
       "      <td>2019-08-01 00:08:00</td>\n",
       "      <td>A1</td>\n",
       "      <td>2019-08-01</td>\n",
       "    </tr>\n",
       "    <tr>\n",
       "      <th>2</th>\n",
       "      <td>MainScreenAppear</td>\n",
       "      <td>3737462046622621720</td>\n",
       "      <td>2019-08-01 00:08:55</td>\n",
       "      <td>A1</td>\n",
       "      <td>2019-08-01</td>\n",
       "    </tr>\n",
       "    <tr>\n",
       "      <th>3</th>\n",
       "      <td>OffersScreenAppear</td>\n",
       "      <td>3737462046622621720</td>\n",
       "      <td>2019-08-01 00:08:58</td>\n",
       "      <td>A1</td>\n",
       "      <td>2019-08-01</td>\n",
       "    </tr>\n",
       "    <tr>\n",
       "      <th>4</th>\n",
       "      <td>MainScreenAppear</td>\n",
       "      <td>1433840883824088890</td>\n",
       "      <td>2019-08-01 00:08:59</td>\n",
       "      <td>A2</td>\n",
       "      <td>2019-08-01</td>\n",
       "    </tr>\n",
       "  </tbody>\n",
       "</table>\n",
       "</div>"
      ],
      "text/plain": [
       "           event_name              user_id                  dt group  \\\n",
       "0            Tutorial  3737462046622621720 2019-08-01 00:07:28    A1   \n",
       "1    MainScreenAppear  3737462046622621720 2019-08-01 00:08:00    A1   \n",
       "2    MainScreenAppear  3737462046622621720 2019-08-01 00:08:55    A1   \n",
       "3  OffersScreenAppear  3737462046622621720 2019-08-01 00:08:58    A1   \n",
       "4    MainScreenAppear  1433840883824088890 2019-08-01 00:08:59    A2   \n",
       "\n",
       "        date  \n",
       "0 2019-08-01  \n",
       "1 2019-08-01  \n",
       "2 2019-08-01  \n",
       "3 2019-08-01  \n",
       "4 2019-08-01  "
      ]
     },
     "execution_count": 35,
     "metadata": {},
     "output_type": "execute_result"
    }
   ],
   "source": [
    "data_new.head(5)"
   ]
  },
  {
   "cell_type": "markdown",
   "metadata": {},
   "source": [
    "### Узнаем, сколько пользователей в каждой экспериментальной группе."
   ]
  },
  {
   "cell_type": "code",
   "execution_count": 36,
   "metadata": {},
   "outputs": [
    {
     "data": {
      "text/html": [
       "<div>\n",
       "<style scoped>\n",
       "    .dataframe tbody tr th:only-of-type {\n",
       "        vertical-align: middle;\n",
       "    }\n",
       "\n",
       "    .dataframe tbody tr th {\n",
       "        vertical-align: top;\n",
       "    }\n",
       "\n",
       "    .dataframe thead th {\n",
       "        text-align: right;\n",
       "    }\n",
       "</style>\n",
       "<table border=\"1\" class=\"dataframe\">\n",
       "  <thead>\n",
       "    <tr style=\"text-align: right;\">\n",
       "      <th>group</th>\n",
       "      <th>A1</th>\n",
       "      <th>A2</th>\n",
       "      <th>B</th>\n",
       "    </tr>\n",
       "  </thead>\n",
       "  <tbody>\n",
       "    <tr>\n",
       "      <th>user_id</th>\n",
       "      <td>2484</td>\n",
       "      <td>2513</td>\n",
       "      <td>2537</td>\n",
       "    </tr>\n",
       "  </tbody>\n",
       "</table>\n",
       "</div>"
      ],
      "text/plain": [
       "group      A1    A2     B\n",
       "user_id  2484  2513  2537"
      ]
     },
     "execution_count": 36,
     "metadata": {},
     "output_type": "execute_result"
    }
   ],
   "source": [
    "users_by_group = data_new.pivot_table(\n",
    "    index = 'group',\n",
    "    values = 'user_id',\n",
    "    aggfunc = 'nunique').T\n",
    "users_by_group"
   ]
  },
  {
   "cell_type": "markdown",
   "metadata": {},
   "source": [
    "В группе А1 - 2484 пользователя, в группе А2 - 2513 пользователей, в группе В - 2537 пользователей. Рамзеры групп слегка отличаются, следовательно в дальнейшем стоит улучшить механизм разделения пользователей."
   ]
  },
  {
   "cell_type": "markdown",
   "metadata": {},
   "source": [
    "### Есть 2 контрольные группы для А/А-эксперимента, чтобы проверить корректность всех механизмов и расчётов. Проверим, находят ли статистические критерии разницу между выборками 246 и 247 (между выборками А1 и А2)"
   ]
  },
  {
   "cell_type": "code",
   "execution_count": 37,
   "metadata": {},
   "outputs": [
    {
     "data": {
      "text/html": [
       "<div>\n",
       "<style scoped>\n",
       "    .dataframe tbody tr th:only-of-type {\n",
       "        vertical-align: middle;\n",
       "    }\n",
       "\n",
       "    .dataframe tbody tr th {\n",
       "        vertical-align: top;\n",
       "    }\n",
       "\n",
       "    .dataframe thead th {\n",
       "        text-align: right;\n",
       "    }\n",
       "</style>\n",
       "<table border=\"1\" class=\"dataframe\">\n",
       "  <thead>\n",
       "    <tr style=\"text-align: right;\">\n",
       "      <th>group</th>\n",
       "      <th>event_name</th>\n",
       "      <th>A1</th>\n",
       "      <th>A2</th>\n",
       "      <th>B</th>\n",
       "    </tr>\n",
       "  </thead>\n",
       "  <tbody>\n",
       "    <tr>\n",
       "      <th>1</th>\n",
       "      <td>MainScreenAppear</td>\n",
       "      <td>2450</td>\n",
       "      <td>2476</td>\n",
       "      <td>2493</td>\n",
       "    </tr>\n",
       "    <tr>\n",
       "      <th>2</th>\n",
       "      <td>OffersScreenAppear</td>\n",
       "      <td>1542</td>\n",
       "      <td>1520</td>\n",
       "      <td>1531</td>\n",
       "    </tr>\n",
       "    <tr>\n",
       "      <th>0</th>\n",
       "      <td>CartScreenAppear</td>\n",
       "      <td>1266</td>\n",
       "      <td>1238</td>\n",
       "      <td>1230</td>\n",
       "    </tr>\n",
       "    <tr>\n",
       "      <th>3</th>\n",
       "      <td>PaymentScreenSuccessful</td>\n",
       "      <td>1200</td>\n",
       "      <td>1158</td>\n",
       "      <td>1181</td>\n",
       "    </tr>\n",
       "  </tbody>\n",
       "</table>\n",
       "</div>"
      ],
      "text/plain": [
       "group               event_name    A1    A2     B\n",
       "1             MainScreenAppear  2450  2476  2493\n",
       "2           OffersScreenAppear  1542  1520  1531\n",
       "0             CartScreenAppear  1266  1238  1230\n",
       "3      PaymentScreenSuccessful  1200  1158  1181"
      ]
     },
     "execution_count": 37,
     "metadata": {},
     "output_type": "execute_result"
    }
   ],
   "source": [
    "group_test = data_new[data_new['event_name']!='Tutorial'].pivot_table(\n",
    "             index = 'event_name',\n",
    "             columns = 'group',\n",
    "             values = 'user_id',\n",
    "             aggfunc = 'nunique').reset_index().sort_values(by='A1', ascending=False)\n",
    "group_test"
   ]
  },
  {
   "cell_type": "markdown",
   "metadata": {},
   "source": [
    "Добавим воронку с разбивкой по группам и событиям. Сравним размеры групп на каждом этапе воронки."
   ]
  },
  {
   "cell_type": "code",
   "execution_count": 38,
   "metadata": {},
   "outputs": [
    {
     "data": {
      "application/vnd.plotly.v1+json": {
       "config": {
        "plotlyServerURL": "https://plot.ly"
       },
       "data": [
        {
         "insidetextfont": {
          "color": "white",
          "size": 10
         },
         "marker": {
          "color": "#016450"
         },
         "name": "Группа А1",
         "textinfo": "value+percent initial+percent previous",
         "type": "funnel",
         "x": [
          2450,
          1542,
          1266,
          1200
         ],
         "y": [
          "MainScreenAppear",
          "OffersScreenAppear",
          "CartScreenAppear",
          "PaymentScreenSuccessful"
         ]
        },
        {
         "insidetextfont": {
          "color": "white",
          "size": 10
         },
         "marker": {
          "color": "#3690c0"
         },
         "name": "Группа А2",
         "orientation": "h",
         "textinfo": "value+percent initial+percent previous",
         "textposition": "inside",
         "type": "funnel",
         "x": [
          2476,
          1520,
          1238,
          1158
         ],
         "y": [
          "MainScreenAppear",
          "OffersScreenAppear",
          "CartScreenAppear",
          "PaymentScreenSuccessful"
         ]
        },
        {
         "insidetextfont": {
          "color": "white",
          "size": 10
         },
         "marker": {
          "color": "#fc9272"
         },
         "name": "Группа В",
         "orientation": "h",
         "textinfo": "value+percent initial+percent previous",
         "textposition": "inside",
         "type": "funnel",
         "x": [
          2493,
          1531,
          1230,
          1181
         ],
         "y": [
          "MainScreenAppear",
          "OffersScreenAppear",
          "CartScreenAppear",
          "PaymentScreenSuccessful"
         ]
        }
       ],
       "layout": {
        "template": {
         "data": {
          "bar": [
           {
            "error_x": {
             "color": "#2a3f5f"
            },
            "error_y": {
             "color": "#2a3f5f"
            },
            "marker": {
             "line": {
              "color": "#E5ECF6",
              "width": 0.5
             },
             "pattern": {
              "fillmode": "overlay",
              "size": 10,
              "solidity": 0.2
             }
            },
            "type": "bar"
           }
          ],
          "barpolar": [
           {
            "marker": {
             "line": {
              "color": "#E5ECF6",
              "width": 0.5
             },
             "pattern": {
              "fillmode": "overlay",
              "size": 10,
              "solidity": 0.2
             }
            },
            "type": "barpolar"
           }
          ],
          "carpet": [
           {
            "aaxis": {
             "endlinecolor": "#2a3f5f",
             "gridcolor": "white",
             "linecolor": "white",
             "minorgridcolor": "white",
             "startlinecolor": "#2a3f5f"
            },
            "baxis": {
             "endlinecolor": "#2a3f5f",
             "gridcolor": "white",
             "linecolor": "white",
             "minorgridcolor": "white",
             "startlinecolor": "#2a3f5f"
            },
            "type": "carpet"
           }
          ],
          "choropleth": [
           {
            "colorbar": {
             "outlinewidth": 0,
             "ticks": ""
            },
            "type": "choropleth"
           }
          ],
          "contour": [
           {
            "colorbar": {
             "outlinewidth": 0,
             "ticks": ""
            },
            "colorscale": [
             [
              0,
              "#0d0887"
             ],
             [
              0.1111111111111111,
              "#46039f"
             ],
             [
              0.2222222222222222,
              "#7201a8"
             ],
             [
              0.3333333333333333,
              "#9c179e"
             ],
             [
              0.4444444444444444,
              "#bd3786"
             ],
             [
              0.5555555555555556,
              "#d8576b"
             ],
             [
              0.6666666666666666,
              "#ed7953"
             ],
             [
              0.7777777777777778,
              "#fb9f3a"
             ],
             [
              0.8888888888888888,
              "#fdca26"
             ],
             [
              1,
              "#f0f921"
             ]
            ],
            "type": "contour"
           }
          ],
          "contourcarpet": [
           {
            "colorbar": {
             "outlinewidth": 0,
             "ticks": ""
            },
            "type": "contourcarpet"
           }
          ],
          "heatmap": [
           {
            "colorbar": {
             "outlinewidth": 0,
             "ticks": ""
            },
            "colorscale": [
             [
              0,
              "#0d0887"
             ],
             [
              0.1111111111111111,
              "#46039f"
             ],
             [
              0.2222222222222222,
              "#7201a8"
             ],
             [
              0.3333333333333333,
              "#9c179e"
             ],
             [
              0.4444444444444444,
              "#bd3786"
             ],
             [
              0.5555555555555556,
              "#d8576b"
             ],
             [
              0.6666666666666666,
              "#ed7953"
             ],
             [
              0.7777777777777778,
              "#fb9f3a"
             ],
             [
              0.8888888888888888,
              "#fdca26"
             ],
             [
              1,
              "#f0f921"
             ]
            ],
            "type": "heatmap"
           }
          ],
          "heatmapgl": [
           {
            "colorbar": {
             "outlinewidth": 0,
             "ticks": ""
            },
            "colorscale": [
             [
              0,
              "#0d0887"
             ],
             [
              0.1111111111111111,
              "#46039f"
             ],
             [
              0.2222222222222222,
              "#7201a8"
             ],
             [
              0.3333333333333333,
              "#9c179e"
             ],
             [
              0.4444444444444444,
              "#bd3786"
             ],
             [
              0.5555555555555556,
              "#d8576b"
             ],
             [
              0.6666666666666666,
              "#ed7953"
             ],
             [
              0.7777777777777778,
              "#fb9f3a"
             ],
             [
              0.8888888888888888,
              "#fdca26"
             ],
             [
              1,
              "#f0f921"
             ]
            ],
            "type": "heatmapgl"
           }
          ],
          "histogram": [
           {
            "marker": {
             "pattern": {
              "fillmode": "overlay",
              "size": 10,
              "solidity": 0.2
             }
            },
            "type": "histogram"
           }
          ],
          "histogram2d": [
           {
            "colorbar": {
             "outlinewidth": 0,
             "ticks": ""
            },
            "colorscale": [
             [
              0,
              "#0d0887"
             ],
             [
              0.1111111111111111,
              "#46039f"
             ],
             [
              0.2222222222222222,
              "#7201a8"
             ],
             [
              0.3333333333333333,
              "#9c179e"
             ],
             [
              0.4444444444444444,
              "#bd3786"
             ],
             [
              0.5555555555555556,
              "#d8576b"
             ],
             [
              0.6666666666666666,
              "#ed7953"
             ],
             [
              0.7777777777777778,
              "#fb9f3a"
             ],
             [
              0.8888888888888888,
              "#fdca26"
             ],
             [
              1,
              "#f0f921"
             ]
            ],
            "type": "histogram2d"
           }
          ],
          "histogram2dcontour": [
           {
            "colorbar": {
             "outlinewidth": 0,
             "ticks": ""
            },
            "colorscale": [
             [
              0,
              "#0d0887"
             ],
             [
              0.1111111111111111,
              "#46039f"
             ],
             [
              0.2222222222222222,
              "#7201a8"
             ],
             [
              0.3333333333333333,
              "#9c179e"
             ],
             [
              0.4444444444444444,
              "#bd3786"
             ],
             [
              0.5555555555555556,
              "#d8576b"
             ],
             [
              0.6666666666666666,
              "#ed7953"
             ],
             [
              0.7777777777777778,
              "#fb9f3a"
             ],
             [
              0.8888888888888888,
              "#fdca26"
             ],
             [
              1,
              "#f0f921"
             ]
            ],
            "type": "histogram2dcontour"
           }
          ],
          "mesh3d": [
           {
            "colorbar": {
             "outlinewidth": 0,
             "ticks": ""
            },
            "type": "mesh3d"
           }
          ],
          "parcoords": [
           {
            "line": {
             "colorbar": {
              "outlinewidth": 0,
              "ticks": ""
             }
            },
            "type": "parcoords"
           }
          ],
          "pie": [
           {
            "automargin": true,
            "type": "pie"
           }
          ],
          "scatter": [
           {
            "marker": {
             "colorbar": {
              "outlinewidth": 0,
              "ticks": ""
             }
            },
            "type": "scatter"
           }
          ],
          "scatter3d": [
           {
            "line": {
             "colorbar": {
              "outlinewidth": 0,
              "ticks": ""
             }
            },
            "marker": {
             "colorbar": {
              "outlinewidth": 0,
              "ticks": ""
             }
            },
            "type": "scatter3d"
           }
          ],
          "scattercarpet": [
           {
            "marker": {
             "colorbar": {
              "outlinewidth": 0,
              "ticks": ""
             }
            },
            "type": "scattercarpet"
           }
          ],
          "scattergeo": [
           {
            "marker": {
             "colorbar": {
              "outlinewidth": 0,
              "ticks": ""
             }
            },
            "type": "scattergeo"
           }
          ],
          "scattergl": [
           {
            "marker": {
             "colorbar": {
              "outlinewidth": 0,
              "ticks": ""
             }
            },
            "type": "scattergl"
           }
          ],
          "scattermapbox": [
           {
            "marker": {
             "colorbar": {
              "outlinewidth": 0,
              "ticks": ""
             }
            },
            "type": "scattermapbox"
           }
          ],
          "scatterpolar": [
           {
            "marker": {
             "colorbar": {
              "outlinewidth": 0,
              "ticks": ""
             }
            },
            "type": "scatterpolar"
           }
          ],
          "scatterpolargl": [
           {
            "marker": {
             "colorbar": {
              "outlinewidth": 0,
              "ticks": ""
             }
            },
            "type": "scatterpolargl"
           }
          ],
          "scatterternary": [
           {
            "marker": {
             "colorbar": {
              "outlinewidth": 0,
              "ticks": ""
             }
            },
            "type": "scatterternary"
           }
          ],
          "surface": [
           {
            "colorbar": {
             "outlinewidth": 0,
             "ticks": ""
            },
            "colorscale": [
             [
              0,
              "#0d0887"
             ],
             [
              0.1111111111111111,
              "#46039f"
             ],
             [
              0.2222222222222222,
              "#7201a8"
             ],
             [
              0.3333333333333333,
              "#9c179e"
             ],
             [
              0.4444444444444444,
              "#bd3786"
             ],
             [
              0.5555555555555556,
              "#d8576b"
             ],
             [
              0.6666666666666666,
              "#ed7953"
             ],
             [
              0.7777777777777778,
              "#fb9f3a"
             ],
             [
              0.8888888888888888,
              "#fdca26"
             ],
             [
              1,
              "#f0f921"
             ]
            ],
            "type": "surface"
           }
          ],
          "table": [
           {
            "cells": {
             "fill": {
              "color": "#EBF0F8"
             },
             "line": {
              "color": "white"
             }
            },
            "header": {
             "fill": {
              "color": "#C8D4E3"
             },
             "line": {
              "color": "white"
             }
            },
            "type": "table"
           }
          ]
         },
         "layout": {
          "annotationdefaults": {
           "arrowcolor": "#2a3f5f",
           "arrowhead": 0,
           "arrowwidth": 1
          },
          "autotypenumbers": "strict",
          "coloraxis": {
           "colorbar": {
            "outlinewidth": 0,
            "ticks": ""
           }
          },
          "colorscale": {
           "diverging": [
            [
             0,
             "#8e0152"
            ],
            [
             0.1,
             "#c51b7d"
            ],
            [
             0.2,
             "#de77ae"
            ],
            [
             0.3,
             "#f1b6da"
            ],
            [
             0.4,
             "#fde0ef"
            ],
            [
             0.5,
             "#f7f7f7"
            ],
            [
             0.6,
             "#e6f5d0"
            ],
            [
             0.7,
             "#b8e186"
            ],
            [
             0.8,
             "#7fbc41"
            ],
            [
             0.9,
             "#4d9221"
            ],
            [
             1,
             "#276419"
            ]
           ],
           "sequential": [
            [
             0,
             "#0d0887"
            ],
            [
             0.1111111111111111,
             "#46039f"
            ],
            [
             0.2222222222222222,
             "#7201a8"
            ],
            [
             0.3333333333333333,
             "#9c179e"
            ],
            [
             0.4444444444444444,
             "#bd3786"
            ],
            [
             0.5555555555555556,
             "#d8576b"
            ],
            [
             0.6666666666666666,
             "#ed7953"
            ],
            [
             0.7777777777777778,
             "#fb9f3a"
            ],
            [
             0.8888888888888888,
             "#fdca26"
            ],
            [
             1,
             "#f0f921"
            ]
           ],
           "sequentialminus": [
            [
             0,
             "#0d0887"
            ],
            [
             0.1111111111111111,
             "#46039f"
            ],
            [
             0.2222222222222222,
             "#7201a8"
            ],
            [
             0.3333333333333333,
             "#9c179e"
            ],
            [
             0.4444444444444444,
             "#bd3786"
            ],
            [
             0.5555555555555556,
             "#d8576b"
            ],
            [
             0.6666666666666666,
             "#ed7953"
            ],
            [
             0.7777777777777778,
             "#fb9f3a"
            ],
            [
             0.8888888888888888,
             "#fdca26"
            ],
            [
             1,
             "#f0f921"
            ]
           ]
          },
          "colorway": [
           "#636efa",
           "#EF553B",
           "#00cc96",
           "#ab63fa",
           "#FFA15A",
           "#19d3f3",
           "#FF6692",
           "#B6E880",
           "#FF97FF",
           "#FECB52"
          ],
          "font": {
           "color": "#2a3f5f"
          },
          "geo": {
           "bgcolor": "white",
           "lakecolor": "white",
           "landcolor": "#E5ECF6",
           "showlakes": true,
           "showland": true,
           "subunitcolor": "white"
          },
          "hoverlabel": {
           "align": "left"
          },
          "hovermode": "closest",
          "mapbox": {
           "style": "light"
          },
          "paper_bgcolor": "white",
          "plot_bgcolor": "#E5ECF6",
          "polar": {
           "angularaxis": {
            "gridcolor": "white",
            "linecolor": "white",
            "ticks": ""
           },
           "bgcolor": "#E5ECF6",
           "radialaxis": {
            "gridcolor": "white",
            "linecolor": "white",
            "ticks": ""
           }
          },
          "scene": {
           "xaxis": {
            "backgroundcolor": "#E5ECF6",
            "gridcolor": "white",
            "gridwidth": 2,
            "linecolor": "white",
            "showbackground": true,
            "ticks": "",
            "zerolinecolor": "white"
           },
           "yaxis": {
            "backgroundcolor": "#E5ECF6",
            "gridcolor": "white",
            "gridwidth": 2,
            "linecolor": "white",
            "showbackground": true,
            "ticks": "",
            "zerolinecolor": "white"
           },
           "zaxis": {
            "backgroundcolor": "#E5ECF6",
            "gridcolor": "white",
            "gridwidth": 2,
            "linecolor": "white",
            "showbackground": true,
            "ticks": "",
            "zerolinecolor": "white"
           }
          },
          "shapedefaults": {
           "line": {
            "color": "#2a3f5f"
           }
          },
          "ternary": {
           "aaxis": {
            "gridcolor": "white",
            "linecolor": "white",
            "ticks": ""
           },
           "baxis": {
            "gridcolor": "white",
            "linecolor": "white",
            "ticks": ""
           },
           "bgcolor": "#E5ECF6",
           "caxis": {
            "gridcolor": "white",
            "linecolor": "white",
            "ticks": ""
           }
          },
          "title": {
           "x": 0.05
          },
          "xaxis": {
           "automargin": true,
           "gridcolor": "white",
           "linecolor": "white",
           "ticks": "",
           "title": {
            "standoff": 15
           },
           "zerolinecolor": "white",
           "zerolinewidth": 2
          },
          "yaxis": {
           "automargin": true,
           "gridcolor": "white",
           "linecolor": "white",
           "ticks": "",
           "title": {
            "standoff": 15
           },
           "zerolinecolor": "white",
           "zerolinewidth": 2
          }
         }
        }
       }
      },
      "text/html": [
       "<div>                            <div id=\"92ed759c-17f4-4dec-acca-a64c62f0fcdc\" class=\"plotly-graph-div\" style=\"height:525px; width:100%;\"></div>            <script type=\"text/javascript\">                require([\"plotly\"], function(Plotly) {                    window.PLOTLYENV=window.PLOTLYENV || {};                                    if (document.getElementById(\"92ed759c-17f4-4dec-acca-a64c62f0fcdc\")) {                    Plotly.newPlot(                        \"92ed759c-17f4-4dec-acca-a64c62f0fcdc\",                        [{\"insidetextfont\":{\"color\":\"white\",\"size\":10},\"marker\":{\"color\":\"#016450\"},\"name\":\"\\u0413\\u0440\\u0443\\u043f\\u043f\\u0430 \\u04101\",\"textinfo\":\"value+percent initial+percent previous\",\"x\":[2450,1542,1266,1200],\"y\":[\"MainScreenAppear\",\"OffersScreenAppear\",\"CartScreenAppear\",\"PaymentScreenSuccessful\"],\"type\":\"funnel\"},{\"insidetextfont\":{\"color\":\"white\",\"size\":10},\"marker\":{\"color\":\"#3690c0\"},\"name\":\"\\u0413\\u0440\\u0443\\u043f\\u043f\\u0430 \\u04102\",\"orientation\":\"h\",\"textinfo\":\"value+percent initial+percent previous\",\"textposition\":\"inside\",\"x\":[2476,1520,1238,1158],\"y\":[\"MainScreenAppear\",\"OffersScreenAppear\",\"CartScreenAppear\",\"PaymentScreenSuccessful\"],\"type\":\"funnel\"},{\"insidetextfont\":{\"color\":\"white\",\"size\":10},\"marker\":{\"color\":\"#fc9272\"},\"name\":\"\\u0413\\u0440\\u0443\\u043f\\u043f\\u0430 \\u0412\",\"orientation\":\"h\",\"textinfo\":\"value+percent initial+percent previous\",\"textposition\":\"inside\",\"x\":[2493,1531,1230,1181],\"y\":[\"MainScreenAppear\",\"OffersScreenAppear\",\"CartScreenAppear\",\"PaymentScreenSuccessful\"],\"type\":\"funnel\"}],                        {\"template\":{\"data\":{\"bar\":[{\"error_x\":{\"color\":\"#2a3f5f\"},\"error_y\":{\"color\":\"#2a3f5f\"},\"marker\":{\"line\":{\"color\":\"#E5ECF6\",\"width\":0.5},\"pattern\":{\"fillmode\":\"overlay\",\"size\":10,\"solidity\":0.2}},\"type\":\"bar\"}],\"barpolar\":[{\"marker\":{\"line\":{\"color\":\"#E5ECF6\",\"width\":0.5},\"pattern\":{\"fillmode\":\"overlay\",\"size\":10,\"solidity\":0.2}},\"type\":\"barpolar\"}],\"carpet\":[{\"aaxis\":{\"endlinecolor\":\"#2a3f5f\",\"gridcolor\":\"white\",\"linecolor\":\"white\",\"minorgridcolor\":\"white\",\"startlinecolor\":\"#2a3f5f\"},\"baxis\":{\"endlinecolor\":\"#2a3f5f\",\"gridcolor\":\"white\",\"linecolor\":\"white\",\"minorgridcolor\":\"white\",\"startlinecolor\":\"#2a3f5f\"},\"type\":\"carpet\"}],\"choropleth\":[{\"colorbar\":{\"outlinewidth\":0,\"ticks\":\"\"},\"type\":\"choropleth\"}],\"contour\":[{\"colorbar\":{\"outlinewidth\":0,\"ticks\":\"\"},\"colorscale\":[[0.0,\"#0d0887\"],[0.1111111111111111,\"#46039f\"],[0.2222222222222222,\"#7201a8\"],[0.3333333333333333,\"#9c179e\"],[0.4444444444444444,\"#bd3786\"],[0.5555555555555556,\"#d8576b\"],[0.6666666666666666,\"#ed7953\"],[0.7777777777777778,\"#fb9f3a\"],[0.8888888888888888,\"#fdca26\"],[1.0,\"#f0f921\"]],\"type\":\"contour\"}],\"contourcarpet\":[{\"colorbar\":{\"outlinewidth\":0,\"ticks\":\"\"},\"type\":\"contourcarpet\"}],\"heatmap\":[{\"colorbar\":{\"outlinewidth\":0,\"ticks\":\"\"},\"colorscale\":[[0.0,\"#0d0887\"],[0.1111111111111111,\"#46039f\"],[0.2222222222222222,\"#7201a8\"],[0.3333333333333333,\"#9c179e\"],[0.4444444444444444,\"#bd3786\"],[0.5555555555555556,\"#d8576b\"],[0.6666666666666666,\"#ed7953\"],[0.7777777777777778,\"#fb9f3a\"],[0.8888888888888888,\"#fdca26\"],[1.0,\"#f0f921\"]],\"type\":\"heatmap\"}],\"heatmapgl\":[{\"colorbar\":{\"outlinewidth\":0,\"ticks\":\"\"},\"colorscale\":[[0.0,\"#0d0887\"],[0.1111111111111111,\"#46039f\"],[0.2222222222222222,\"#7201a8\"],[0.3333333333333333,\"#9c179e\"],[0.4444444444444444,\"#bd3786\"],[0.5555555555555556,\"#d8576b\"],[0.6666666666666666,\"#ed7953\"],[0.7777777777777778,\"#fb9f3a\"],[0.8888888888888888,\"#fdca26\"],[1.0,\"#f0f921\"]],\"type\":\"heatmapgl\"}],\"histogram\":[{\"marker\":{\"pattern\":{\"fillmode\":\"overlay\",\"size\":10,\"solidity\":0.2}},\"type\":\"histogram\"}],\"histogram2d\":[{\"colorbar\":{\"outlinewidth\":0,\"ticks\":\"\"},\"colorscale\":[[0.0,\"#0d0887\"],[0.1111111111111111,\"#46039f\"],[0.2222222222222222,\"#7201a8\"],[0.3333333333333333,\"#9c179e\"],[0.4444444444444444,\"#bd3786\"],[0.5555555555555556,\"#d8576b\"],[0.6666666666666666,\"#ed7953\"],[0.7777777777777778,\"#fb9f3a\"],[0.8888888888888888,\"#fdca26\"],[1.0,\"#f0f921\"]],\"type\":\"histogram2d\"}],\"histogram2dcontour\":[{\"colorbar\":{\"outlinewidth\":0,\"ticks\":\"\"},\"colorscale\":[[0.0,\"#0d0887\"],[0.1111111111111111,\"#46039f\"],[0.2222222222222222,\"#7201a8\"],[0.3333333333333333,\"#9c179e\"],[0.4444444444444444,\"#bd3786\"],[0.5555555555555556,\"#d8576b\"],[0.6666666666666666,\"#ed7953\"],[0.7777777777777778,\"#fb9f3a\"],[0.8888888888888888,\"#fdca26\"],[1.0,\"#f0f921\"]],\"type\":\"histogram2dcontour\"}],\"mesh3d\":[{\"colorbar\":{\"outlinewidth\":0,\"ticks\":\"\"},\"type\":\"mesh3d\"}],\"parcoords\":[{\"line\":{\"colorbar\":{\"outlinewidth\":0,\"ticks\":\"\"}},\"type\":\"parcoords\"}],\"pie\":[{\"automargin\":true,\"type\":\"pie\"}],\"scatter\":[{\"marker\":{\"colorbar\":{\"outlinewidth\":0,\"ticks\":\"\"}},\"type\":\"scatter\"}],\"scatter3d\":[{\"line\":{\"colorbar\":{\"outlinewidth\":0,\"ticks\":\"\"}},\"marker\":{\"colorbar\":{\"outlinewidth\":0,\"ticks\":\"\"}},\"type\":\"scatter3d\"}],\"scattercarpet\":[{\"marker\":{\"colorbar\":{\"outlinewidth\":0,\"ticks\":\"\"}},\"type\":\"scattercarpet\"}],\"scattergeo\":[{\"marker\":{\"colorbar\":{\"outlinewidth\":0,\"ticks\":\"\"}},\"type\":\"scattergeo\"}],\"scattergl\":[{\"marker\":{\"colorbar\":{\"outlinewidth\":0,\"ticks\":\"\"}},\"type\":\"scattergl\"}],\"scattermapbox\":[{\"marker\":{\"colorbar\":{\"outlinewidth\":0,\"ticks\":\"\"}},\"type\":\"scattermapbox\"}],\"scatterpolar\":[{\"marker\":{\"colorbar\":{\"outlinewidth\":0,\"ticks\":\"\"}},\"type\":\"scatterpolar\"}],\"scatterpolargl\":[{\"marker\":{\"colorbar\":{\"outlinewidth\":0,\"ticks\":\"\"}},\"type\":\"scatterpolargl\"}],\"scatterternary\":[{\"marker\":{\"colorbar\":{\"outlinewidth\":0,\"ticks\":\"\"}},\"type\":\"scatterternary\"}],\"surface\":[{\"colorbar\":{\"outlinewidth\":0,\"ticks\":\"\"},\"colorscale\":[[0.0,\"#0d0887\"],[0.1111111111111111,\"#46039f\"],[0.2222222222222222,\"#7201a8\"],[0.3333333333333333,\"#9c179e\"],[0.4444444444444444,\"#bd3786\"],[0.5555555555555556,\"#d8576b\"],[0.6666666666666666,\"#ed7953\"],[0.7777777777777778,\"#fb9f3a\"],[0.8888888888888888,\"#fdca26\"],[1.0,\"#f0f921\"]],\"type\":\"surface\"}],\"table\":[{\"cells\":{\"fill\":{\"color\":\"#EBF0F8\"},\"line\":{\"color\":\"white\"}},\"header\":{\"fill\":{\"color\":\"#C8D4E3\"},\"line\":{\"color\":\"white\"}},\"type\":\"table\"}]},\"layout\":{\"annotationdefaults\":{\"arrowcolor\":\"#2a3f5f\",\"arrowhead\":0,\"arrowwidth\":1},\"autotypenumbers\":\"strict\",\"coloraxis\":{\"colorbar\":{\"outlinewidth\":0,\"ticks\":\"\"}},\"colorscale\":{\"diverging\":[[0,\"#8e0152\"],[0.1,\"#c51b7d\"],[0.2,\"#de77ae\"],[0.3,\"#f1b6da\"],[0.4,\"#fde0ef\"],[0.5,\"#f7f7f7\"],[0.6,\"#e6f5d0\"],[0.7,\"#b8e186\"],[0.8,\"#7fbc41\"],[0.9,\"#4d9221\"],[1,\"#276419\"]],\"sequential\":[[0.0,\"#0d0887\"],[0.1111111111111111,\"#46039f\"],[0.2222222222222222,\"#7201a8\"],[0.3333333333333333,\"#9c179e\"],[0.4444444444444444,\"#bd3786\"],[0.5555555555555556,\"#d8576b\"],[0.6666666666666666,\"#ed7953\"],[0.7777777777777778,\"#fb9f3a\"],[0.8888888888888888,\"#fdca26\"],[1.0,\"#f0f921\"]],\"sequentialminus\":[[0.0,\"#0d0887\"],[0.1111111111111111,\"#46039f\"],[0.2222222222222222,\"#7201a8\"],[0.3333333333333333,\"#9c179e\"],[0.4444444444444444,\"#bd3786\"],[0.5555555555555556,\"#d8576b\"],[0.6666666666666666,\"#ed7953\"],[0.7777777777777778,\"#fb9f3a\"],[0.8888888888888888,\"#fdca26\"],[1.0,\"#f0f921\"]]},\"colorway\":[\"#636efa\",\"#EF553B\",\"#00cc96\",\"#ab63fa\",\"#FFA15A\",\"#19d3f3\",\"#FF6692\",\"#B6E880\",\"#FF97FF\",\"#FECB52\"],\"font\":{\"color\":\"#2a3f5f\"},\"geo\":{\"bgcolor\":\"white\",\"lakecolor\":\"white\",\"landcolor\":\"#E5ECF6\",\"showlakes\":true,\"showland\":true,\"subunitcolor\":\"white\"},\"hoverlabel\":{\"align\":\"left\"},\"hovermode\":\"closest\",\"mapbox\":{\"style\":\"light\"},\"paper_bgcolor\":\"white\",\"plot_bgcolor\":\"#E5ECF6\",\"polar\":{\"angularaxis\":{\"gridcolor\":\"white\",\"linecolor\":\"white\",\"ticks\":\"\"},\"bgcolor\":\"#E5ECF6\",\"radialaxis\":{\"gridcolor\":\"white\",\"linecolor\":\"white\",\"ticks\":\"\"}},\"scene\":{\"xaxis\":{\"backgroundcolor\":\"#E5ECF6\",\"gridcolor\":\"white\",\"gridwidth\":2,\"linecolor\":\"white\",\"showbackground\":true,\"ticks\":\"\",\"zerolinecolor\":\"white\"},\"yaxis\":{\"backgroundcolor\":\"#E5ECF6\",\"gridcolor\":\"white\",\"gridwidth\":2,\"linecolor\":\"white\",\"showbackground\":true,\"ticks\":\"\",\"zerolinecolor\":\"white\"},\"zaxis\":{\"backgroundcolor\":\"#E5ECF6\",\"gridcolor\":\"white\",\"gridwidth\":2,\"linecolor\":\"white\",\"showbackground\":true,\"ticks\":\"\",\"zerolinecolor\":\"white\"}},\"shapedefaults\":{\"line\":{\"color\":\"#2a3f5f\"}},\"ternary\":{\"aaxis\":{\"gridcolor\":\"white\",\"linecolor\":\"white\",\"ticks\":\"\"},\"baxis\":{\"gridcolor\":\"white\",\"linecolor\":\"white\",\"ticks\":\"\"},\"bgcolor\":\"#E5ECF6\",\"caxis\":{\"gridcolor\":\"white\",\"linecolor\":\"white\",\"ticks\":\"\"}},\"title\":{\"x\":0.05},\"xaxis\":{\"automargin\":true,\"gridcolor\":\"white\",\"linecolor\":\"white\",\"ticks\":\"\",\"title\":{\"standoff\":15},\"zerolinecolor\":\"white\",\"zerolinewidth\":2},\"yaxis\":{\"automargin\":true,\"gridcolor\":\"white\",\"linecolor\":\"white\",\"ticks\":\"\",\"title\":{\"standoff\":15},\"zerolinecolor\":\"white\",\"zerolinewidth\":2}}}},                        {\"responsive\": true}                    ).then(function(){\n",
       "                            \n",
       "var gd = document.getElementById('92ed759c-17f4-4dec-acca-a64c62f0fcdc');\n",
       "var x = new MutationObserver(function (mutations, observer) {{\n",
       "        var display = window.getComputedStyle(gd).display;\n",
       "        if (!display || display === 'none') {{\n",
       "            console.log([gd, 'removed!']);\n",
       "            Plotly.purge(gd);\n",
       "            observer.disconnect();\n",
       "        }}\n",
       "}});\n",
       "\n",
       "// Listen for the removal of the full notebook cells\n",
       "var notebookContainer = gd.closest('#notebook-container');\n",
       "if (notebookContainer) {{\n",
       "    x.observe(notebookContainer, {childList: true});\n",
       "}}\n",
       "\n",
       "// Listen for the clearing of the current output cell\n",
       "var outputEl = gd.closest('.output');\n",
       "if (outputEl) {{\n",
       "    x.observe(outputEl, {childList: true});\n",
       "}}\n",
       "\n",
       "                        })                };                });            </script>        </div>"
      ]
     },
     "metadata": {},
     "output_type": "display_data"
    }
   ],
   "source": [
    "from plotly import graph_objects as go\n",
    "\n",
    "fig = go.Figure()\n",
    "\n",
    "fig.add_trace(go.Funnel(\n",
    "    name = 'Группа А1',\n",
    "    y = [\"MainScreenAppear\", \"OffersScreenAppear\", \"CartScreenAppear\", \"PaymentScreenSuccessful\"],\n",
    "    x = [2450, 1542, 1266, 1200],\n",
    "    textinfo = \"value+percent initial+percent previous\",\n",
    "    marker = {\"color\": \"#016450\"},\n",
    "    insidetextfont = {'color': 'white', 'size': 10}))\n",
    "\n",
    "fig.add_trace(go.Funnel(\n",
    "    name = 'Группа А2',\n",
    "    orientation = \"h\",\n",
    "    y = [\"MainScreenAppear\", \"OffersScreenAppear\", \"CartScreenAppear\", \"PaymentScreenSuccessful\"],\n",
    "    x = [2476, 1520, 1238, 1158],\n",
    "    textposition = \"inside\",\n",
    "    textinfo = \"value+percent initial+percent previous\",\n",
    "    marker = {\"color\": \"#3690c0\"},\n",
    "    insidetextfont = {'color': 'white', 'size': 10}))\n",
    "\n",
    "fig.add_trace(go.Funnel(\n",
    "    name = 'Группа В',\n",
    "    orientation = \"h\",\n",
    "    y = [\"MainScreenAppear\", \"OffersScreenAppear\", \"CartScreenAppear\", \"PaymentScreenSuccessful\"],\n",
    "    x = [2493, 1531, 1230, 1181],\n",
    "    textposition = \"inside\",\n",
    "    textinfo = \"value+percent initial+percent previous\",\n",
    "    marker = {\"color\": \"#fc9272\"},\n",
    "    insidetextfont = {'color': 'white', 'size': 10}))\n",
    "\n",
    "fig.show()"
   ]
  },
  {
   "cell_type": "markdown",
   "metadata": {},
   "source": [
    "**Вывод:**\n",
    "\n",
    "Видим, что группы примерно идентичны. Однако, группа А1 показывает лучшие показатели конверсии перехода от страницы к странице. "
   ]
  },
  {
   "cell_type": "markdown",
   "metadata": {},
   "source": [
    "Напишем функцию, которая позволит запускать тесты для разных событий и для разных групп.\n",
    "Проведем А/А тестирование, это позволит нам оценить корректность расчетов для сравнений экспериментальных и контрольных групп. \n",
    "\n",
    "\n",
    "**Сформулируем нулевую и альтернативную гипотезы:**\n",
    "\n",
    "**H0: различий в ĸонверсии перехода от одной страницы в воронĸе ĸ\n",
    "следующей между группами А1 и А2 нет**\n",
    "\n",
    "**H1: существуют статистическая разница в ĸонверсии перехода от одной страницы в воронĸе ĸ\n",
    "следующей между группами А1 и А2.**\n",
    "\n",
    "Для того, чтобы признать проведенное тестирование точным, нулевая гипотеза должна быть подтверждена, то есть различий между группами А1 и А2 быть не должно.\n",
    "\n",
    "Уровень статистической значимости поставим на уровне 0.05."
   ]
  },
  {
   "cell_type": "markdown",
   "metadata": {},
   "source": [
    "Для тестов нам необходимо будет проводить сравнения долей генеральных совокупностей по выборкам из них. Разница между пропорциями, наблюдаемыми на выборках, будет нашей статистикой. Будем использовать Z-критерий двух пропорций. "
   ]
  },
  {
   "cell_type": "code",
   "execution_count": 39,
   "metadata": {},
   "outputs": [
    {
     "name": "stdout",
     "output_type": "stream",
     "text": [
      "MainScreenAppear p-значение: [0.75705972]\n",
      "Не получилось отвергнуть нулевую гипотезу, нет оснований считать доли разными\n",
      "\n",
      "OffersScreenAppear p-значение: [0.24809546]\n",
      "Не получилось отвергнуть нулевую гипотезу, нет оснований считать доли разными\n",
      "\n",
      "CartScreenAppear p-значение: [0.22883372]\n",
      "Не получилось отвергнуть нулевую гипотезу, нет оснований считать доли разными\n",
      "\n",
      "PaymentScreenSuccessful p-значение: [0.11456679]\n",
      "Не получилось отвергнуть нулевую гипотезу, нет оснований считать доли разными\n",
      "\n"
     ]
    }
   ],
   "source": [
    "def test(group1, group2, alpha):\n",
    "    for i in group_test.index:\n",
    "        p1 = group_test[group1][i] / users_by_group[group1]\n",
    "        # пропорция успехов во второй группе:\n",
    "        p2 = group_test[group2][i] / users_by_group[group2]\n",
    "        # пропорция успехов в комбинированном датасете:\n",
    "        p_combined = ((group_test[group1][i] + group_test[group2][i]) / \n",
    "                      (users_by_group[group1] + users_by_group[group2]))\n",
    "        # разница пропорций в датасетах\n",
    "        difference = p1 - p2\n",
    "        # считаем статистику в ст.отклонениях стандартного нормального распределения\n",
    "        z_value = difference / mth.sqrt(p_combined * (1 - p_combined) * \n",
    "                                        (1/users_by_group[group1] + 1/users_by_group[group2]))\n",
    "        # задаем стандартное нормальное распределение (среднее 0, ст.отклонение 1)\n",
    "        distr = st.norm(0, 1) \n",
    "        p_value = (1 - distr.cdf(abs(z_value))) * 2\n",
    "        print('{} p-значение: {}'.format(group_test['event_name'][i], p_value))\n",
    "        if (p_value < alpha):\n",
    "            print(\"Отвергаем нулевую гипотезу: между долями есть значимая разница\")\n",
    "        else:\n",
    "            print(\"Не получилось отвергнуть нулевую гипотезу, нет оснований считать доли разными\")\n",
    "        print('')\n",
    "        \n",
    "test(\"A1\", \"A2\", 0.05)"
   ]
  },
  {
   "cell_type": "markdown",
   "metadata": {},
   "source": [
    "**Вывод**\n",
    "\n",
    "По результатам теста видно, что p-значение больше заданного уровня статистической значимости, а значит между группами А1 и А2 нет статистически значимой разницы. Это говорит о том, что рассчеты корректны и мы можем сравнивать данные контрольные группы с экспериментальной. \n",
    "\n",
    "Также, стоит отметить, что поскольку тесты показали ожидаемый результат, то сложившееся разбиение на группы является корректным."
   ]
  },
  {
   "cell_type": "markdown",
   "metadata": {},
   "source": [
    "### Проверим, будет ли отличие между группами статистически значим для контрольных групп А1 и А2 с экспериментальной группой В."
   ]
  },
  {
   "cell_type": "markdown",
   "metadata": {},
   "source": [
    "**Сформулируем нулевую и альтернативную гипотезы:**\n",
    "\n",
    "**H0: различий в ĸонверсии перехода от одной страницы в воронĸе ĸ\n",
    "следующей между группами А1 и В нет**\n",
    "\n",
    "**H1: существуют статистически значимая разница в ĸонверсии перехода от одной страницы в воронĸе ĸ\n",
    "следующей между группами А1 и В.**"
   ]
  },
  {
   "cell_type": "code",
   "execution_count": 40,
   "metadata": {},
   "outputs": [
    {
     "name": "stdout",
     "output_type": "stream",
     "text": [
      "MainScreenAppear p-значение: [0.29497219]\n",
      "Не получилось отвергнуть нулевую гипотезу, нет оснований считать доли разными\n",
      "\n",
      "OffersScreenAppear p-значение: [0.20836205]\n",
      "Не получилось отвергнуть нулевую гипотезу, нет оснований считать доли разными\n",
      "\n",
      "CartScreenAppear p-значение: [0.07842923]\n",
      "Не получилось отвергнуть нулевую гипотезу, нет оснований считать доли разными\n",
      "\n",
      "PaymentScreenSuccessful p-значение: [0.21225533]\n",
      "Не получилось отвергнуть нулевую гипотезу, нет оснований считать доли разными\n",
      "\n"
     ]
    }
   ],
   "source": [
    "test(\"A1\", \"B\", 0.05)"
   ]
  },
  {
   "cell_type": "markdown",
   "metadata": {},
   "source": [
    "**Сформулируем нулевую и альтернативную гипотезы:**\n",
    "\n",
    "**H0: различий в ĸонверсии перехода от одной страницы в воронĸе ĸ\n",
    "следующей между группами А2 и В нет**\n",
    "\n",
    "**H1: существуют статистически значимая разница в ĸонверсии перехода от одной страницы в воронĸе ĸ\n",
    "следующей между группами А2 и В.**"
   ]
  },
  {
   "cell_type": "code",
   "execution_count": 41,
   "metadata": {},
   "outputs": [
    {
     "name": "stdout",
     "output_type": "stream",
     "text": [
      "MainScreenAppear p-значение: [0.45870536]\n",
      "Не получилось отвергнуть нулевую гипотезу, нет оснований считать доли разными\n",
      "\n",
      "OffersScreenAppear p-значение: [0.91978178]\n",
      "Не получилось отвергнуть нулевую гипотезу, нет оснований считать доли разными\n",
      "\n",
      "CartScreenAppear p-значение: [0.57861979]\n",
      "Не получилось отвергнуть нулевую гипотезу, нет оснований считать доли разными\n",
      "\n",
      "PaymentScreenSuccessful p-значение: [0.73734151]\n",
      "Не получилось отвергнуть нулевую гипотезу, нет оснований считать доли разными\n",
      "\n"
     ]
    }
   ],
   "source": [
    "test(\"A2\", \"B\", 0.05)"
   ]
  },
  {
   "cell_type": "markdown",
   "metadata": {},
   "source": [
    "**Выводы:**\n",
    "\n",
    "При поочередном сравнении двух контрольных групп А1, А2 с экспериментальной группой В, тесты не выявили статистически значимых различий. Причем для каждого события. \n",
    "Однако, стоит отметить, что при сравнении группы А2 с экспериментальной группой B p-значения для каждого события в тесте выше, чем при сравнении группы А1 с В. "
   ]
  },
  {
   "cell_type": "markdown",
   "metadata": {},
   "source": [
    "### Проведем тест для объединенной группы А1+А2 с экспериментальной группой В."
   ]
  },
  {
   "cell_type": "markdown",
   "metadata": {},
   "source": [
    "**Сформулируем нулевую и альтернативную гипотезы:**\n",
    "\n",
    "**H0: различий в ĸонверсии перехода от одной страницы в воронĸе ĸ\n",
    "следующей между объединенной группой А1+А2 и группой В нет**\n",
    "\n",
    "**H1: существуют статистически значимая разница в ĸонверсии перехода от одной страницы в воронĸе ĸ\n",
    "следующей между объединенной группой А1+А2 и группой В.**"
   ]
  },
  {
   "cell_type": "markdown",
   "metadata": {},
   "source": [
    "Для теста, добавим данные для объединенной группы."
   ]
  },
  {
   "cell_type": "code",
   "execution_count": 42,
   "metadata": {},
   "outputs": [
    {
     "data": {
      "text/html": [
       "<div>\n",
       "<style scoped>\n",
       "    .dataframe tbody tr th:only-of-type {\n",
       "        vertical-align: middle;\n",
       "    }\n",
       "\n",
       "    .dataframe tbody tr th {\n",
       "        vertical-align: top;\n",
       "    }\n",
       "\n",
       "    .dataframe thead th {\n",
       "        text-align: right;\n",
       "    }\n",
       "</style>\n",
       "<table border=\"1\" class=\"dataframe\">\n",
       "  <thead>\n",
       "    <tr style=\"text-align: right;\">\n",
       "      <th>group</th>\n",
       "      <th>event_name</th>\n",
       "      <th>A1</th>\n",
       "      <th>A2</th>\n",
       "      <th>B</th>\n",
       "      <th>A1+A2</th>\n",
       "    </tr>\n",
       "  </thead>\n",
       "  <tbody>\n",
       "    <tr>\n",
       "      <th>1</th>\n",
       "      <td>MainScreenAppear</td>\n",
       "      <td>2450</td>\n",
       "      <td>2476</td>\n",
       "      <td>2493</td>\n",
       "      <td>4926</td>\n",
       "    </tr>\n",
       "    <tr>\n",
       "      <th>2</th>\n",
       "      <td>OffersScreenAppear</td>\n",
       "      <td>1542</td>\n",
       "      <td>1520</td>\n",
       "      <td>1531</td>\n",
       "      <td>3062</td>\n",
       "    </tr>\n",
       "    <tr>\n",
       "      <th>0</th>\n",
       "      <td>CartScreenAppear</td>\n",
       "      <td>1266</td>\n",
       "      <td>1238</td>\n",
       "      <td>1230</td>\n",
       "      <td>2504</td>\n",
       "    </tr>\n",
       "    <tr>\n",
       "      <th>3</th>\n",
       "      <td>PaymentScreenSuccessful</td>\n",
       "      <td>1200</td>\n",
       "      <td>1158</td>\n",
       "      <td>1181</td>\n",
       "      <td>2358</td>\n",
       "    </tr>\n",
       "  </tbody>\n",
       "</table>\n",
       "</div>"
      ],
      "text/plain": [
       "group               event_name    A1    A2     B  A1+A2\n",
       "1             MainScreenAppear  2450  2476  2493   4926\n",
       "2           OffersScreenAppear  1542  1520  1531   3062\n",
       "0             CartScreenAppear  1266  1238  1230   2504\n",
       "3      PaymentScreenSuccessful  1200  1158  1181   2358"
      ]
     },
     "execution_count": 42,
     "metadata": {},
     "output_type": "execute_result"
    }
   ],
   "source": [
    "users_by_group['A1+A2'] = users_by_group['A1'] + users_by_group['A2']\n",
    "users_by_group\n",
    "\n",
    "group_test['A1+A2'] = group_test['A1'] + group_test['A2']\n",
    "group_test"
   ]
  },
  {
   "cell_type": "code",
   "execution_count": 43,
   "metadata": {},
   "outputs": [
    {
     "name": "stdout",
     "output_type": "stream",
     "text": [
      "MainScreenAppear p-значение: [0.29424527]\n",
      "Не получилось отвергнуть нулевую гипотезу, нет оснований считать доли разными\n",
      "\n",
      "OffersScreenAppear p-значение: [0.4342555]\n",
      "Не получилось отвергнуть нулевую гипотезу, нет оснований считать доли разными\n",
      "\n",
      "CartScreenAppear p-значение: [0.18175875]\n",
      "Не получилось отвергнуть нулевую гипотезу, нет оснований считать доли разными\n",
      "\n",
      "PaymentScreenSuccessful p-значение: [0.60042943]\n",
      "Не получилось отвергнуть нулевую гипотезу, нет оснований считать доли разными\n",
      "\n"
     ]
    }
   ],
   "source": [
    "test(\"A1+A2\", \"B\", 0.05)"
   ]
  },
  {
   "cell_type": "markdown",
   "metadata": {},
   "source": [
    "**Вывод:**\n",
    "\n",
    "Как и в случае с предыдушими тестами, у нас нет оснований считать разницу между объединенными контрольными группами (А1+А2) и экспериментальной группой В статистически значимой, а это значит, что мы не можем отвергнуть нулевую гипотезу."
   ]
  },
  {
   "cell_type": "markdown",
   "metadata": {},
   "source": [
    "**Выводы по шагу 5:**\n",
    "\n",
    "Было проведено 16 тестов, для каждого из 4 ключевых событий воронки (MainScreenAppear, OffersScreenAppear, CartScreenAppear, PaymentScreenSuccessful).\n",
    "\n",
    "Был задан ĸритичесĸий уровень статистичесĸой значимости alpha = 0.05, чтобы не увеличивать вероятность ошибки. \n",
    "\n",
    "Попарно сравнивались:\n",
    "- А1/А2 группы\n",
    "- А1/В группы\n",
    "- А2/В группы\n",
    "- А1+А2/В группы\n",
    "\n",
    "Ни одна из проведенных проверок (из 16) не показала, что существует статистически значимая разница между группами. А это значит, что мы можем сделать вывод, что измение шрифта не оказало значимого влияния на поведение пользователей.\n",
    "\n"
   ]
  },
  {
   "cell_type": "markdown",
   "metadata": {},
   "source": [
    "## Общие выводы."
   ]
  },
  {
   "cell_type": "markdown",
   "metadata": {},
   "source": [
    "**Исходя из структуры проекта, были получены следующие выводы по ключевым шагам:**\n",
    "\n",
    "**1. Полученные для анализа данные были предобработаны.**\n",
    "\n",
    "Сделано следующее:\n",
    "\n",
    "- Для удобства работы изменены имена столбцов;\n",
    "- Добавлен столбец с датами;\n",
    "- Изменены названия групп (246, 247, 248 - А1, А2, В);\n",
    "- Выявлены и удалены 413 явных дубликатов (0.2% данных);\n",
    "- Проверено пересечение пользователей в группах. Пересекающиеся пользователи не были обнаружены.\n",
    "\n",
    "Поскольку в данных были обнаружены дубликаты, возможно, стоит технически выяснить откуда они появились.\n",
    "\n",
    "**2. Данные были проверены и изучены.**\n",
    "\n",
    "Основные выводы:\n",
    "\n",
    "- Определен актуальный период для целей исследования - с 2019-08-01 по 2019-08-07.\n",
    "- Избавились от неинформативной части данных, удалены записи о 2826 событиях, что составляет 1.2%, а также о 17 пользователях, что составляет 0.2%.\n",
    "- Определено, что после очистки данных, были сохранены пользователи из трех экспериментальных групп, количество участников которых в среднем находится на уровне 2500 человек.\n",
    "- Определено, что в среднем на пользователя приходится 20 событий.\n",
    "\n",
    "**3. Определена и изучена воронка событий.**\n",
    "\n",
    "Основные выводы:\n",
    "\n",
    "Воронка выглядит следующим образом:\n",
    "1. Сначала человек попадает на главную страницу приложения (MainScreenAppear);\n",
    "2. Далее переходит на страницу с предложениями (OffersScreenAppear);\n",
    "3. Добавляет необходимое и переходит в корзину (CartScreenAppear);\n",
    "4. Оплачивает заказ (CartScreenAppear).\n",
    "\n",
    "- Наибольшая потеря клиентов случается на втором шаге - когда пользователь переходит с главной страницы на страницу с предложениями/товарами. Следует выяснить причину отскока, возможно существуют технические проблемы или предложения не сильно привлекают пользователей.\n",
    "- 47.7 процентов пользователей проходят путь от главной страницы до оплаты.\n",
    "- Наиболее популярное событие - MainScreenAppear - просмотр главного эĸрана приложения. Наиболее редĸое - Tutorial.\n",
    "\n",
    "**4. Изучены результаты эксперимента и тестов.**\n",
    "\n",
    "Было проведено 16 тестов, для каждого из 4 ключевых событий воронки (MainScreenAppear, OffersScreenAppear, CartScreenAppear, PaymentScreenSuccessful).\n",
    "\n",
    "Был задан ĸритичесĸий уровень статистичесĸой значимости alpha = 0.05, чтобы не увеличивать вероятность ошибки.\n",
    "\n",
    "Попарно сравнивались:\n",
    "\n",
    "А1/А2 группы\n",
    "\n",
    "А1/В группы\n",
    "\n",
    "А2/В группы\n",
    "\n",
    "А1+А2/В группы\n",
    "\n",
    "Ни одна из проведенных проверок (из 16) не показала, что существует статистически значимая разница между группами.\n",
    "\n",
    "Таким образом, по результатам тестов мы не выявили значимого влияния нового шрифта на изменение поведения пользователей в приложении. А значит, что новый шрифт значительно не повлияет на поведение пользователей."
   ]
  }
 ],
 "metadata": {
  "ExecuteTimeLog": [
   {
    "duration": 1422,
    "start_time": "2023-10-24T09:45:53.432Z"
   },
   {
    "duration": 644,
    "start_time": "2023-10-24T09:46:40.790Z"
   },
   {
    "duration": 15,
    "start_time": "2023-10-24T09:46:49.347Z"
   },
   {
    "duration": 90,
    "start_time": "2023-10-24T09:47:39.854Z"
   },
   {
    "duration": 181,
    "start_time": "2023-10-24T09:50:53.645Z"
   },
   {
    "duration": 10,
    "start_time": "2023-10-24T09:50:57.701Z"
   },
   {
    "duration": 177,
    "start_time": "2023-10-24T09:51:54.237Z"
   },
   {
    "duration": 10,
    "start_time": "2023-10-24T09:51:55.532Z"
   },
   {
    "duration": 10,
    "start_time": "2023-10-24T09:52:07.608Z"
   },
   {
    "duration": 11,
    "start_time": "2023-10-24T09:52:11.649Z"
   },
   {
    "duration": 167,
    "start_time": "2023-10-24T09:52:13.010Z"
   },
   {
    "duration": 11,
    "start_time": "2023-10-24T09:52:14.376Z"
   },
   {
    "duration": 24,
    "start_time": "2023-10-24T10:00:08.250Z"
   },
   {
    "duration": 7,
    "start_time": "2023-10-24T10:01:01.042Z"
   },
   {
    "duration": 7,
    "start_time": "2023-10-24T10:18:09.361Z"
   },
   {
    "duration": 11,
    "start_time": "2023-10-24T10:18:37.897Z"
   },
   {
    "duration": 4,
    "start_time": "2023-10-24T10:19:18.176Z"
   },
   {
    "duration": 2,
    "start_time": "2023-10-24T10:20:46.942Z"
   },
   {
    "duration": 1902,
    "start_time": "2023-10-24T10:22:05.273Z"
   },
   {
    "duration": 107,
    "start_time": "2023-10-24T10:22:13.238Z"
   },
   {
    "duration": 1172,
    "start_time": "2023-10-24T10:22:23.453Z"
   },
   {
    "duration": 193,
    "start_time": "2023-10-24T10:22:24.627Z"
   },
   {
    "duration": 26,
    "start_time": "2023-10-24T10:22:24.822Z"
   },
   {
    "duration": 44,
    "start_time": "2023-10-24T10:22:24.850Z"
   },
   {
    "duration": 47,
    "start_time": "2023-10-24T10:22:24.896Z"
   },
   {
    "duration": 48,
    "start_time": "2023-10-24T10:22:24.945Z"
   },
   {
    "duration": 156,
    "start_time": "2023-10-24T10:22:24.995Z"
   },
   {
    "duration": 13,
    "start_time": "2023-10-24T10:22:28.464Z"
   },
   {
    "duration": 1134,
    "start_time": "2023-10-24T10:23:44.296Z"
   },
   {
    "duration": 176,
    "start_time": "2023-10-24T10:23:45.432Z"
   },
   {
    "duration": 25,
    "start_time": "2023-10-24T10:23:45.610Z"
   },
   {
    "duration": 21,
    "start_time": "2023-10-24T10:23:45.638Z"
   },
   {
    "duration": 37,
    "start_time": "2023-10-24T10:23:45.661Z"
   },
   {
    "duration": 10,
    "start_time": "2023-10-24T10:23:45.700Z"
   },
   {
    "duration": 187,
    "start_time": "2023-10-24T10:23:45.712Z"
   },
   {
    "duration": 19,
    "start_time": "2023-10-24T10:23:45.901Z"
   },
   {
    "duration": 56,
    "start_time": "2023-10-24T10:28:26.262Z"
   },
   {
    "duration": 60,
    "start_time": "2023-10-24T10:29:00.905Z"
   },
   {
    "duration": 26,
    "start_time": "2023-10-24T10:29:48.859Z"
   },
   {
    "duration": 52,
    "start_time": "2023-10-24T10:30:13.833Z"
   },
   {
    "duration": 16,
    "start_time": "2023-10-24T10:30:15.950Z"
   },
   {
    "duration": 15,
    "start_time": "2023-10-24T10:30:19.485Z"
   },
   {
    "duration": 56,
    "start_time": "2023-10-24T10:31:07.206Z"
   },
   {
    "duration": 14,
    "start_time": "2023-10-24T10:31:09.146Z"
   },
   {
    "duration": 15,
    "start_time": "2023-10-24T10:31:12.525Z"
   },
   {
    "duration": 65,
    "start_time": "2023-10-24T10:31:16.307Z"
   },
   {
    "duration": 1220,
    "start_time": "2023-10-24T10:31:29.741Z"
   },
   {
    "duration": 180,
    "start_time": "2023-10-24T10:31:30.963Z"
   },
   {
    "duration": 24,
    "start_time": "2023-10-24T10:31:31.145Z"
   },
   {
    "duration": 72,
    "start_time": "2023-10-24T10:31:31.171Z"
   },
   {
    "duration": 68,
    "start_time": "2023-10-24T10:31:31.246Z"
   },
   {
    "duration": 63,
    "start_time": "2023-10-24T10:31:31.317Z"
   },
   {
    "duration": 163,
    "start_time": "2023-10-24T10:31:31.382Z"
   },
   {
    "duration": 60,
    "start_time": "2023-10-24T10:31:31.547Z"
   },
   {
    "duration": 36,
    "start_time": "2023-10-24T10:31:31.609Z"
   },
   {
    "duration": 129,
    "start_time": "2023-10-24T10:31:31.647Z"
   },
   {
    "duration": 15,
    "start_time": "2023-10-24T10:32:25.478Z"
   },
   {
    "duration": 27,
    "start_time": "2023-10-24T10:32:39.384Z"
   },
   {
    "duration": 101,
    "start_time": "2023-10-24T10:32:52.623Z"
   },
   {
    "duration": 75,
    "start_time": "2023-10-24T10:33:28.639Z"
   },
   {
    "duration": 72,
    "start_time": "2023-10-24T10:33:33.443Z"
   },
   {
    "duration": 84,
    "start_time": "2023-10-24T10:33:39.604Z"
   },
   {
    "duration": 1593,
    "start_time": "2023-10-24T10:35:55.449Z"
   },
   {
    "duration": 67,
    "start_time": "2023-10-24T10:36:00.403Z"
   },
   {
    "duration": 70,
    "start_time": "2023-10-24T10:36:11.004Z"
   },
   {
    "duration": 90,
    "start_time": "2023-10-24T10:37:44.480Z"
   },
   {
    "duration": 3,
    "start_time": "2023-10-24T10:38:53.685Z"
   },
   {
    "duration": 226,
    "start_time": "2023-10-24T10:41:02.905Z"
   },
   {
    "duration": 50,
    "start_time": "2023-10-24T10:41:18.548Z"
   },
   {
    "duration": 60,
    "start_time": "2023-10-24T10:42:41.536Z"
   },
   {
    "duration": 65,
    "start_time": "2023-10-24T10:43:02.467Z"
   },
   {
    "duration": 63,
    "start_time": "2023-10-24T10:43:10.860Z"
   },
   {
    "duration": 80,
    "start_time": "2023-10-24T10:43:45.208Z"
   },
   {
    "duration": 66,
    "start_time": "2023-10-24T10:44:01.682Z"
   },
   {
    "duration": 80,
    "start_time": "2023-10-24T10:44:20.228Z"
   },
   {
    "duration": 67,
    "start_time": "2023-10-24T10:44:32.360Z"
   },
   {
    "duration": 1143,
    "start_time": "2023-10-24T10:48:13.637Z"
   },
   {
    "duration": 183,
    "start_time": "2023-10-24T10:48:14.782Z"
   },
   {
    "duration": 22,
    "start_time": "2023-10-24T10:48:14.967Z"
   },
   {
    "duration": 11,
    "start_time": "2023-10-24T10:48:14.991Z"
   },
   {
    "duration": 23,
    "start_time": "2023-10-24T10:48:15.004Z"
   },
   {
    "duration": 47,
    "start_time": "2023-10-24T10:48:15.028Z"
   },
   {
    "duration": 166,
    "start_time": "2023-10-24T10:48:15.076Z"
   },
   {
    "duration": 58,
    "start_time": "2023-10-24T10:48:15.244Z"
   },
   {
    "duration": 27,
    "start_time": "2023-10-24T10:48:15.304Z"
   },
   {
    "duration": 36,
    "start_time": "2023-10-24T10:48:15.333Z"
   },
   {
    "duration": 85,
    "start_time": "2023-10-24T10:48:15.370Z"
   },
   {
    "duration": 83,
    "start_time": "2023-10-24T10:48:15.457Z"
   },
   {
    "duration": 102,
    "start_time": "2023-10-24T10:48:15.542Z"
   },
   {
    "duration": 60,
    "start_time": "2023-10-24T10:48:15.646Z"
   },
   {
    "duration": 25,
    "start_time": "2023-10-24T10:48:15.708Z"
   },
   {
    "duration": 3,
    "start_time": "2023-10-24T10:53:31.801Z"
   },
   {
    "duration": 3,
    "start_time": "2023-10-24T10:55:44.404Z"
   },
   {
    "duration": 14,
    "start_time": "2023-10-24T11:00:28.872Z"
   },
   {
    "duration": 15,
    "start_time": "2023-10-24T11:02:33.990Z"
   },
   {
    "duration": 320,
    "start_time": "2023-10-24T11:02:51.311Z"
   },
   {
    "duration": 14,
    "start_time": "2023-10-24T11:03:03.501Z"
   },
   {
    "duration": 92,
    "start_time": "2023-10-24T11:04:04.616Z"
   },
   {
    "duration": 14,
    "start_time": "2023-10-24T11:04:07.887Z"
   },
   {
    "duration": 19,
    "start_time": "2023-10-24T11:04:27.544Z"
   },
   {
    "duration": 130,
    "start_time": "2023-10-24T11:05:23.070Z"
   },
   {
    "duration": 44,
    "start_time": "2023-10-24T11:05:30.635Z"
   },
   {
    "duration": 59,
    "start_time": "2023-10-24T11:05:45.729Z"
   },
   {
    "duration": 66,
    "start_time": "2023-10-24T11:06:38.642Z"
   },
   {
    "duration": 61,
    "start_time": "2023-10-24T11:07:15.545Z"
   },
   {
    "duration": 93,
    "start_time": "2023-10-24T11:08:10.395Z"
   },
   {
    "duration": 30,
    "start_time": "2023-10-24T11:08:13.318Z"
   },
   {
    "duration": 23,
    "start_time": "2023-10-24T11:08:19.442Z"
   },
   {
    "duration": 27,
    "start_time": "2023-10-24T11:08:22.795Z"
   },
   {
    "duration": 14,
    "start_time": "2023-10-24T11:09:48.405Z"
   },
   {
    "duration": 8,
    "start_time": "2023-10-24T11:10:01.214Z"
   },
   {
    "duration": 8,
    "start_time": "2023-10-24T11:10:15.138Z"
   },
   {
    "duration": 33,
    "start_time": "2023-10-24T11:11:42.849Z"
   },
   {
    "duration": 40,
    "start_time": "2023-10-24T11:11:56.883Z"
   },
   {
    "duration": 6,
    "start_time": "2023-10-24T11:15:48.036Z"
   },
   {
    "duration": 7,
    "start_time": "2023-10-24T11:15:58.537Z"
   },
   {
    "duration": 6,
    "start_time": "2023-10-24T11:16:13.915Z"
   },
   {
    "duration": 5,
    "start_time": "2023-10-24T11:19:29.495Z"
   },
   {
    "duration": 454,
    "start_time": "2023-10-24T11:28:30.034Z"
   },
   {
    "duration": 1034,
    "start_time": "2023-10-24T11:32:59.787Z"
   },
   {
    "duration": 487,
    "start_time": "2023-10-24T11:33:08.602Z"
   },
   {
    "duration": 519,
    "start_time": "2023-10-24T11:33:21.817Z"
   },
   {
    "duration": 520,
    "start_time": "2023-10-24T11:33:31.616Z"
   },
   {
    "duration": 619,
    "start_time": "2023-10-24T11:33:40.435Z"
   },
   {
    "duration": 482,
    "start_time": "2023-10-24T11:33:53.925Z"
   },
   {
    "duration": 144,
    "start_time": "2023-10-24T11:46:27.431Z"
   },
   {
    "duration": 4,
    "start_time": "2023-10-24T11:47:00.009Z"
   },
   {
    "duration": 1260,
    "start_time": "2023-10-24T11:47:40.150Z"
   },
   {
    "duration": 189,
    "start_time": "2023-10-24T11:47:41.412Z"
   },
   {
    "duration": 27,
    "start_time": "2023-10-24T11:47:41.603Z"
   },
   {
    "duration": 37,
    "start_time": "2023-10-24T11:47:41.632Z"
   },
   {
    "duration": 7,
    "start_time": "2023-10-24T11:47:41.672Z"
   },
   {
    "duration": 5,
    "start_time": "2023-10-24T11:47:41.681Z"
   },
   {
    "duration": 117,
    "start_time": "2023-10-24T11:47:41.687Z"
   },
   {
    "duration": 64,
    "start_time": "2023-10-24T11:47:41.806Z"
   },
   {
    "duration": 17,
    "start_time": "2023-10-24T11:47:41.872Z"
   },
   {
    "duration": 43,
    "start_time": "2023-10-24T11:47:41.891Z"
   },
   {
    "duration": 89,
    "start_time": "2023-10-24T11:47:41.936Z"
   },
   {
    "duration": 87,
    "start_time": "2023-10-24T11:47:42.027Z"
   },
   {
    "duration": 112,
    "start_time": "2023-10-24T11:47:42.125Z"
   },
   {
    "duration": 67,
    "start_time": "2023-10-24T11:47:42.240Z"
   },
   {
    "duration": 61,
    "start_time": "2023-10-24T11:47:42.324Z"
   },
   {
    "duration": 41,
    "start_time": "2023-10-24T11:47:42.387Z"
   },
   {
    "duration": 11,
    "start_time": "2023-10-24T11:47:42.430Z"
   },
   {
    "duration": 21,
    "start_time": "2023-10-24T11:47:42.442Z"
   },
   {
    "duration": 12,
    "start_time": "2023-10-24T11:47:42.465Z"
   },
   {
    "duration": 569,
    "start_time": "2023-10-24T11:47:42.478Z"
   },
   {
    "duration": 1226,
    "start_time": "2023-10-24T11:50:14.005Z"
   },
   {
    "duration": 186,
    "start_time": "2023-10-24T11:50:15.233Z"
   },
   {
    "duration": 26,
    "start_time": "2023-10-24T11:50:15.422Z"
   },
   {
    "duration": 67,
    "start_time": "2023-10-24T11:50:15.451Z"
   },
   {
    "duration": 29,
    "start_time": "2023-10-24T11:50:15.520Z"
   },
   {
    "duration": 16,
    "start_time": "2023-10-24T11:50:15.551Z"
   },
   {
    "duration": 136,
    "start_time": "2023-10-24T11:50:15.569Z"
   },
   {
    "duration": 58,
    "start_time": "2023-10-24T11:50:15.707Z"
   },
   {
    "duration": 23,
    "start_time": "2023-10-24T11:50:15.767Z"
   },
   {
    "duration": 84,
    "start_time": "2023-10-24T11:50:15.793Z"
   },
   {
    "duration": 226,
    "start_time": "2023-10-24T11:50:15.879Z"
   },
   {
    "duration": 148,
    "start_time": "2023-10-24T11:50:16.107Z"
   },
   {
    "duration": 186,
    "start_time": "2023-10-24T11:50:16.258Z"
   },
   {
    "duration": 77,
    "start_time": "2023-10-24T11:50:16.447Z"
   },
   {
    "duration": 127,
    "start_time": "2023-10-24T11:50:16.525Z"
   },
   {
    "duration": 134,
    "start_time": "2023-10-24T11:50:16.653Z"
   },
   {
    "duration": 31,
    "start_time": "2023-10-24T11:50:16.789Z"
   },
   {
    "duration": 38,
    "start_time": "2023-10-24T11:50:16.822Z"
   },
   {
    "duration": 82,
    "start_time": "2023-10-24T11:50:16.861Z"
   },
   {
    "duration": 579,
    "start_time": "2023-10-24T11:50:16.945Z"
   },
   {
    "duration": 16,
    "start_time": "2023-10-24T11:50:17.525Z"
   },
   {
    "duration": 58,
    "start_time": "2023-10-24T11:58:52.484Z"
   },
   {
    "duration": 107,
    "start_time": "2023-10-24T11:59:13.463Z"
   },
   {
    "duration": 263,
    "start_time": "2023-10-24T11:59:16.656Z"
   },
   {
    "duration": 362,
    "start_time": "2023-10-24T12:00:37.931Z"
   },
   {
    "duration": 344,
    "start_time": "2023-10-24T12:01:08.546Z"
   },
   {
    "duration": 427,
    "start_time": "2023-10-24T12:02:40.899Z"
   },
   {
    "duration": 182,
    "start_time": "2023-10-24T12:03:10.236Z"
   },
   {
    "duration": 346,
    "start_time": "2023-10-24T12:03:13.153Z"
   },
   {
    "duration": 363,
    "start_time": "2023-10-24T12:03:27.420Z"
   },
   {
    "duration": 358,
    "start_time": "2023-10-24T12:04:14.215Z"
   },
   {
    "duration": 17,
    "start_time": "2023-10-24T12:11:32.975Z"
   },
   {
    "duration": 14,
    "start_time": "2023-10-24T12:12:17.242Z"
   },
   {
    "duration": 34,
    "start_time": "2023-10-24T12:12:30.361Z"
   },
   {
    "duration": 45,
    "start_time": "2023-10-24T12:16:09.393Z"
   },
   {
    "duration": 90,
    "start_time": "2023-10-24T12:16:31.276Z"
   },
   {
    "duration": 51,
    "start_time": "2023-10-24T12:16:35.943Z"
   },
   {
    "duration": 35,
    "start_time": "2023-10-24T12:16:42.376Z"
   },
   {
    "duration": 35,
    "start_time": "2023-10-24T12:16:49.412Z"
   },
   {
    "duration": 35,
    "start_time": "2023-10-24T12:18:12.920Z"
   },
   {
    "duration": 47,
    "start_time": "2023-10-24T12:18:48.287Z"
   },
   {
    "duration": 42,
    "start_time": "2023-10-24T12:21:19.975Z"
   },
   {
    "duration": 24,
    "start_time": "2023-10-24T13:41:51.473Z"
   },
   {
    "duration": 28,
    "start_time": "2023-10-24T13:42:38.018Z"
   },
   {
    "duration": 1295,
    "start_time": "2023-10-24T13:42:44.068Z"
   },
   {
    "duration": 247,
    "start_time": "2023-10-24T13:42:45.366Z"
   },
   {
    "duration": 32,
    "start_time": "2023-10-24T13:42:45.615Z"
   },
   {
    "duration": 88,
    "start_time": "2023-10-24T13:42:45.650Z"
   },
   {
    "duration": 52,
    "start_time": "2023-10-24T13:42:45.740Z"
   },
   {
    "duration": 90,
    "start_time": "2023-10-24T13:42:45.794Z"
   },
   {
    "duration": 331,
    "start_time": "2023-10-24T13:42:45.886Z"
   },
   {
    "duration": 115,
    "start_time": "2023-10-24T13:42:46.220Z"
   },
   {
    "duration": 32,
    "start_time": "2023-10-24T13:42:46.337Z"
   },
   {
    "duration": 75,
    "start_time": "2023-10-24T13:42:46.373Z"
   },
   {
    "duration": 122,
    "start_time": "2023-10-24T13:42:46.451Z"
   },
   {
    "duration": 99,
    "start_time": "2023-10-24T13:42:46.575Z"
   },
   {
    "duration": 169,
    "start_time": "2023-10-24T13:42:46.676Z"
   },
   {
    "duration": 97,
    "start_time": "2023-10-24T13:42:46.847Z"
   },
   {
    "duration": 86,
    "start_time": "2023-10-24T13:42:46.947Z"
   },
   {
    "duration": 29,
    "start_time": "2023-10-24T13:42:47.036Z"
   },
   {
    "duration": 93,
    "start_time": "2023-10-24T13:42:47.067Z"
   },
   {
    "duration": 85,
    "start_time": "2023-10-24T13:42:47.162Z"
   },
   {
    "duration": 6,
    "start_time": "2023-10-24T13:42:47.249Z"
   },
   {
    "duration": 428,
    "start_time": "2023-10-24T13:42:47.257Z"
   },
   {
    "duration": 49,
    "start_time": "2023-10-24T13:42:47.687Z"
   },
   {
    "duration": 72,
    "start_time": "2023-10-24T13:42:47.738Z"
   },
   {
    "duration": 109,
    "start_time": "2023-10-24T13:42:47.824Z"
   },
   {
    "duration": 20,
    "start_time": "2023-10-24T13:42:47.935Z"
   },
   {
    "duration": 49,
    "start_time": "2023-10-24T13:43:21.540Z"
   },
   {
    "duration": 157,
    "start_time": "2023-10-24T13:47:48.637Z"
   },
   {
    "duration": 128,
    "start_time": "2023-10-24T13:47:57.325Z"
   },
   {
    "duration": 169,
    "start_time": "2023-10-24T13:48:03.678Z"
   },
   {
    "duration": 183,
    "start_time": "2023-10-24T13:48:16.851Z"
   },
   {
    "duration": 207,
    "start_time": "2023-10-24T13:48:29.006Z"
   },
   {
    "duration": 199,
    "start_time": "2023-10-24T13:49:39.702Z"
   },
   {
    "duration": 202,
    "start_time": "2023-10-24T13:49:50.134Z"
   },
   {
    "duration": 288,
    "start_time": "2023-10-24T13:50:23.707Z"
   },
   {
    "duration": 91,
    "start_time": "2023-10-24T13:51:05.123Z"
   },
   {
    "duration": 184,
    "start_time": "2023-10-24T13:51:07.155Z"
   },
   {
    "duration": 196,
    "start_time": "2023-10-24T13:51:52.352Z"
   },
   {
    "duration": 208,
    "start_time": "2023-10-24T13:52:05.029Z"
   },
   {
    "duration": 256,
    "start_time": "2023-10-24T13:54:51.208Z"
   },
   {
    "duration": 200,
    "start_time": "2023-10-24T13:55:00.641Z"
   },
   {
    "duration": 35,
    "start_time": "2023-10-24T13:57:49.917Z"
   },
   {
    "duration": 86,
    "start_time": "2023-10-24T13:57:55.658Z"
   },
   {
    "duration": 105,
    "start_time": "2023-10-24T13:58:54.550Z"
   },
   {
    "duration": 103,
    "start_time": "2023-10-24T14:00:20.733Z"
   },
   {
    "duration": 129,
    "start_time": "2023-10-24T14:00:33.127Z"
   },
   {
    "duration": 99,
    "start_time": "2023-10-24T14:01:14.128Z"
   },
   {
    "duration": 9,
    "start_time": "2023-10-24T14:01:20.065Z"
   },
   {
    "duration": 92,
    "start_time": "2023-10-24T14:03:21.968Z"
   },
   {
    "duration": 85,
    "start_time": "2023-10-24T14:03:28.309Z"
   },
   {
    "duration": 94,
    "start_time": "2023-10-24T14:03:36.071Z"
   },
   {
    "duration": 76,
    "start_time": "2023-10-24T14:03:38.064Z"
   },
   {
    "duration": 8,
    "start_time": "2023-10-24T14:03:41.450Z"
   },
   {
    "duration": 12,
    "start_time": "2023-10-24T14:05:13.268Z"
   },
   {
    "duration": 16,
    "start_time": "2023-10-24T14:05:29.218Z"
   },
   {
    "duration": 113,
    "start_time": "2023-10-24T14:05:52.303Z"
   },
   {
    "duration": 86,
    "start_time": "2023-10-24T14:06:01.635Z"
   },
   {
    "duration": 85,
    "start_time": "2023-10-24T14:06:04.442Z"
   },
   {
    "duration": 8,
    "start_time": "2023-10-24T14:06:36.501Z"
   },
   {
    "duration": 11,
    "start_time": "2023-10-24T14:06:38.741Z"
   },
   {
    "duration": 16,
    "start_time": "2023-10-24T14:06:56.062Z"
   },
   {
    "duration": 7,
    "start_time": "2023-10-24T14:31:59.491Z"
   },
   {
    "duration": 92,
    "start_time": "2023-10-24T14:50:03.003Z"
   },
   {
    "duration": 79,
    "start_time": "2023-10-24T14:50:22.165Z"
   },
   {
    "duration": 68,
    "start_time": "2023-10-24T14:52:16.703Z"
   },
   {
    "duration": 86,
    "start_time": "2023-10-24T14:52:27.768Z"
   },
   {
    "duration": 71,
    "start_time": "2023-10-24T14:53:16.277Z"
   },
   {
    "duration": 108,
    "start_time": "2023-10-24T14:53:36.032Z"
   },
   {
    "duration": 83,
    "start_time": "2023-10-24T14:53:48.858Z"
   },
   {
    "duration": 81,
    "start_time": "2023-10-24T14:54:01.276Z"
   },
   {
    "duration": 71,
    "start_time": "2023-10-24T14:54:15.753Z"
   },
   {
    "duration": 113,
    "start_time": "2023-10-24T14:54:22.982Z"
   },
   {
    "duration": 73,
    "start_time": "2023-10-24T14:54:48.250Z"
   },
   {
    "duration": 73,
    "start_time": "2023-10-24T14:58:00.005Z"
   },
   {
    "duration": 75,
    "start_time": "2023-10-24T14:59:30.010Z"
   },
   {
    "duration": 78,
    "start_time": "2023-10-24T14:59:57.182Z"
   },
   {
    "duration": 78,
    "start_time": "2023-10-24T15:00:08.457Z"
   },
   {
    "duration": 80,
    "start_time": "2023-10-24T15:00:13.492Z"
   },
   {
    "duration": 2384,
    "start_time": "2023-10-24T15:01:05.339Z"
   },
   {
    "duration": 13,
    "start_time": "2023-10-24T15:01:46.192Z"
   },
   {
    "duration": 14,
    "start_time": "2023-10-24T15:02:29.920Z"
   },
   {
    "duration": 669,
    "start_time": "2023-10-24T15:11:37.608Z"
   },
   {
    "duration": 47,
    "start_time": "2023-10-24T15:15:00.713Z"
   },
   {
    "duration": 70,
    "start_time": "2023-10-24T15:15:25.784Z"
   },
   {
    "duration": 105,
    "start_time": "2023-10-24T15:23:29.627Z"
   },
   {
    "duration": 5,
    "start_time": "2023-10-24T15:24:59.352Z"
   },
   {
    "duration": 413,
    "start_time": "2023-10-24T15:25:07.098Z"
   },
   {
    "duration": 87,
    "start_time": "2023-10-24T15:25:52.034Z"
   },
   {
    "duration": 5,
    "start_time": "2023-10-24T15:26:31.109Z"
   },
   {
    "duration": 7,
    "start_time": "2023-10-24T15:26:52.972Z"
   },
   {
    "duration": 7,
    "start_time": "2023-10-24T15:27:36.870Z"
   },
   {
    "duration": 7,
    "start_time": "2023-10-24T15:27:42.339Z"
   },
   {
    "duration": 11,
    "start_time": "2023-10-24T15:28:02.029Z"
   },
   {
    "duration": 92,
    "start_time": "2023-10-24T15:28:56.934Z"
   },
   {
    "duration": 101,
    "start_time": "2023-10-24T15:29:03.381Z"
   },
   {
    "duration": 157,
    "start_time": "2023-10-24T15:30:05.744Z"
   },
   {
    "duration": 1250,
    "start_time": "2023-10-24T15:42:31.957Z"
   },
   {
    "duration": 269,
    "start_time": "2023-10-24T15:42:33.210Z"
   },
   {
    "duration": 36,
    "start_time": "2023-10-24T15:42:33.481Z"
   },
   {
    "duration": 23,
    "start_time": "2023-10-24T15:42:33.518Z"
   },
   {
    "duration": 27,
    "start_time": "2023-10-24T15:42:33.544Z"
   },
   {
    "duration": 39,
    "start_time": "2023-10-24T15:42:33.572Z"
   },
   {
    "duration": 353,
    "start_time": "2023-10-24T15:42:33.613Z"
   },
   {
    "duration": 106,
    "start_time": "2023-10-24T15:42:33.968Z"
   },
   {
    "duration": 16,
    "start_time": "2023-10-24T15:42:34.075Z"
   },
   {
    "duration": 223,
    "start_time": "2023-10-24T15:42:34.093Z"
   },
   {
    "duration": 164,
    "start_time": "2023-10-24T15:42:34.318Z"
   },
   {
    "duration": 103,
    "start_time": "2023-10-24T15:42:34.484Z"
   },
   {
    "duration": 125,
    "start_time": "2023-10-24T15:42:34.590Z"
   },
   {
    "duration": 77,
    "start_time": "2023-10-24T15:42:34.723Z"
   },
   {
    "duration": 104,
    "start_time": "2023-10-24T15:42:34.802Z"
   },
   {
    "duration": 48,
    "start_time": "2023-10-24T15:42:34.908Z"
   },
   {
    "duration": 12,
    "start_time": "2023-10-24T15:42:34.958Z"
   },
   {
    "duration": 21,
    "start_time": "2023-10-24T15:42:34.972Z"
   },
   {
    "duration": 5,
    "start_time": "2023-10-24T15:42:34.995Z"
   },
   {
    "duration": 418,
    "start_time": "2023-10-24T15:42:35.026Z"
   },
   {
    "duration": 27,
    "start_time": "2023-10-24T15:42:35.446Z"
   },
   {
    "duration": 125,
    "start_time": "2023-10-24T15:42:35.475Z"
   },
   {
    "duration": 62,
    "start_time": "2023-10-24T15:42:35.602Z"
   },
   {
    "duration": 40,
    "start_time": "2023-10-24T15:42:35.666Z"
   },
   {
    "duration": 56,
    "start_time": "2023-10-24T15:42:35.708Z"
   },
   {
    "duration": 209,
    "start_time": "2023-10-24T15:42:35.766Z"
   },
   {
    "duration": 106,
    "start_time": "2023-10-24T15:42:35.977Z"
   },
   {
    "duration": 15,
    "start_time": "2023-10-24T15:42:36.086Z"
   },
   {
    "duration": 132,
    "start_time": "2023-10-24T15:42:36.103Z"
   },
   {
    "duration": 779,
    "start_time": "2023-10-24T15:42:36.239Z"
   },
   {
    "duration": 266,
    "start_time": "2023-10-24T15:42:37.020Z"
   },
   {
    "duration": 1385,
    "start_time": "2023-10-24T16:11:09.522Z"
   },
   {
    "duration": 226,
    "start_time": "2023-10-24T16:11:10.910Z"
   },
   {
    "duration": 26,
    "start_time": "2023-10-24T16:11:11.148Z"
   },
   {
    "duration": 12,
    "start_time": "2023-10-24T16:11:11.177Z"
   },
   {
    "duration": 10,
    "start_time": "2023-10-24T16:11:11.190Z"
   },
   {
    "duration": 3,
    "start_time": "2023-10-24T16:11:11.202Z"
   },
   {
    "duration": 186,
    "start_time": "2023-10-24T16:11:11.207Z"
   },
   {
    "duration": 102,
    "start_time": "2023-10-24T16:11:11.395Z"
   },
   {
    "duration": 38,
    "start_time": "2023-10-24T16:11:11.499Z"
   },
   {
    "duration": 32,
    "start_time": "2023-10-24T16:11:11.540Z"
   },
   {
    "duration": 105,
    "start_time": "2023-10-24T16:11:11.574Z"
   },
   {
    "duration": 103,
    "start_time": "2023-10-24T16:11:11.681Z"
   },
   {
    "duration": 129,
    "start_time": "2023-10-24T16:11:11.786Z"
   },
   {
    "duration": 84,
    "start_time": "2023-10-24T16:11:11.918Z"
   },
   {
    "duration": 80,
    "start_time": "2023-10-24T16:11:12.003Z"
   },
   {
    "duration": 48,
    "start_time": "2023-10-24T16:11:12.085Z"
   },
   {
    "duration": 17,
    "start_time": "2023-10-24T16:11:12.135Z"
   },
   {
    "duration": 23,
    "start_time": "2023-10-24T16:11:12.154Z"
   },
   {
    "duration": 6,
    "start_time": "2023-10-24T16:11:12.178Z"
   },
   {
    "duration": 421,
    "start_time": "2023-10-24T16:11:12.186Z"
   },
   {
    "duration": 40,
    "start_time": "2023-10-24T16:11:12.609Z"
   },
   {
    "duration": 45,
    "start_time": "2023-10-24T16:11:12.651Z"
   },
   {
    "duration": 79,
    "start_time": "2023-10-24T16:11:12.698Z"
   },
   {
    "duration": 19,
    "start_time": "2023-10-24T16:11:12.780Z"
   },
   {
    "duration": 52,
    "start_time": "2023-10-24T16:11:12.801Z"
   },
   {
    "duration": 189,
    "start_time": "2023-10-24T16:11:12.855Z"
   },
   {
    "duration": 62,
    "start_time": "2023-10-24T16:11:13.047Z"
   },
   {
    "duration": 23,
    "start_time": "2023-10-24T16:11:13.112Z"
   },
   {
    "duration": 15,
    "start_time": "2023-10-24T16:11:13.140Z"
   },
   {
    "duration": 574,
    "start_time": "2023-10-24T16:11:13.157Z"
   },
   {
    "duration": 292,
    "start_time": "2023-10-24T16:11:13.733Z"
   },
   {
    "duration": 15,
    "start_time": "2023-10-24T16:16:00.084Z"
   },
   {
    "duration": 57,
    "start_time": "2023-10-24T16:18:54.804Z"
   },
   {
    "duration": 17,
    "start_time": "2023-10-24T17:15:23.628Z"
   },
   {
    "duration": 94,
    "start_time": "2023-10-24T17:16:38.124Z"
   },
   {
    "duration": 94,
    "start_time": "2023-10-24T17:16:44.030Z"
   },
   {
    "duration": 100,
    "start_time": "2023-10-24T17:17:00.594Z"
   },
   {
    "duration": 172,
    "start_time": "2023-10-24T18:25:42.623Z"
   },
   {
    "duration": 7,
    "start_time": "2023-10-24T18:26:49.252Z"
   },
   {
    "duration": 8,
    "start_time": "2023-10-24T18:28:01.203Z"
   },
   {
    "duration": 17,
    "start_time": "2023-10-24T18:28:06.323Z"
   },
   {
    "duration": 14,
    "start_time": "2023-10-24T18:28:45.122Z"
   },
   {
    "duration": 102,
    "start_time": "2023-10-24T18:30:32.063Z"
   },
   {
    "duration": 119,
    "start_time": "2023-10-24T18:31:21.240Z"
   },
   {
    "duration": 93,
    "start_time": "2023-10-24T18:32:04.443Z"
   },
   {
    "duration": 96,
    "start_time": "2023-10-24T18:32:08.546Z"
   },
   {
    "duration": 103,
    "start_time": "2023-10-24T18:35:40.172Z"
   },
   {
    "duration": 97,
    "start_time": "2023-10-24T18:35:46.469Z"
   },
   {
    "duration": 63,
    "start_time": "2023-10-24T18:37:15.230Z"
   },
   {
    "duration": 77,
    "start_time": "2023-10-24T18:37:23.913Z"
   },
   {
    "duration": 74,
    "start_time": "2023-10-24T18:37:52.822Z"
   },
   {
    "duration": 46,
    "start_time": "2023-10-24T18:38:17.475Z"
   },
   {
    "duration": 52,
    "start_time": "2023-10-24T18:38:24.537Z"
   },
   {
    "duration": 20,
    "start_time": "2023-10-24T18:39:51.665Z"
   },
   {
    "duration": 1230,
    "start_time": "2023-10-24T18:40:38.833Z"
   },
   {
    "duration": 294,
    "start_time": "2023-10-24T18:40:40.065Z"
   },
   {
    "duration": 26,
    "start_time": "2023-10-24T18:40:40.362Z"
   },
   {
    "duration": 11,
    "start_time": "2023-10-24T18:40:40.390Z"
   },
   {
    "duration": 89,
    "start_time": "2023-10-24T18:40:40.406Z"
   },
   {
    "duration": 3,
    "start_time": "2023-10-24T18:40:40.497Z"
   },
   {
    "duration": 151,
    "start_time": "2023-10-24T18:40:40.502Z"
   },
   {
    "duration": 58,
    "start_time": "2023-10-24T18:40:40.655Z"
   },
   {
    "duration": 38,
    "start_time": "2023-10-24T18:40:40.723Z"
   },
   {
    "duration": 29,
    "start_time": "2023-10-24T18:40:40.762Z"
   },
   {
    "duration": 107,
    "start_time": "2023-10-24T18:40:40.793Z"
   },
   {
    "duration": 90,
    "start_time": "2023-10-24T18:40:40.902Z"
   },
   {
    "duration": 109,
    "start_time": "2023-10-24T18:40:40.993Z"
   },
   {
    "duration": 82,
    "start_time": "2023-10-24T18:40:41.105Z"
   },
   {
    "duration": 82,
    "start_time": "2023-10-24T18:40:41.188Z"
   },
   {
    "duration": 25,
    "start_time": "2023-10-24T18:40:41.272Z"
   },
   {
    "duration": 21,
    "start_time": "2023-10-24T18:40:41.298Z"
   },
   {
    "duration": 30,
    "start_time": "2023-10-24T18:40:41.331Z"
   },
   {
    "duration": 5,
    "start_time": "2023-10-24T18:40:41.363Z"
   },
   {
    "duration": 410,
    "start_time": "2023-10-24T18:40:41.370Z"
   },
   {
    "duration": 24,
    "start_time": "2023-10-24T18:40:41.781Z"
   },
   {
    "duration": 66,
    "start_time": "2023-10-24T18:40:41.807Z"
   },
   {
    "duration": 57,
    "start_time": "2023-10-24T18:40:41.875Z"
   },
   {
    "duration": 21,
    "start_time": "2023-10-24T18:40:41.933Z"
   },
   {
    "duration": 26,
    "start_time": "2023-10-24T18:40:41.956Z"
   },
   {
    "duration": 181,
    "start_time": "2023-10-24T18:40:41.983Z"
   },
   {
    "duration": 86,
    "start_time": "2023-10-24T18:40:42.166Z"
   },
   {
    "duration": 15,
    "start_time": "2023-10-24T18:40:42.254Z"
   },
   {
    "duration": 84,
    "start_time": "2023-10-24T18:40:42.270Z"
   },
   {
    "duration": 2896,
    "start_time": "2023-10-24T18:40:42.355Z"
   },
   {
    "duration": 239,
    "start_time": "2023-10-24T18:40:45.253Z"
   },
   {
    "duration": 53,
    "start_time": "2023-10-24T18:40:45.494Z"
   },
   {
    "duration": 269,
    "start_time": "2023-10-24T18:40:45.552Z"
   },
   {
    "duration": 413,
    "start_time": "2023-10-24T18:40:45.823Z"
   },
   {
    "duration": 186,
    "start_time": "2023-10-24T18:40:46.237Z"
   },
   {
    "duration": 23,
    "start_time": "2023-10-24T18:40:53.974Z"
   },
   {
    "duration": 18,
    "start_time": "2023-10-24T18:41:15.868Z"
   },
   {
    "duration": 134,
    "start_time": "2023-10-24T18:42:32.455Z"
   },
   {
    "duration": 16,
    "start_time": "2023-10-24T18:42:36.244Z"
   },
   {
    "duration": 4,
    "start_time": "2023-10-24T18:43:36.314Z"
   },
   {
    "duration": 19,
    "start_time": "2023-10-24T18:44:16.451Z"
   },
   {
    "duration": 15,
    "start_time": "2023-10-24T18:44:31.018Z"
   },
   {
    "duration": 13,
    "start_time": "2023-10-24T19:47:13.250Z"
   },
   {
    "duration": 15,
    "start_time": "2023-10-24T19:47:16.110Z"
   },
   {
    "duration": 12,
    "start_time": "2023-10-24T19:47:19.776Z"
   },
   {
    "duration": 9,
    "start_time": "2023-10-24T19:47:22.051Z"
   },
   {
    "duration": 51,
    "start_time": "2023-10-25T15:36:03.915Z"
   },
   {
    "duration": 1282,
    "start_time": "2023-10-25T15:36:09.367Z"
   },
   {
    "duration": 945,
    "start_time": "2023-10-25T15:36:10.651Z"
   },
   {
    "duration": 21,
    "start_time": "2023-10-25T15:36:11.598Z"
   },
   {
    "duration": 9,
    "start_time": "2023-10-25T15:36:11.621Z"
   },
   {
    "duration": 20,
    "start_time": "2023-10-25T15:36:11.633Z"
   },
   {
    "duration": 10,
    "start_time": "2023-10-25T15:36:11.655Z"
   },
   {
    "duration": 120,
    "start_time": "2023-10-25T15:36:11.666Z"
   },
   {
    "duration": 62,
    "start_time": "2023-10-25T15:36:11.787Z"
   },
   {
    "duration": 16,
    "start_time": "2023-10-25T15:36:11.851Z"
   },
   {
    "duration": 25,
    "start_time": "2023-10-25T15:36:11.868Z"
   },
   {
    "duration": 92,
    "start_time": "2023-10-25T15:36:11.894Z"
   },
   {
    "duration": 70,
    "start_time": "2023-10-25T15:36:11.988Z"
   },
   {
    "duration": 92,
    "start_time": "2023-10-25T15:36:12.060Z"
   },
   {
    "duration": 63,
    "start_time": "2023-10-25T15:36:12.155Z"
   },
   {
    "duration": 68,
    "start_time": "2023-10-25T15:36:12.220Z"
   },
   {
    "duration": 25,
    "start_time": "2023-10-25T15:36:12.290Z"
   },
   {
    "duration": 30,
    "start_time": "2023-10-25T15:36:12.317Z"
   },
   {
    "duration": 19,
    "start_time": "2023-10-25T15:36:12.349Z"
   },
   {
    "duration": 4,
    "start_time": "2023-10-25T15:36:12.370Z"
   },
   {
    "duration": 354,
    "start_time": "2023-10-25T15:36:12.376Z"
   },
   {
    "duration": 26,
    "start_time": "2023-10-25T15:36:12.731Z"
   },
   {
    "duration": 44,
    "start_time": "2023-10-25T15:36:12.758Z"
   },
   {
    "duration": 54,
    "start_time": "2023-10-25T15:36:12.804Z"
   },
   {
    "duration": 13,
    "start_time": "2023-10-25T15:36:12.860Z"
   },
   {
    "duration": 37,
    "start_time": "2023-10-25T15:36:12.875Z"
   },
   {
    "duration": 153,
    "start_time": "2023-10-25T15:36:12.914Z"
   },
   {
    "duration": 59,
    "start_time": "2023-10-25T15:36:13.069Z"
   },
   {
    "duration": 24,
    "start_time": "2023-10-25T15:36:13.130Z"
   },
   {
    "duration": 11,
    "start_time": "2023-10-25T15:36:13.155Z"
   },
   {
    "duration": 527,
    "start_time": "2023-10-25T15:36:13.167Z"
   },
   {
    "duration": 203,
    "start_time": "2023-10-25T15:36:13.697Z"
   },
   {
    "duration": 15,
    "start_time": "2023-10-25T15:36:13.901Z"
   },
   {
    "duration": 57,
    "start_time": "2023-10-25T15:36:13.918Z"
   },
   {
    "duration": 130,
    "start_time": "2023-10-25T15:36:13.977Z"
   },
   {
    "duration": 14,
    "start_time": "2023-10-25T15:36:14.110Z"
   },
   {
    "duration": 26,
    "start_time": "2023-10-25T15:36:14.125Z"
   },
   {
    "duration": 179,
    "start_time": "2023-10-25T15:36:14.153Z"
   },
   {
    "duration": 9,
    "start_time": "2023-10-25T15:39:16.506Z"
   },
   {
    "duration": 85,
    "start_time": "2023-10-25T15:42:13.601Z"
   },
   {
    "duration": 7,
    "start_time": "2023-10-25T15:50:31.729Z"
   },
   {
    "duration": 4,
    "start_time": "2023-10-25T15:51:36.047Z"
   },
   {
    "duration": 8,
    "start_time": "2023-10-25T15:51:40.803Z"
   },
   {
    "duration": 1900,
    "start_time": "2023-10-25T15:51:57.014Z"
   },
   {
    "duration": 1129,
    "start_time": "2023-10-25T15:52:08.122Z"
   },
   {
    "duration": 165,
    "start_time": "2023-10-25T15:52:09.252Z"
   },
   {
    "duration": 26,
    "start_time": "2023-10-25T15:52:09.419Z"
   },
   {
    "duration": 13,
    "start_time": "2023-10-25T15:52:09.447Z"
   },
   {
    "duration": 6,
    "start_time": "2023-10-25T15:52:09.462Z"
   },
   {
    "duration": 14,
    "start_time": "2023-10-25T15:52:09.469Z"
   },
   {
    "duration": 121,
    "start_time": "2023-10-25T15:52:09.485Z"
   },
   {
    "duration": 59,
    "start_time": "2023-10-25T15:52:09.607Z"
   },
   {
    "duration": 14,
    "start_time": "2023-10-25T15:52:09.667Z"
   },
   {
    "duration": 25,
    "start_time": "2023-10-25T15:52:09.683Z"
   },
   {
    "duration": 86,
    "start_time": "2023-10-25T15:52:09.709Z"
   },
   {
    "duration": 75,
    "start_time": "2023-10-25T15:52:09.796Z"
   },
   {
    "duration": 93,
    "start_time": "2023-10-25T15:52:09.873Z"
   },
   {
    "duration": 59,
    "start_time": "2023-10-25T15:52:09.969Z"
   },
   {
    "duration": 67,
    "start_time": "2023-10-25T15:52:10.030Z"
   },
   {
    "duration": 25,
    "start_time": "2023-10-25T15:52:10.099Z"
   },
   {
    "duration": 45,
    "start_time": "2023-10-25T15:52:10.125Z"
   },
   {
    "duration": 21,
    "start_time": "2023-10-25T15:52:10.171Z"
   },
   {
    "duration": 5,
    "start_time": "2023-10-25T15:52:10.193Z"
   },
   {
    "duration": 350,
    "start_time": "2023-10-25T15:52:10.200Z"
   },
   {
    "duration": 23,
    "start_time": "2023-10-25T15:52:10.552Z"
   },
   {
    "duration": 43,
    "start_time": "2023-10-25T15:52:10.577Z"
   },
   {
    "duration": 58,
    "start_time": "2023-10-25T15:52:10.622Z"
   },
   {
    "duration": 12,
    "start_time": "2023-10-25T15:52:10.683Z"
   },
   {
    "duration": 28,
    "start_time": "2023-10-25T15:52:10.697Z"
   },
   {
    "duration": 169,
    "start_time": "2023-10-25T15:52:10.726Z"
   },
   {
    "duration": 65,
    "start_time": "2023-10-25T15:52:10.896Z"
   },
   {
    "duration": 12,
    "start_time": "2023-10-25T15:52:10.963Z"
   },
   {
    "duration": 14,
    "start_time": "2023-10-25T15:52:10.976Z"
   },
   {
    "duration": 491,
    "start_time": "2023-10-25T15:52:10.991Z"
   },
   {
    "duration": 184,
    "start_time": "2023-10-25T15:52:11.484Z"
   },
   {
    "duration": 13,
    "start_time": "2023-10-25T15:52:11.670Z"
   },
   {
    "duration": 57,
    "start_time": "2023-10-25T15:52:11.685Z"
   },
   {
    "duration": 110,
    "start_time": "2023-10-25T15:52:11.743Z"
   },
   {
    "duration": 11,
    "start_time": "2023-10-25T15:52:11.855Z"
   },
   {
    "duration": 25,
    "start_time": "2023-10-25T15:52:11.867Z"
   },
   {
    "duration": 8,
    "start_time": "2023-10-25T15:52:11.894Z"
   },
   {
    "duration": 11,
    "start_time": "2023-10-25T15:52:11.903Z"
   },
   {
    "duration": 2124,
    "start_time": "2023-10-25T15:52:11.916Z"
   },
   {
    "duration": 2016,
    "start_time": "2023-10-25T15:52:38.121Z"
   },
   {
    "duration": 5,
    "start_time": "2023-10-25T15:54:42.905Z"
   },
   {
    "duration": 3,
    "start_time": "2023-10-25T15:54:49.610Z"
   },
   {
    "duration": 4,
    "start_time": "2023-10-25T15:55:01.475Z"
   },
   {
    "duration": 6,
    "start_time": "2023-10-25T15:55:32.596Z"
   },
   {
    "duration": 48,
    "start_time": "2023-10-25T15:57:32.150Z"
   },
   {
    "duration": 41,
    "start_time": "2023-10-25T15:57:47.266Z"
   },
   {
    "duration": 50,
    "start_time": "2023-10-25T15:58:05.642Z"
   },
   {
    "duration": 54,
    "start_time": "2023-10-25T15:58:12.930Z"
   },
   {
    "duration": 42,
    "start_time": "2023-10-25T15:58:19.203Z"
   },
   {
    "duration": 39,
    "start_time": "2023-10-25T15:58:38.902Z"
   },
   {
    "duration": 42,
    "start_time": "2023-10-25T15:58:45.822Z"
   },
   {
    "duration": 45,
    "start_time": "2023-10-25T15:59:25.440Z"
   },
   {
    "duration": 53,
    "start_time": "2023-10-25T16:01:21.309Z"
   },
   {
    "duration": 58,
    "start_time": "2023-10-25T16:01:24.395Z"
   },
   {
    "duration": 47,
    "start_time": "2023-10-25T16:01:33.893Z"
   },
   {
    "duration": 59,
    "start_time": "2023-10-25T16:02:34.742Z"
   },
   {
    "duration": 74,
    "start_time": "2023-10-25T16:03:24.012Z"
   },
   {
    "duration": 22,
    "start_time": "2023-10-25T16:04:00.485Z"
   },
   {
    "duration": 1165,
    "start_time": "2023-10-25T16:04:49.795Z"
   },
   {
    "duration": 177,
    "start_time": "2023-10-25T16:04:50.962Z"
   },
   {
    "duration": 23,
    "start_time": "2023-10-25T16:04:51.141Z"
   },
   {
    "duration": 10,
    "start_time": "2023-10-25T16:04:51.166Z"
   },
   {
    "duration": 54,
    "start_time": "2023-10-25T16:04:51.178Z"
   },
   {
    "duration": 36,
    "start_time": "2023-10-25T16:04:51.233Z"
   },
   {
    "duration": 161,
    "start_time": "2023-10-25T16:04:51.270Z"
   },
   {
    "duration": 58,
    "start_time": "2023-10-25T16:04:51.433Z"
   },
   {
    "duration": 48,
    "start_time": "2023-10-25T16:04:51.492Z"
   },
   {
    "duration": 87,
    "start_time": "2023-10-25T16:04:51.541Z"
   },
   {
    "duration": 72,
    "start_time": "2023-10-25T16:04:51.629Z"
   },
   {
    "duration": 71,
    "start_time": "2023-10-25T16:04:51.702Z"
   },
   {
    "duration": 95,
    "start_time": "2023-10-25T16:04:51.775Z"
   },
   {
    "duration": 71,
    "start_time": "2023-10-25T16:04:51.873Z"
   },
   {
    "duration": 56,
    "start_time": "2023-10-25T16:04:51.946Z"
   },
   {
    "duration": 41,
    "start_time": "2023-10-25T16:04:52.004Z"
   },
   {
    "duration": 9,
    "start_time": "2023-10-25T16:04:52.046Z"
   },
   {
    "duration": 22,
    "start_time": "2023-10-25T16:04:52.057Z"
   },
   {
    "duration": 5,
    "start_time": "2023-10-25T16:04:52.081Z"
   },
   {
    "duration": 371,
    "start_time": "2023-10-25T16:04:52.087Z"
   },
   {
    "duration": 23,
    "start_time": "2023-10-25T16:04:52.460Z"
   },
   {
    "duration": 46,
    "start_time": "2023-10-25T16:04:52.485Z"
   },
   {
    "duration": 41,
    "start_time": "2023-10-25T16:04:52.544Z"
   },
   {
    "duration": 13,
    "start_time": "2023-10-25T16:04:52.586Z"
   },
   {
    "duration": 44,
    "start_time": "2023-10-25T16:04:52.601Z"
   },
   {
    "duration": 170,
    "start_time": "2023-10-25T16:04:52.646Z"
   },
   {
    "duration": 62,
    "start_time": "2023-10-25T16:04:52.817Z"
   },
   {
    "duration": 12,
    "start_time": "2023-10-25T16:04:52.881Z"
   },
   {
    "duration": 12,
    "start_time": "2023-10-25T16:04:52.895Z"
   },
   {
    "duration": 524,
    "start_time": "2023-10-25T16:04:52.908Z"
   },
   {
    "duration": 170,
    "start_time": "2023-10-25T16:04:53.434Z"
   },
   {
    "duration": 14,
    "start_time": "2023-10-25T16:04:53.606Z"
   },
   {
    "duration": 51,
    "start_time": "2023-10-25T16:04:53.645Z"
   },
   {
    "duration": 157,
    "start_time": "2023-10-25T16:04:53.698Z"
   },
   {
    "duration": 20,
    "start_time": "2023-10-25T16:04:53.857Z"
   },
   {
    "duration": 40,
    "start_time": "2023-10-25T16:04:53.879Z"
   },
   {
    "duration": 40,
    "start_time": "2023-10-25T16:04:53.920Z"
   },
   {
    "duration": 20,
    "start_time": "2023-10-25T16:04:53.961Z"
   },
   {
    "duration": 1221,
    "start_time": "2023-10-25T16:06:10.971Z"
   },
   {
    "duration": 169,
    "start_time": "2023-10-25T16:06:12.193Z"
   },
   {
    "duration": 24,
    "start_time": "2023-10-25T16:06:12.364Z"
   },
   {
    "duration": 12,
    "start_time": "2023-10-25T16:06:12.391Z"
   },
   {
    "duration": 16,
    "start_time": "2023-10-25T16:06:12.404Z"
   },
   {
    "duration": 7,
    "start_time": "2023-10-25T16:06:12.422Z"
   },
   {
    "duration": 141,
    "start_time": "2023-10-25T16:06:12.431Z"
   },
   {
    "duration": 56,
    "start_time": "2023-10-25T16:06:12.574Z"
   },
   {
    "duration": 16,
    "start_time": "2023-10-25T16:06:12.643Z"
   },
   {
    "duration": 36,
    "start_time": "2023-10-25T16:06:12.661Z"
   },
   {
    "duration": 82,
    "start_time": "2023-10-25T16:06:12.698Z"
   },
   {
    "duration": 77,
    "start_time": "2023-10-25T16:06:12.782Z"
   },
   {
    "duration": 102,
    "start_time": "2023-10-25T16:06:12.861Z"
   },
   {
    "duration": 59,
    "start_time": "2023-10-25T16:06:12.965Z"
   },
   {
    "duration": 101,
    "start_time": "2023-10-25T16:06:13.025Z"
   },
   {
    "duration": 31,
    "start_time": "2023-10-25T16:06:13.128Z"
   },
   {
    "duration": 19,
    "start_time": "2023-10-25T16:06:13.160Z"
   },
   {
    "duration": 24,
    "start_time": "2023-10-25T16:06:13.181Z"
   },
   {
    "duration": 6,
    "start_time": "2023-10-25T16:06:13.207Z"
   },
   {
    "duration": 372,
    "start_time": "2023-10-25T16:06:13.214Z"
   },
   {
    "duration": 22,
    "start_time": "2023-10-25T16:06:13.588Z"
   },
   {
    "duration": 66,
    "start_time": "2023-10-25T16:06:13.612Z"
   },
   {
    "duration": 40,
    "start_time": "2023-10-25T16:06:13.680Z"
   },
   {
    "duration": 30,
    "start_time": "2023-10-25T16:06:13.722Z"
   },
   {
    "duration": 55,
    "start_time": "2023-10-25T16:06:13.755Z"
   },
   {
    "duration": 176,
    "start_time": "2023-10-25T16:06:13.812Z"
   },
   {
    "duration": 74,
    "start_time": "2023-10-25T16:06:13.989Z"
   },
   {
    "duration": 17,
    "start_time": "2023-10-25T16:06:14.067Z"
   },
   {
    "duration": 20,
    "start_time": "2023-10-25T16:06:14.085Z"
   },
   {
    "duration": 538,
    "start_time": "2023-10-25T16:06:14.107Z"
   },
   {
    "duration": 201,
    "start_time": "2023-10-25T16:06:14.648Z"
   },
   {
    "duration": 13,
    "start_time": "2023-10-25T16:06:14.851Z"
   },
   {
    "duration": 80,
    "start_time": "2023-10-25T16:06:14.865Z"
   },
   {
    "duration": 146,
    "start_time": "2023-10-25T16:06:14.947Z"
   },
   {
    "duration": 32,
    "start_time": "2023-10-25T16:06:15.095Z"
   },
   {
    "duration": 48,
    "start_time": "2023-10-25T16:06:15.129Z"
   },
   {
    "duration": 40,
    "start_time": "2023-10-25T16:06:15.179Z"
   },
   {
    "duration": 24,
    "start_time": "2023-10-25T16:06:15.222Z"
   },
   {
    "duration": 9,
    "start_time": "2023-10-25T16:08:25.524Z"
   },
   {
    "duration": 7,
    "start_time": "2023-10-25T16:08:46.424Z"
   },
   {
    "duration": 1191,
    "start_time": "2023-10-25T16:08:52.147Z"
   },
   {
    "duration": 167,
    "start_time": "2023-10-25T16:08:53.340Z"
   },
   {
    "duration": 21,
    "start_time": "2023-10-25T16:08:53.508Z"
   },
   {
    "duration": 14,
    "start_time": "2023-10-25T16:08:53.531Z"
   },
   {
    "duration": 20,
    "start_time": "2023-10-25T16:08:53.546Z"
   },
   {
    "duration": 10,
    "start_time": "2023-10-25T16:08:53.567Z"
   },
   {
    "duration": 116,
    "start_time": "2023-10-25T16:08:53.578Z"
   },
   {
    "duration": 59,
    "start_time": "2023-10-25T16:08:53.696Z"
   },
   {
    "duration": 15,
    "start_time": "2023-10-25T16:08:53.756Z"
   },
   {
    "duration": 32,
    "start_time": "2023-10-25T16:08:53.773Z"
   },
   {
    "duration": 86,
    "start_time": "2023-10-25T16:08:53.806Z"
   },
   {
    "duration": 76,
    "start_time": "2023-10-25T16:08:53.893Z"
   },
   {
    "duration": 105,
    "start_time": "2023-10-25T16:08:53.971Z"
   },
   {
    "duration": 79,
    "start_time": "2023-10-25T16:08:54.078Z"
   },
   {
    "duration": 71,
    "start_time": "2023-10-25T16:08:54.159Z"
   },
   {
    "duration": 45,
    "start_time": "2023-10-25T16:08:54.232Z"
   },
   {
    "duration": 13,
    "start_time": "2023-10-25T16:08:54.279Z"
   },
   {
    "duration": 24,
    "start_time": "2023-10-25T16:08:54.294Z"
   },
   {
    "duration": 28,
    "start_time": "2023-10-25T16:08:54.321Z"
   },
   {
    "duration": 351,
    "start_time": "2023-10-25T16:08:54.350Z"
   },
   {
    "duration": 23,
    "start_time": "2023-10-25T16:08:54.702Z"
   },
   {
    "duration": 48,
    "start_time": "2023-10-25T16:08:54.727Z"
   },
   {
    "duration": 39,
    "start_time": "2023-10-25T16:08:54.776Z"
   },
   {
    "duration": 33,
    "start_time": "2023-10-25T16:08:54.817Z"
   },
   {
    "duration": 28,
    "start_time": "2023-10-25T16:08:54.852Z"
   },
   {
    "duration": 153,
    "start_time": "2023-10-25T16:08:54.882Z"
   },
   {
    "duration": 61,
    "start_time": "2023-10-25T16:08:55.043Z"
   },
   {
    "duration": 11,
    "start_time": "2023-10-25T16:08:55.107Z"
   },
   {
    "duration": 27,
    "start_time": "2023-10-25T16:08:55.120Z"
   },
   {
    "duration": 493,
    "start_time": "2023-10-25T16:08:55.149Z"
   },
   {
    "duration": 164,
    "start_time": "2023-10-25T16:08:55.644Z"
   },
   {
    "duration": 48,
    "start_time": "2023-10-25T16:08:55.809Z"
   },
   {
    "duration": 172,
    "start_time": "2023-10-25T16:08:55.858Z"
   },
   {
    "duration": 119,
    "start_time": "2023-10-25T16:08:56.032Z"
   },
   {
    "duration": 20,
    "start_time": "2023-10-25T16:08:56.152Z"
   },
   {
    "duration": 22,
    "start_time": "2023-10-25T16:08:56.174Z"
   },
   {
    "duration": 46,
    "start_time": "2023-10-25T16:08:56.198Z"
   },
   {
    "duration": 6,
    "start_time": "2023-10-25T16:08:56.246Z"
   },
   {
    "duration": 4,
    "start_time": "2023-10-25T16:09:14.047Z"
   },
   {
    "duration": 4,
    "start_time": "2023-10-25T16:09:31.792Z"
   },
   {
    "duration": 4,
    "start_time": "2023-10-25T16:09:46.307Z"
   },
   {
    "duration": 7,
    "start_time": "2023-10-25T16:09:51.235Z"
   },
   {
    "duration": 8,
    "start_time": "2023-10-25T16:10:30.656Z"
   },
   {
    "duration": 1294,
    "start_time": "2023-10-25T16:10:37.907Z"
   },
   {
    "duration": 176,
    "start_time": "2023-10-25T16:10:39.203Z"
   },
   {
    "duration": 23,
    "start_time": "2023-10-25T16:10:39.380Z"
   },
   {
    "duration": 18,
    "start_time": "2023-10-25T16:10:39.406Z"
   },
   {
    "duration": 36,
    "start_time": "2023-10-25T16:10:39.426Z"
   },
   {
    "duration": 4,
    "start_time": "2023-10-25T16:10:39.463Z"
   },
   {
    "duration": 130,
    "start_time": "2023-10-25T16:10:39.468Z"
   },
   {
    "duration": 70,
    "start_time": "2023-10-25T16:10:39.599Z"
   },
   {
    "duration": 16,
    "start_time": "2023-10-25T16:10:39.670Z"
   },
   {
    "duration": 29,
    "start_time": "2023-10-25T16:10:39.688Z"
   },
   {
    "duration": 90,
    "start_time": "2023-10-25T16:10:39.718Z"
   },
   {
    "duration": 80,
    "start_time": "2023-10-25T16:10:39.809Z"
   },
   {
    "duration": 122,
    "start_time": "2023-10-25T16:10:39.891Z"
   },
   {
    "duration": 76,
    "start_time": "2023-10-25T16:10:40.015Z"
   },
   {
    "duration": 69,
    "start_time": "2023-10-25T16:10:40.093Z"
   },
   {
    "duration": 27,
    "start_time": "2023-10-25T16:10:40.163Z"
   },
   {
    "duration": 27,
    "start_time": "2023-10-25T16:10:40.192Z"
   },
   {
    "duration": 44,
    "start_time": "2023-10-25T16:10:40.221Z"
   },
   {
    "duration": 6,
    "start_time": "2023-10-25T16:10:40.267Z"
   },
   {
    "duration": 377,
    "start_time": "2023-10-25T16:10:40.275Z"
   },
   {
    "duration": 26,
    "start_time": "2023-10-25T16:10:40.653Z"
   },
   {
    "duration": 44,
    "start_time": "2023-10-25T16:10:40.681Z"
   },
   {
    "duration": 42,
    "start_time": "2023-10-25T16:10:40.744Z"
   },
   {
    "duration": 14,
    "start_time": "2023-10-25T16:10:40.788Z"
   },
   {
    "duration": 44,
    "start_time": "2023-10-25T16:10:40.804Z"
   },
   {
    "duration": 155,
    "start_time": "2023-10-25T16:10:40.850Z"
   },
   {
    "duration": 68,
    "start_time": "2023-10-25T16:10:41.006Z"
   },
   {
    "duration": 13,
    "start_time": "2023-10-25T16:10:41.078Z"
   },
   {
    "duration": 13,
    "start_time": "2023-10-25T16:10:41.092Z"
   },
   {
    "duration": 513,
    "start_time": "2023-10-25T16:10:41.107Z"
   },
   {
    "duration": 181,
    "start_time": "2023-10-25T16:10:41.622Z"
   },
   {
    "duration": 15,
    "start_time": "2023-10-25T16:10:41.805Z"
   },
   {
    "duration": 88,
    "start_time": "2023-10-25T16:10:41.821Z"
   },
   {
    "duration": 116,
    "start_time": "2023-10-25T16:10:41.910Z"
   },
   {
    "duration": 23,
    "start_time": "2023-10-25T16:10:42.027Z"
   },
   {
    "duration": 60,
    "start_time": "2023-10-25T16:10:42.051Z"
   },
   {
    "duration": 17,
    "start_time": "2023-10-25T16:10:42.113Z"
   },
   {
    "duration": 8,
    "start_time": "2023-10-25T16:10:42.131Z"
   },
   {
    "duration": 1405,
    "start_time": "2023-10-25T19:01:55.764Z"
   },
   {
    "duration": 567,
    "start_time": "2023-10-25T19:01:57.171Z"
   },
   {
    "duration": 21,
    "start_time": "2023-10-25T19:01:57.739Z"
   },
   {
    "duration": 10,
    "start_time": "2023-10-25T19:01:57.762Z"
   },
   {
    "duration": 6,
    "start_time": "2023-10-25T19:01:57.773Z"
   },
   {
    "duration": 3,
    "start_time": "2023-10-25T19:01:57.780Z"
   },
   {
    "duration": 147,
    "start_time": "2023-10-25T19:01:57.785Z"
   },
   {
    "duration": 57,
    "start_time": "2023-10-25T19:01:57.934Z"
   },
   {
    "duration": 31,
    "start_time": "2023-10-25T19:01:57.992Z"
   },
   {
    "duration": 31,
    "start_time": "2023-10-25T19:01:58.027Z"
   },
   {
    "duration": 93,
    "start_time": "2023-10-25T19:01:58.059Z"
   },
   {
    "duration": 79,
    "start_time": "2023-10-25T19:01:58.153Z"
   },
   {
    "duration": 98,
    "start_time": "2023-10-25T19:01:58.235Z"
   },
   {
    "duration": 60,
    "start_time": "2023-10-25T19:01:58.335Z"
   },
   {
    "duration": 82,
    "start_time": "2023-10-25T19:01:58.396Z"
   },
   {
    "duration": 47,
    "start_time": "2023-10-25T19:01:58.479Z"
   },
   {
    "duration": 33,
    "start_time": "2023-10-25T19:01:58.527Z"
   },
   {
    "duration": 22,
    "start_time": "2023-10-25T19:01:58.562Z"
   },
   {
    "duration": 6,
    "start_time": "2023-10-25T19:01:58.585Z"
   },
   {
    "duration": 398,
    "start_time": "2023-10-25T19:01:58.592Z"
   },
   {
    "duration": 40,
    "start_time": "2023-10-25T19:01:58.992Z"
   },
   {
    "duration": 42,
    "start_time": "2023-10-25T19:01:59.034Z"
   },
   {
    "duration": 53,
    "start_time": "2023-10-25T19:01:59.078Z"
   },
   {
    "duration": 15,
    "start_time": "2023-10-25T19:01:59.132Z"
   },
   {
    "duration": 34,
    "start_time": "2023-10-25T19:01:59.149Z"
   },
   {
    "duration": 176,
    "start_time": "2023-10-25T19:01:59.184Z"
   },
   {
    "duration": 75,
    "start_time": "2023-10-25T19:01:59.362Z"
   },
   {
    "duration": 12,
    "start_time": "2023-10-25T19:01:59.440Z"
   },
   {
    "duration": 12,
    "start_time": "2023-10-25T19:01:59.454Z"
   },
   {
    "duration": 566,
    "start_time": "2023-10-25T19:01:59.468Z"
   },
   {
    "duration": 215,
    "start_time": "2023-10-25T19:02:00.037Z"
   },
   {
    "duration": 9,
    "start_time": "2023-10-25T19:02:00.254Z"
   },
   {
    "duration": 82,
    "start_time": "2023-10-25T19:02:00.265Z"
   },
   {
    "duration": 130,
    "start_time": "2023-10-25T19:02:00.349Z"
   },
   {
    "duration": 33,
    "start_time": "2023-10-25T19:02:00.480Z"
   },
   {
    "duration": 55,
    "start_time": "2023-10-25T19:02:00.514Z"
   },
   {
    "duration": 58,
    "start_time": "2023-10-25T19:02:00.571Z"
   },
   {
    "duration": 50,
    "start_time": "2023-10-25T19:02:00.632Z"
   },
   {
    "duration": 1561,
    "start_time": "2023-10-25T19:05:40.113Z"
   },
   {
    "duration": 1223,
    "start_time": "2023-10-25T19:05:52.603Z"
   },
   {
    "duration": 185,
    "start_time": "2023-10-25T19:05:53.833Z"
   },
   {
    "duration": 29,
    "start_time": "2023-10-25T19:05:54.020Z"
   },
   {
    "duration": 17,
    "start_time": "2023-10-25T19:05:54.052Z"
   },
   {
    "duration": 13,
    "start_time": "2023-10-25T19:05:54.071Z"
   },
   {
    "duration": 12,
    "start_time": "2023-10-25T19:05:54.086Z"
   },
   {
    "duration": 158,
    "start_time": "2023-10-25T19:05:54.099Z"
   },
   {
    "duration": 71,
    "start_time": "2023-10-25T19:05:54.259Z"
   },
   {
    "duration": 15,
    "start_time": "2023-10-25T19:05:54.334Z"
   },
   {
    "duration": 36,
    "start_time": "2023-10-25T19:05:54.351Z"
   },
   {
    "duration": 82,
    "start_time": "2023-10-25T19:05:54.388Z"
   },
   {
    "duration": 83,
    "start_time": "2023-10-25T19:05:54.471Z"
   },
   {
    "duration": 105,
    "start_time": "2023-10-25T19:05:54.555Z"
   },
   {
    "duration": 84,
    "start_time": "2023-10-25T19:05:54.662Z"
   },
   {
    "duration": 59,
    "start_time": "2023-10-25T19:05:54.748Z"
   },
   {
    "duration": 38,
    "start_time": "2023-10-25T19:05:54.811Z"
   },
   {
    "duration": 9,
    "start_time": "2023-10-25T19:05:54.851Z"
   },
   {
    "duration": 25,
    "start_time": "2023-10-25T19:05:54.862Z"
   },
   {
    "duration": 27,
    "start_time": "2023-10-25T19:05:54.889Z"
   },
   {
    "duration": 427,
    "start_time": "2023-10-25T19:05:54.917Z"
   },
   {
    "duration": 26,
    "start_time": "2023-10-25T19:05:55.347Z"
   },
   {
    "duration": 77,
    "start_time": "2023-10-25T19:05:55.376Z"
   },
   {
    "duration": 58,
    "start_time": "2023-10-25T19:05:55.455Z"
   },
   {
    "duration": 27,
    "start_time": "2023-10-25T19:05:55.516Z"
   },
   {
    "duration": 31,
    "start_time": "2023-10-25T19:05:55.545Z"
   },
   {
    "duration": 195,
    "start_time": "2023-10-25T19:05:55.578Z"
   },
   {
    "duration": 72,
    "start_time": "2023-10-25T19:05:55.775Z"
   },
   {
    "duration": 11,
    "start_time": "2023-10-25T19:05:55.850Z"
   },
   {
    "duration": 21,
    "start_time": "2023-10-25T19:05:55.862Z"
   },
   {
    "duration": 586,
    "start_time": "2023-10-25T19:05:55.884Z"
   },
   {
    "duration": 205,
    "start_time": "2023-10-25T19:05:56.472Z"
   },
   {
    "duration": 9,
    "start_time": "2023-10-25T19:05:56.678Z"
   },
   {
    "duration": 78,
    "start_time": "2023-10-25T19:05:56.689Z"
   },
   {
    "duration": 139,
    "start_time": "2023-10-25T19:05:56.769Z"
   },
   {
    "duration": 33,
    "start_time": "2023-10-25T19:05:56.909Z"
   },
   {
    "duration": 37,
    "start_time": "2023-10-25T19:05:56.943Z"
   },
   {
    "duration": 53,
    "start_time": "2023-10-25T19:05:56.982Z"
   },
   {
    "duration": 7,
    "start_time": "2023-10-25T19:05:57.037Z"
   },
   {
    "duration": 1543,
    "start_time": "2023-10-25T19:05:57.046Z"
   },
   {
    "duration": 1225,
    "start_time": "2023-10-25T19:07:08.211Z"
   },
   {
    "duration": 182,
    "start_time": "2023-10-25T19:07:09.439Z"
   },
   {
    "duration": 24,
    "start_time": "2023-10-25T19:07:09.624Z"
   },
   {
    "duration": 41,
    "start_time": "2023-10-25T19:07:09.649Z"
   },
   {
    "duration": 20,
    "start_time": "2023-10-25T19:07:09.692Z"
   },
   {
    "duration": 19,
    "start_time": "2023-10-25T19:07:09.714Z"
   },
   {
    "duration": 147,
    "start_time": "2023-10-25T19:07:09.735Z"
   },
   {
    "duration": 70,
    "start_time": "2023-10-25T19:07:09.884Z"
   },
   {
    "duration": 14,
    "start_time": "2023-10-25T19:07:09.956Z"
   },
   {
    "duration": 42,
    "start_time": "2023-10-25T19:07:09.972Z"
   },
   {
    "duration": 101,
    "start_time": "2023-10-25T19:07:10.016Z"
   },
   {
    "duration": 76,
    "start_time": "2023-10-25T19:07:10.121Z"
   },
   {
    "duration": 130,
    "start_time": "2023-10-25T19:07:10.198Z"
   },
   {
    "duration": 63,
    "start_time": "2023-10-25T19:07:10.335Z"
   },
   {
    "duration": 78,
    "start_time": "2023-10-25T19:07:10.400Z"
   },
   {
    "duration": 43,
    "start_time": "2023-10-25T19:07:10.480Z"
   },
   {
    "duration": 12,
    "start_time": "2023-10-25T19:07:10.524Z"
   },
   {
    "duration": 22,
    "start_time": "2023-10-25T19:07:10.538Z"
   },
   {
    "duration": 5,
    "start_time": "2023-10-25T19:07:10.561Z"
   },
   {
    "duration": 404,
    "start_time": "2023-10-25T19:07:10.568Z"
   },
   {
    "duration": 41,
    "start_time": "2023-10-25T19:07:10.973Z"
   },
   {
    "duration": 53,
    "start_time": "2023-10-25T19:07:11.015Z"
   },
   {
    "duration": 59,
    "start_time": "2023-10-25T19:07:11.069Z"
   },
   {
    "duration": 15,
    "start_time": "2023-10-25T19:07:11.132Z"
   },
   {
    "duration": 24,
    "start_time": "2023-10-25T19:07:11.148Z"
   },
   {
    "duration": 169,
    "start_time": "2023-10-25T19:07:11.173Z"
   },
   {
    "duration": 71,
    "start_time": "2023-10-25T19:07:11.344Z"
   },
   {
    "duration": 24,
    "start_time": "2023-10-25T19:07:11.417Z"
   },
   {
    "duration": 18,
    "start_time": "2023-10-25T19:07:11.444Z"
   },
   {
    "duration": 535,
    "start_time": "2023-10-25T19:07:11.463Z"
   },
   {
    "duration": 245,
    "start_time": "2023-10-25T19:07:12.000Z"
   },
   {
    "duration": 10,
    "start_time": "2023-10-25T19:07:12.247Z"
   },
   {
    "duration": 77,
    "start_time": "2023-10-25T19:07:12.258Z"
   },
   {
    "duration": 123,
    "start_time": "2023-10-25T19:07:12.336Z"
   },
   {
    "duration": 21,
    "start_time": "2023-10-25T19:07:12.461Z"
   },
   {
    "duration": 41,
    "start_time": "2023-10-25T19:07:12.483Z"
   },
   {
    "duration": 26,
    "start_time": "2023-10-25T19:07:12.525Z"
   },
   {
    "duration": 9,
    "start_time": "2023-10-25T19:07:12.552Z"
   },
   {
    "duration": 24,
    "start_time": "2023-10-25T19:07:12.562Z"
   },
   {
    "duration": 8,
    "start_time": "2023-10-25T19:07:29.686Z"
   },
   {
    "duration": 1185,
    "start_time": "2023-10-25T19:24:32.653Z"
   },
   {
    "duration": 190,
    "start_time": "2023-10-25T19:24:33.840Z"
   },
   {
    "duration": 22,
    "start_time": "2023-10-25T19:24:34.033Z"
   },
   {
    "duration": 17,
    "start_time": "2023-10-25T19:24:34.056Z"
   },
   {
    "duration": 20,
    "start_time": "2023-10-25T19:24:34.075Z"
   },
   {
    "duration": 31,
    "start_time": "2023-10-25T19:24:34.097Z"
   },
   {
    "duration": 139,
    "start_time": "2023-10-25T19:24:34.131Z"
   },
   {
    "duration": 66,
    "start_time": "2023-10-25T19:24:34.272Z"
   },
   {
    "duration": 14,
    "start_time": "2023-10-25T19:24:34.339Z"
   },
   {
    "duration": 26,
    "start_time": "2023-10-25T19:24:34.355Z"
   },
   {
    "duration": 106,
    "start_time": "2023-10-25T19:24:34.383Z"
   },
   {
    "duration": 85,
    "start_time": "2023-10-25T19:24:34.490Z"
   },
   {
    "duration": 123,
    "start_time": "2023-10-25T19:24:34.577Z"
   },
   {
    "duration": 78,
    "start_time": "2023-10-25T19:24:34.703Z"
   },
   {
    "duration": 87,
    "start_time": "2023-10-25T19:24:34.782Z"
   },
   {
    "duration": 26,
    "start_time": "2023-10-25T19:24:34.871Z"
   },
   {
    "duration": 17,
    "start_time": "2023-10-25T19:24:34.907Z"
   },
   {
    "duration": 24,
    "start_time": "2023-10-25T19:24:34.925Z"
   },
   {
    "duration": 4,
    "start_time": "2023-10-25T19:24:34.951Z"
   },
   {
    "duration": 410,
    "start_time": "2023-10-25T19:24:34.957Z"
   },
   {
    "duration": 24,
    "start_time": "2023-10-25T19:24:35.368Z"
   },
   {
    "duration": 72,
    "start_time": "2023-10-25T19:24:35.393Z"
   },
   {
    "duration": 67,
    "start_time": "2023-10-25T19:24:35.467Z"
   },
   {
    "duration": 15,
    "start_time": "2023-10-25T19:24:35.536Z"
   },
   {
    "duration": 30,
    "start_time": "2023-10-25T19:24:35.552Z"
   },
   {
    "duration": 187,
    "start_time": "2023-10-25T19:24:35.584Z"
   },
   {
    "duration": 84,
    "start_time": "2023-10-25T19:24:35.773Z"
   },
   {
    "duration": 13,
    "start_time": "2023-10-25T19:24:35.859Z"
   },
   {
    "duration": 18,
    "start_time": "2023-10-25T19:24:35.873Z"
   },
   {
    "duration": 617,
    "start_time": "2023-10-25T19:24:35.892Z"
   },
   {
    "duration": 260,
    "start_time": "2023-10-25T19:24:36.511Z"
   },
   {
    "duration": 9,
    "start_time": "2023-10-25T19:24:36.773Z"
   },
   {
    "duration": 92,
    "start_time": "2023-10-25T19:24:36.784Z"
   },
   {
    "duration": 130,
    "start_time": "2023-10-25T19:24:36.877Z"
   },
   {
    "duration": 31,
    "start_time": "2023-10-25T19:24:37.008Z"
   },
   {
    "duration": 17,
    "start_time": "2023-10-25T19:24:37.040Z"
   },
   {
    "duration": 24,
    "start_time": "2023-10-25T19:24:37.059Z"
   },
   {
    "duration": 37,
    "start_time": "2023-10-25T19:24:37.085Z"
   },
   {
    "duration": 24,
    "start_time": "2023-10-25T19:24:37.123Z"
   },
   {
    "duration": 1246,
    "start_time": "2023-10-25T20:58:17.470Z"
   },
   {
    "duration": 189,
    "start_time": "2023-10-25T20:58:18.719Z"
   },
   {
    "duration": 26,
    "start_time": "2023-10-25T20:58:18.910Z"
   },
   {
    "duration": 17,
    "start_time": "2023-10-25T20:58:18.939Z"
   },
   {
    "duration": 8,
    "start_time": "2023-10-25T20:58:18.967Z"
   },
   {
    "duration": 3,
    "start_time": "2023-10-25T20:58:18.977Z"
   },
   {
    "duration": 135,
    "start_time": "2023-10-25T20:58:18.981Z"
   },
   {
    "duration": 68,
    "start_time": "2023-10-25T20:58:19.117Z"
   },
   {
    "duration": 17,
    "start_time": "2023-10-25T20:58:19.186Z"
   },
   {
    "duration": 48,
    "start_time": "2023-10-25T20:58:19.205Z"
   },
   {
    "duration": 77,
    "start_time": "2023-10-25T20:58:19.254Z"
   },
   {
    "duration": 87,
    "start_time": "2023-10-25T20:58:19.333Z"
   },
   {
    "duration": 104,
    "start_time": "2023-10-25T20:58:19.422Z"
   },
   {
    "duration": 73,
    "start_time": "2023-10-25T20:58:19.528Z"
   },
   {
    "duration": 73,
    "start_time": "2023-10-25T20:58:19.603Z"
   },
   {
    "duration": 28,
    "start_time": "2023-10-25T20:58:19.678Z"
   },
   {
    "duration": 16,
    "start_time": "2023-10-25T20:58:19.708Z"
   },
   {
    "duration": 42,
    "start_time": "2023-10-25T20:58:19.726Z"
   },
   {
    "duration": 5,
    "start_time": "2023-10-25T20:58:19.770Z"
   },
   {
    "duration": 399,
    "start_time": "2023-10-25T20:58:19.777Z"
   },
   {
    "duration": 29,
    "start_time": "2023-10-25T20:58:20.177Z"
   },
   {
    "duration": 63,
    "start_time": "2023-10-25T20:58:20.207Z"
   },
   {
    "duration": 45,
    "start_time": "2023-10-25T20:58:20.272Z"
   },
   {
    "duration": 14,
    "start_time": "2023-10-25T20:58:20.319Z"
   },
   {
    "duration": 48,
    "start_time": "2023-10-25T20:58:20.335Z"
   },
   {
    "duration": 165,
    "start_time": "2023-10-25T20:58:20.385Z"
   },
   {
    "duration": 73,
    "start_time": "2023-10-25T20:58:20.552Z"
   },
   {
    "duration": 12,
    "start_time": "2023-10-25T20:58:20.628Z"
   },
   {
    "duration": 26,
    "start_time": "2023-10-25T20:58:20.642Z"
   },
   {
    "duration": 666,
    "start_time": "2023-10-25T20:58:20.670Z"
   },
   {
    "duration": 206,
    "start_time": "2023-10-25T20:58:21.338Z"
   },
   {
    "duration": 29,
    "start_time": "2023-10-25T20:58:21.546Z"
   },
   {
    "duration": 83,
    "start_time": "2023-10-25T20:58:21.577Z"
   },
   {
    "duration": 127,
    "start_time": "2023-10-25T20:58:21.661Z"
   },
   {
    "duration": 21,
    "start_time": "2023-10-25T20:58:21.790Z"
   },
   {
    "duration": 23,
    "start_time": "2023-10-25T20:58:21.813Z"
   },
   {
    "duration": 38,
    "start_time": "2023-10-25T20:58:21.838Z"
   },
   {
    "duration": 9,
    "start_time": "2023-10-25T20:58:21.878Z"
   },
   {
    "duration": 41,
    "start_time": "2023-10-25T20:58:21.889Z"
   },
   {
    "duration": 1251,
    "start_time": "2023-10-25T21:28:41.955Z"
   },
   {
    "duration": 189,
    "start_time": "2023-10-25T21:28:43.208Z"
   },
   {
    "duration": 24,
    "start_time": "2023-10-25T21:28:43.399Z"
   },
   {
    "duration": 27,
    "start_time": "2023-10-25T21:28:43.425Z"
   },
   {
    "duration": 17,
    "start_time": "2023-10-25T21:28:43.454Z"
   },
   {
    "duration": 14,
    "start_time": "2023-10-25T21:28:43.473Z"
   },
   {
    "duration": 146,
    "start_time": "2023-10-25T21:28:43.488Z"
   },
   {
    "duration": 67,
    "start_time": "2023-10-25T21:28:43.636Z"
   },
   {
    "duration": 17,
    "start_time": "2023-10-25T21:28:43.705Z"
   },
   {
    "duration": 44,
    "start_time": "2023-10-25T21:28:43.724Z"
   },
   {
    "duration": 78,
    "start_time": "2023-10-25T21:28:43.770Z"
   },
   {
    "duration": 104,
    "start_time": "2023-10-25T21:28:43.850Z"
   },
   {
    "duration": 113,
    "start_time": "2023-10-25T21:28:43.956Z"
   },
   {
    "duration": 65,
    "start_time": "2023-10-25T21:28:44.073Z"
   },
   {
    "duration": 76,
    "start_time": "2023-10-25T21:28:44.140Z"
   },
   {
    "duration": 27,
    "start_time": "2023-10-25T21:28:44.218Z"
   },
   {
    "duration": 30,
    "start_time": "2023-10-25T21:28:44.247Z"
   },
   {
    "duration": 25,
    "start_time": "2023-10-25T21:28:44.279Z"
   },
   {
    "duration": 6,
    "start_time": "2023-10-25T21:28:44.305Z"
   },
   {
    "duration": 395,
    "start_time": "2023-10-25T21:28:44.313Z"
   },
   {
    "duration": 30,
    "start_time": "2023-10-25T21:28:44.710Z"
   },
   {
    "duration": 59,
    "start_time": "2023-10-25T21:28:44.742Z"
   },
   {
    "duration": 64,
    "start_time": "2023-10-25T21:28:44.804Z"
   },
   {
    "duration": 16,
    "start_time": "2023-10-25T21:28:44.870Z"
   },
   {
    "duration": 27,
    "start_time": "2023-10-25T21:28:44.888Z"
   },
   {
    "duration": 193,
    "start_time": "2023-10-25T21:28:44.916Z"
   },
   {
    "duration": 81,
    "start_time": "2023-10-25T21:28:45.111Z"
   },
   {
    "duration": 13,
    "start_time": "2023-10-25T21:28:45.193Z"
   },
   {
    "duration": 14,
    "start_time": "2023-10-25T21:28:45.208Z"
   },
   {
    "duration": 646,
    "start_time": "2023-10-25T21:28:45.224Z"
   },
   {
    "duration": 242,
    "start_time": "2023-10-25T21:28:45.874Z"
   },
   {
    "duration": 10,
    "start_time": "2023-10-25T21:28:46.118Z"
   },
   {
    "duration": 72,
    "start_time": "2023-10-25T21:28:46.130Z"
   },
   {
    "duration": 143,
    "start_time": "2023-10-25T21:28:46.204Z"
   },
   {
    "duration": 28,
    "start_time": "2023-10-25T21:28:46.349Z"
   },
   {
    "duration": 48,
    "start_time": "2023-10-25T21:28:46.379Z"
   },
   {
    "duration": 35,
    "start_time": "2023-10-25T21:28:46.429Z"
   },
   {
    "duration": 10,
    "start_time": "2023-10-25T21:28:46.465Z"
   },
   {
    "duration": 49,
    "start_time": "2023-10-25T21:28:46.476Z"
   },
   {
    "duration": 1342,
    "start_time": "2023-10-26T16:57:52.679Z"
   },
   {
    "duration": 517,
    "start_time": "2023-10-26T16:57:54.024Z"
   },
   {
    "duration": 23,
    "start_time": "2023-10-26T16:57:54.542Z"
   },
   {
    "duration": 26,
    "start_time": "2023-10-26T16:57:54.566Z"
   },
   {
    "duration": 10,
    "start_time": "2023-10-26T16:57:54.593Z"
   },
   {
    "duration": 3,
    "start_time": "2023-10-26T16:57:54.605Z"
   },
   {
    "duration": 111,
    "start_time": "2023-10-26T16:57:54.609Z"
   },
   {
    "duration": 55,
    "start_time": "2023-10-26T16:57:54.723Z"
   },
   {
    "duration": 15,
    "start_time": "2023-10-26T16:57:54.780Z"
   },
   {
    "duration": 135,
    "start_time": "2023-10-26T16:57:54.799Z"
   },
   {
    "duration": 103,
    "start_time": "2023-10-26T16:57:54.936Z"
   },
   {
    "duration": 100,
    "start_time": "2023-10-26T16:57:55.041Z"
   },
   {
    "duration": 140,
    "start_time": "2023-10-26T16:57:55.143Z"
   },
   {
    "duration": 76,
    "start_time": "2023-10-26T16:57:55.285Z"
   },
   {
    "duration": 114,
    "start_time": "2023-10-26T16:57:55.363Z"
   },
   {
    "duration": 25,
    "start_time": "2023-10-26T16:57:55.479Z"
   },
   {
    "duration": 23,
    "start_time": "2023-10-26T16:57:55.506Z"
   },
   {
    "duration": 24,
    "start_time": "2023-10-26T16:57:55.530Z"
   },
   {
    "duration": 19,
    "start_time": "2023-10-26T16:57:55.556Z"
   },
   {
    "duration": 462,
    "start_time": "2023-10-26T16:57:55.576Z"
   },
   {
    "duration": 23,
    "start_time": "2023-10-26T16:57:56.039Z"
   },
   {
    "duration": 61,
    "start_time": "2023-10-26T16:57:56.063Z"
   },
   {
    "duration": 39,
    "start_time": "2023-10-26T16:57:56.125Z"
   },
   {
    "duration": 13,
    "start_time": "2023-10-26T16:57:56.166Z"
   },
   {
    "duration": 44,
    "start_time": "2023-10-26T16:57:56.180Z"
   },
   {
    "duration": 177,
    "start_time": "2023-10-26T16:57:56.226Z"
   },
   {
    "duration": 69,
    "start_time": "2023-10-26T16:57:56.404Z"
   },
   {
    "duration": 15,
    "start_time": "2023-10-26T16:57:56.476Z"
   },
   {
    "duration": 27,
    "start_time": "2023-10-26T16:57:56.492Z"
   },
   {
    "duration": 538,
    "start_time": "2023-10-26T16:57:56.521Z"
   },
   {
    "duration": 174,
    "start_time": "2023-10-26T16:57:57.060Z"
   },
   {
    "duration": 9,
    "start_time": "2023-10-26T16:57:57.235Z"
   },
   {
    "duration": 83,
    "start_time": "2023-10-26T16:57:57.246Z"
   },
   {
    "duration": 116,
    "start_time": "2023-10-26T16:57:57.331Z"
   },
   {
    "duration": 20,
    "start_time": "2023-10-26T16:57:57.449Z"
   },
   {
    "duration": 201,
    "start_time": "2023-10-26T16:57:57.471Z"
   },
   {
    "duration": 55,
    "start_time": "2023-10-26T16:57:57.674Z"
   },
   {
    "duration": 75,
    "start_time": "2023-10-26T16:57:57.731Z"
   },
   {
    "duration": 27,
    "start_time": "2023-10-26T16:57:57.808Z"
   },
   {
    "duration": 24,
    "start_time": "2023-10-26T17:03:08.703Z"
   },
   {
    "duration": 244,
    "start_time": "2023-10-26T17:04:33.586Z"
   },
   {
    "duration": 225,
    "start_time": "2023-10-26T17:06:20.322Z"
   },
   {
    "duration": 87,
    "start_time": "2023-10-26T17:08:59.353Z"
   },
   {
    "duration": 298,
    "start_time": "2023-10-26T17:09:03.982Z"
   },
   {
    "duration": 135,
    "start_time": "2023-10-26T17:09:19.143Z"
   },
   {
    "duration": 170,
    "start_time": "2023-10-26T17:09:24.411Z"
   },
   {
    "duration": 182,
    "start_time": "2023-10-26T17:09:34.513Z"
   },
   {
    "duration": 261,
    "start_time": "2023-10-26T17:09:47.181Z"
   },
   {
    "duration": 18,
    "start_time": "2023-10-26T17:15:12.312Z"
   },
   {
    "duration": 14,
    "start_time": "2023-10-26T17:15:28.430Z"
   },
   {
    "duration": 210,
    "start_time": "2023-10-26T17:17:52.242Z"
   },
   {
    "duration": 15,
    "start_time": "2023-10-26T17:20:55.242Z"
   },
   {
    "duration": 37,
    "start_time": "2023-10-26T17:22:41.840Z"
   },
   {
    "duration": 50,
    "start_time": "2023-10-26T17:22:46.292Z"
   },
   {
    "duration": 15,
    "start_time": "2023-10-26T17:24:36.982Z"
   },
   {
    "duration": 418,
    "start_time": "2023-10-26T17:28:44.391Z"
   },
   {
    "duration": 331,
    "start_time": "2023-10-26T17:29:04.161Z"
   },
   {
    "duration": 400,
    "start_time": "2023-10-26T17:29:10.084Z"
   },
   {
    "duration": 141,
    "start_time": "2023-10-26T17:31:59.901Z"
   },
   {
    "duration": 115,
    "start_time": "2023-10-26T17:34:06.411Z"
   },
   {
    "duration": 43,
    "start_time": "2023-10-26T17:34:22.778Z"
   },
   {
    "duration": 36,
    "start_time": "2023-10-26T17:44:06.651Z"
   },
   {
    "duration": 91,
    "start_time": "2023-10-26T17:47:14.412Z"
   },
   {
    "duration": 74,
    "start_time": "2023-10-26T17:47:28.332Z"
   },
   {
    "duration": 104,
    "start_time": "2023-10-26T17:47:35.431Z"
   },
   {
    "duration": 10,
    "start_time": "2023-10-26T17:47:40.668Z"
   },
   {
    "duration": 12,
    "start_time": "2023-10-26T17:48:11.911Z"
   },
   {
    "duration": 11,
    "start_time": "2023-10-26T17:48:21.181Z"
   },
   {
    "duration": 10,
    "start_time": "2023-10-26T17:48:35.134Z"
   },
   {
    "duration": 11,
    "start_time": "2023-10-26T17:48:40.020Z"
   },
   {
    "duration": 11,
    "start_time": "2023-10-26T17:49:57.471Z"
   },
   {
    "duration": 132,
    "start_time": "2023-10-26T17:52:56.350Z"
   },
   {
    "duration": 94,
    "start_time": "2023-10-26T17:53:15.634Z"
   },
   {
    "duration": 20,
    "start_time": "2023-10-26T17:53:19.121Z"
   },
   {
    "duration": 10,
    "start_time": "2023-10-26T17:54:18.372Z"
   },
   {
    "duration": 9,
    "start_time": "2023-10-26T17:54:50.441Z"
   },
   {
    "duration": 10,
    "start_time": "2023-10-26T17:55:28.667Z"
   },
   {
    "duration": 10,
    "start_time": "2023-10-26T17:55:43.442Z"
   },
   {
    "duration": 9,
    "start_time": "2023-10-26T17:56:10.922Z"
   },
   {
    "duration": 11,
    "start_time": "2023-10-26T17:56:21.541Z"
   },
   {
    "duration": 116,
    "start_time": "2023-10-26T17:59:02.323Z"
   },
   {
    "duration": 77,
    "start_time": "2023-10-26T17:59:18.461Z"
   },
   {
    "duration": 9,
    "start_time": "2023-10-26T17:59:24.341Z"
   },
   {
    "duration": 117,
    "start_time": "2023-10-26T18:00:17.230Z"
   },
   {
    "duration": 10,
    "start_time": "2023-10-26T18:00:32.494Z"
   },
   {
    "duration": 117,
    "start_time": "2023-10-26T18:00:49.792Z"
   },
   {
    "duration": 10,
    "start_time": "2023-10-26T18:01:02.342Z"
   },
   {
    "duration": 11,
    "start_time": "2023-10-26T18:01:24.659Z"
   },
   {
    "duration": 11,
    "start_time": "2023-10-26T18:01:43.600Z"
   },
   {
    "duration": 10,
    "start_time": "2023-10-26T18:02:48.494Z"
   },
   {
    "duration": 11,
    "start_time": "2023-10-26T18:03:11.944Z"
   },
   {
    "duration": 13,
    "start_time": "2023-10-26T18:03:35.143Z"
   },
   {
    "duration": 12,
    "start_time": "2023-10-26T18:03:53.255Z"
   },
   {
    "duration": 12,
    "start_time": "2023-10-26T18:04:02.426Z"
   },
   {
    "duration": 11,
    "start_time": "2023-10-26T18:04:08.192Z"
   },
   {
    "duration": 16,
    "start_time": "2023-10-26T18:10:25.968Z"
   },
   {
    "duration": 16,
    "start_time": "2023-10-26T18:10:54.707Z"
   },
   {
    "duration": 16,
    "start_time": "2023-10-26T18:11:20.867Z"
   },
   {
    "duration": 19,
    "start_time": "2023-10-26T18:11:48.930Z"
   },
   {
    "duration": 12,
    "start_time": "2023-10-26T18:12:12.356Z"
   },
   {
    "duration": 16,
    "start_time": "2023-10-26T18:12:17.857Z"
   },
   {
    "duration": 11,
    "start_time": "2023-10-26T18:12:31.662Z"
   },
   {
    "duration": 16,
    "start_time": "2023-10-26T18:12:39.418Z"
   },
   {
    "duration": 10,
    "start_time": "2023-10-26T18:13:06.753Z"
   },
   {
    "duration": 12,
    "start_time": "2023-10-26T18:13:29.826Z"
   },
   {
    "duration": 15,
    "start_time": "2023-10-26T18:13:39.397Z"
   },
   {
    "duration": 11,
    "start_time": "2023-10-26T18:16:29.977Z"
   },
   {
    "duration": 18,
    "start_time": "2023-10-26T18:18:21.585Z"
   },
   {
    "duration": 13,
    "start_time": "2023-10-26T18:19:36.304Z"
   },
   {
    "duration": 11,
    "start_time": "2023-10-26T18:20:23.754Z"
   },
   {
    "duration": 13,
    "start_time": "2023-10-26T18:20:30.522Z"
   },
   {
    "duration": 12,
    "start_time": "2023-10-26T18:20:48.753Z"
   },
   {
    "duration": 13,
    "start_time": "2023-10-26T18:21:12.337Z"
   },
   {
    "duration": 23,
    "start_time": "2023-10-26T18:21:42.001Z"
   },
   {
    "duration": 13,
    "start_time": "2023-10-26T18:21:45.087Z"
   },
   {
    "duration": 11,
    "start_time": "2023-10-26T18:21:51.063Z"
   },
   {
    "duration": 12,
    "start_time": "2023-10-26T18:22:18.375Z"
   },
   {
    "duration": 13,
    "start_time": "2023-10-26T18:22:23.441Z"
   },
   {
    "duration": 11,
    "start_time": "2023-10-26T18:22:49.654Z"
   },
   {
    "duration": 14,
    "start_time": "2023-10-26T18:22:54.001Z"
   },
   {
    "duration": 17,
    "start_time": "2023-10-26T18:23:19.724Z"
   },
   {
    "duration": 11,
    "start_time": "2023-10-26T18:23:31.483Z"
   },
   {
    "duration": 15,
    "start_time": "2023-10-26T18:23:52.925Z"
   },
   {
    "duration": 18,
    "start_time": "2023-10-26T18:23:57.260Z"
   },
   {
    "duration": 16,
    "start_time": "2023-10-26T18:24:15.905Z"
   },
   {
    "duration": 15,
    "start_time": "2023-10-26T18:24:20.575Z"
   },
   {
    "duration": 11,
    "start_time": "2023-10-26T18:24:31.572Z"
   },
   {
    "duration": 12,
    "start_time": "2023-10-26T18:24:48.460Z"
   },
   {
    "duration": 11,
    "start_time": "2023-10-26T18:24:54.252Z"
   },
   {
    "duration": 13,
    "start_time": "2023-10-26T18:25:04.332Z"
   },
   {
    "duration": 11,
    "start_time": "2023-10-26T18:25:13.878Z"
   },
   {
    "duration": 13,
    "start_time": "2023-10-26T18:25:40.090Z"
   },
   {
    "duration": 18,
    "start_time": "2023-10-26T18:25:42.187Z"
   },
   {
    "duration": 12,
    "start_time": "2023-10-26T18:38:21.554Z"
   },
   {
    "duration": 13,
    "start_time": "2023-10-26T18:38:30.644Z"
   },
   {
    "duration": 222,
    "start_time": "2023-10-26T18:40:04.725Z"
   },
   {
    "duration": 87,
    "start_time": "2023-10-26T18:40:13.045Z"
   },
   {
    "duration": 80,
    "start_time": "2023-10-26T18:40:26.284Z"
   },
   {
    "duration": 113,
    "start_time": "2023-10-26T18:40:31.556Z"
   },
   {
    "duration": 16,
    "start_time": "2023-10-26T18:40:34.749Z"
   },
   {
    "duration": 94,
    "start_time": "2023-10-26T18:40:42.665Z"
   },
   {
    "duration": 81,
    "start_time": "2023-10-26T18:40:50.447Z"
   },
   {
    "duration": 322,
    "start_time": "2023-10-26T18:41:15.851Z"
   },
   {
    "duration": 113,
    "start_time": "2023-10-26T18:41:29.295Z"
   },
   {
    "duration": 101,
    "start_time": "2023-10-26T18:42:11.485Z"
   },
   {
    "duration": 151,
    "start_time": "2023-10-26T18:42:27.321Z"
   },
   {
    "duration": 16,
    "start_time": "2023-10-26T18:42:41.414Z"
   },
   {
    "duration": 15,
    "start_time": "2023-10-26T18:43:23.024Z"
   },
   {
    "duration": 14,
    "start_time": "2023-10-26T18:43:38.694Z"
   },
   {
    "duration": 101,
    "start_time": "2023-10-26T18:44:53.545Z"
   },
   {
    "duration": 13,
    "start_time": "2023-10-26T18:45:10.304Z"
   },
   {
    "duration": 7,
    "start_time": "2023-10-26T18:45:45.197Z"
   },
   {
    "duration": 111,
    "start_time": "2023-10-26T19:06:37.581Z"
   },
   {
    "duration": 1230,
    "start_time": "2023-10-26T19:07:31.408Z"
   },
   {
    "duration": 195,
    "start_time": "2023-10-26T19:07:32.640Z"
   },
   {
    "duration": 24,
    "start_time": "2023-10-26T19:07:32.840Z"
   },
   {
    "duration": 23,
    "start_time": "2023-10-26T19:07:32.867Z"
   },
   {
    "duration": 50,
    "start_time": "2023-10-26T19:07:32.892Z"
   },
   {
    "duration": 16,
    "start_time": "2023-10-26T19:07:32.944Z"
   },
   {
    "duration": 143,
    "start_time": "2023-10-26T19:07:32.962Z"
   },
   {
    "duration": 81,
    "start_time": "2023-10-26T19:07:33.106Z"
   },
   {
    "duration": 17,
    "start_time": "2023-10-26T19:07:33.189Z"
   },
   {
    "duration": 158,
    "start_time": "2023-10-26T19:07:33.209Z"
   },
   {
    "duration": 83,
    "start_time": "2023-10-26T19:07:33.369Z"
   },
   {
    "duration": 84,
    "start_time": "2023-10-26T19:07:33.454Z"
   },
   {
    "duration": 100,
    "start_time": "2023-10-26T19:07:33.540Z"
   },
   {
    "duration": 64,
    "start_time": "2023-10-26T19:07:33.642Z"
   },
   {
    "duration": 78,
    "start_time": "2023-10-26T19:07:33.707Z"
   },
   {
    "duration": 41,
    "start_time": "2023-10-26T19:07:33.786Z"
   },
   {
    "duration": 12,
    "start_time": "2023-10-26T19:07:33.828Z"
   },
   {
    "duration": 23,
    "start_time": "2023-10-26T19:07:33.841Z"
   },
   {
    "duration": 231,
    "start_time": "2023-10-26T19:07:33.865Z"
   },
   {
    "duration": 421,
    "start_time": "2023-10-26T19:07:34.097Z"
   },
   {
    "duration": 7,
    "start_time": "2023-10-26T19:07:34.519Z"
   },
   {
    "duration": 403,
    "start_time": "2023-10-26T19:07:34.528Z"
   },
   {
    "duration": 30,
    "start_time": "2023-10-26T19:07:34.933Z"
   },
   {
    "duration": 73,
    "start_time": "2023-10-26T19:07:34.965Z"
   },
   {
    "duration": 45,
    "start_time": "2023-10-26T19:07:35.042Z"
   },
   {
    "duration": 18,
    "start_time": "2023-10-26T19:07:35.089Z"
   },
   {
    "duration": 53,
    "start_time": "2023-10-26T19:07:35.109Z"
   },
   {
    "duration": 212,
    "start_time": "2023-10-26T19:07:35.165Z"
   },
   {
    "duration": 98,
    "start_time": "2023-10-26T19:07:35.378Z"
   },
   {
    "duration": 24,
    "start_time": "2023-10-26T19:07:35.478Z"
   },
   {
    "duration": 33,
    "start_time": "2023-10-26T19:07:35.505Z"
   },
   {
    "duration": 682,
    "start_time": "2023-10-26T19:07:35.540Z"
   },
   {
    "duration": 255,
    "start_time": "2023-10-26T19:07:36.223Z"
   },
   {
    "duration": 24,
    "start_time": "2023-10-26T19:07:36.481Z"
   },
   {
    "duration": 28,
    "start_time": "2023-10-26T19:07:36.507Z"
   },
   {
    "duration": 57,
    "start_time": "2023-10-26T19:07:36.537Z"
   },
   {
    "duration": 162,
    "start_time": "2023-10-26T19:07:36.595Z"
   },
   {
    "duration": 13,
    "start_time": "2023-10-26T19:07:36.759Z"
   },
   {
    "duration": 23,
    "start_time": "2023-10-26T19:07:36.774Z"
   },
   {
    "duration": 48,
    "start_time": "2023-10-26T19:07:36.798Z"
   },
   {
    "duration": 27,
    "start_time": "2023-10-26T19:07:36.848Z"
   },
   {
    "duration": 12,
    "start_time": "2023-10-26T19:07:36.877Z"
   },
   {
    "duration": 53,
    "start_time": "2023-10-26T19:07:36.891Z"
   },
   {
    "duration": 1289,
    "start_time": "2023-10-26T19:15:03.581Z"
   },
   {
    "duration": 203,
    "start_time": "2023-10-26T19:15:04.873Z"
   },
   {
    "duration": 83,
    "start_time": "2023-10-26T19:15:05.077Z"
   },
   {
    "duration": 218,
    "start_time": "2023-10-26T19:15:05.162Z"
   },
   {
    "duration": 158,
    "start_time": "2023-10-26T19:15:05.383Z"
   },
   {
    "duration": 73,
    "start_time": "2023-10-26T19:15:05.542Z"
   },
   {
    "duration": 318,
    "start_time": "2023-10-26T19:15:05.617Z"
   },
   {
    "duration": 68,
    "start_time": "2023-10-26T19:15:05.942Z"
   },
   {
    "duration": 308,
    "start_time": "2023-10-26T19:15:06.012Z"
   },
   {
    "duration": 327,
    "start_time": "2023-10-26T19:15:06.322Z"
   },
   {
    "duration": 328,
    "start_time": "2023-10-26T19:15:06.651Z"
   },
   {
    "duration": 226,
    "start_time": "2023-10-26T19:15:06.981Z"
   },
   {
    "duration": 281,
    "start_time": "2023-10-26T19:15:07.209Z"
   },
   {
    "duration": 182,
    "start_time": "2023-10-26T19:15:07.494Z"
   },
   {
    "duration": 102,
    "start_time": "2023-10-26T19:15:07.678Z"
   },
   {
    "duration": 27,
    "start_time": "2023-10-26T19:15:07.782Z"
   },
   {
    "duration": 85,
    "start_time": "2023-10-26T19:15:07.824Z"
   },
   {
    "duration": 55,
    "start_time": "2023-10-26T19:15:07.911Z"
   },
   {
    "duration": 304,
    "start_time": "2023-10-26T19:15:07.968Z"
   },
   {
    "duration": 322,
    "start_time": "2023-10-26T19:15:08.274Z"
   },
   {
    "duration": 6,
    "start_time": "2023-10-26T19:15:08.598Z"
   },
   {
    "duration": 444,
    "start_time": "2023-10-26T19:15:08.605Z"
   },
   {
    "duration": 28,
    "start_time": "2023-10-26T19:15:09.051Z"
   },
   {
    "duration": 168,
    "start_time": "2023-10-26T19:15:09.081Z"
   },
   {
    "duration": 46,
    "start_time": "2023-10-26T19:15:09.250Z"
   },
   {
    "duration": 41,
    "start_time": "2023-10-26T19:15:09.298Z"
   },
   {
    "duration": 65,
    "start_time": "2023-10-26T19:15:09.340Z"
   },
   {
    "duration": 200,
    "start_time": "2023-10-26T19:15:09.407Z"
   },
   {
    "duration": 84,
    "start_time": "2023-10-26T19:15:09.608Z"
   },
   {
    "duration": 13,
    "start_time": "2023-10-26T19:15:09.694Z"
   },
   {
    "duration": 34,
    "start_time": "2023-10-26T19:15:09.708Z"
   },
   {
    "duration": 572,
    "start_time": "2023-10-26T19:15:09.744Z"
   },
   {
    "duration": 323,
    "start_time": "2023-10-26T19:15:10.325Z"
   },
   {
    "duration": 17,
    "start_time": "2023-10-26T19:15:10.650Z"
   },
   {
    "duration": 190,
    "start_time": "2023-10-26T19:15:10.668Z"
   },
   {
    "duration": 229,
    "start_time": "2023-10-26T19:15:10.860Z"
   },
   {
    "duration": 184,
    "start_time": "2023-10-26T19:15:11.092Z"
   },
   {
    "duration": 15,
    "start_time": "2023-10-26T19:15:11.279Z"
   },
   {
    "duration": 415,
    "start_time": "2023-10-26T19:15:11.296Z"
   },
   {
    "duration": 107,
    "start_time": "2023-10-26T19:15:11.713Z"
   },
   {
    "duration": 86,
    "start_time": "2023-10-26T19:15:11.824Z"
   },
   {
    "duration": 42,
    "start_time": "2023-10-26T19:15:11.911Z"
   },
   {
    "duration": 118,
    "start_time": "2023-10-26T19:15:11.955Z"
   },
   {
    "duration": 1338,
    "start_time": "2023-10-27T12:15:44.754Z"
   },
   {
    "duration": 717,
    "start_time": "2023-10-27T12:15:46.094Z"
   },
   {
    "duration": 27,
    "start_time": "2023-10-27T12:15:46.813Z"
   },
   {
    "duration": 27,
    "start_time": "2023-10-27T12:15:46.842Z"
   },
   {
    "duration": 6,
    "start_time": "2023-10-27T12:15:46.873Z"
   },
   {
    "duration": 24,
    "start_time": "2023-10-27T12:15:46.881Z"
   },
   {
    "duration": 125,
    "start_time": "2023-10-27T12:15:46.907Z"
   },
   {
    "duration": 64,
    "start_time": "2023-10-27T12:15:47.033Z"
   },
   {
    "duration": 16,
    "start_time": "2023-10-27T12:15:47.098Z"
   },
   {
    "duration": 45,
    "start_time": "2023-10-27T12:15:47.115Z"
   },
   {
    "duration": 92,
    "start_time": "2023-10-27T12:15:47.162Z"
   },
   {
    "duration": 90,
    "start_time": "2023-10-27T12:15:47.256Z"
   },
   {
    "duration": 124,
    "start_time": "2023-10-27T12:15:47.348Z"
   },
   {
    "duration": 78,
    "start_time": "2023-10-27T12:15:47.476Z"
   },
   {
    "duration": 103,
    "start_time": "2023-10-27T12:15:47.556Z"
   },
   {
    "duration": 49,
    "start_time": "2023-10-27T12:15:47.661Z"
   },
   {
    "duration": 13,
    "start_time": "2023-10-27T12:15:47.712Z"
   },
   {
    "duration": 25,
    "start_time": "2023-10-27T12:15:47.745Z"
   },
   {
    "duration": 239,
    "start_time": "2023-10-27T12:15:47.772Z"
   },
   {
    "duration": 367,
    "start_time": "2023-10-27T12:15:48.013Z"
   },
   {
    "duration": 5,
    "start_time": "2023-10-27T12:15:48.382Z"
   },
   {
    "duration": 430,
    "start_time": "2023-10-27T12:15:48.389Z"
   },
   {
    "duration": 40,
    "start_time": "2023-10-27T12:15:48.821Z"
   },
   {
    "duration": 69,
    "start_time": "2023-10-27T12:15:48.863Z"
   },
   {
    "duration": 64,
    "start_time": "2023-10-27T12:15:48.934Z"
   },
   {
    "duration": 18,
    "start_time": "2023-10-27T12:15:49.001Z"
   },
   {
    "duration": 57,
    "start_time": "2023-10-27T12:15:49.021Z"
   },
   {
    "duration": 211,
    "start_time": "2023-10-27T12:15:49.080Z"
   },
   {
    "duration": 76,
    "start_time": "2023-10-27T12:15:49.292Z"
   },
   {
    "duration": 13,
    "start_time": "2023-10-27T12:15:49.369Z"
   },
   {
    "duration": 14,
    "start_time": "2023-10-27T12:15:49.384Z"
   },
   {
    "duration": 1320,
    "start_time": "2023-10-27T12:15:49.399Z"
   },
   {
    "duration": 192,
    "start_time": "2023-10-27T12:15:50.721Z"
   },
   {
    "duration": 51,
    "start_time": "2023-10-27T12:15:50.915Z"
   },
   {
    "duration": 10,
    "start_time": "2023-10-27T12:15:50.968Z"
   },
   {
    "duration": 57,
    "start_time": "2023-10-27T12:15:50.981Z"
   },
   {
    "duration": 125,
    "start_time": "2023-10-27T12:15:51.040Z"
   },
   {
    "duration": 13,
    "start_time": "2023-10-27T12:15:51.167Z"
   },
   {
    "duration": 41,
    "start_time": "2023-10-27T12:15:51.181Z"
   },
   {
    "duration": 45,
    "start_time": "2023-10-27T12:15:51.224Z"
   },
   {
    "duration": 31,
    "start_time": "2023-10-27T12:15:51.272Z"
   },
   {
    "duration": 36,
    "start_time": "2023-10-27T12:15:51.304Z"
   },
   {
    "duration": 52,
    "start_time": "2023-10-27T12:15:51.341Z"
   },
   {
    "duration": 1306,
    "start_time": "2023-10-27T13:01:53.879Z"
   },
   {
    "duration": 194,
    "start_time": "2023-10-27T13:01:55.188Z"
   },
   {
    "duration": 24,
    "start_time": "2023-10-27T13:01:55.385Z"
   },
   {
    "duration": 13,
    "start_time": "2023-10-27T13:01:55.411Z"
   },
   {
    "duration": 7,
    "start_time": "2023-10-27T13:01:55.444Z"
   },
   {
    "duration": 10,
    "start_time": "2023-10-27T13:01:55.452Z"
   },
   {
    "duration": 169,
    "start_time": "2023-10-27T13:01:55.464Z"
   },
   {
    "duration": 67,
    "start_time": "2023-10-27T13:01:55.635Z"
   },
   {
    "duration": 17,
    "start_time": "2023-10-27T13:01:55.704Z"
   },
   {
    "duration": 47,
    "start_time": "2023-10-27T13:01:55.722Z"
   },
   {
    "duration": 85,
    "start_time": "2023-10-27T13:01:55.771Z"
   },
   {
    "duration": 89,
    "start_time": "2023-10-27T13:01:55.858Z"
   },
   {
    "duration": 101,
    "start_time": "2023-10-27T13:01:55.949Z"
   },
   {
    "duration": 66,
    "start_time": "2023-10-27T13:01:56.053Z"
   },
   {
    "duration": 75,
    "start_time": "2023-10-27T13:01:56.121Z"
   },
   {
    "duration": 29,
    "start_time": "2023-10-27T13:01:56.198Z"
   },
   {
    "duration": 34,
    "start_time": "2023-10-27T13:01:56.245Z"
   },
   {
    "duration": 29,
    "start_time": "2023-10-27T13:01:56.281Z"
   },
   {
    "duration": 208,
    "start_time": "2023-10-27T13:01:56.312Z"
   },
   {
    "duration": 408,
    "start_time": "2023-10-27T13:01:56.522Z"
   },
   {
    "duration": 13,
    "start_time": "2023-10-27T13:01:56.931Z"
   },
   {
    "duration": 381,
    "start_time": "2023-10-27T13:01:56.946Z"
   },
   {
    "duration": 31,
    "start_time": "2023-10-27T13:01:57.329Z"
   },
   {
    "duration": 47,
    "start_time": "2023-10-27T13:01:57.362Z"
   },
   {
    "duration": 66,
    "start_time": "2023-10-27T13:01:57.411Z"
   },
   {
    "duration": 17,
    "start_time": "2023-10-27T13:01:57.479Z"
   },
   {
    "duration": 47,
    "start_time": "2023-10-27T13:01:57.498Z"
   },
   {
    "duration": 172,
    "start_time": "2023-10-27T13:01:57.547Z"
   },
   {
    "duration": 89,
    "start_time": "2023-10-27T13:01:57.721Z"
   },
   {
    "duration": 51,
    "start_time": "2023-10-27T13:01:57.812Z"
   },
   {
    "duration": 57,
    "start_time": "2023-10-27T13:01:57.864Z"
   },
   {
    "duration": 1007,
    "start_time": "2023-10-27T13:01:57.924Z"
   },
   {
    "duration": 270,
    "start_time": "2023-10-27T13:01:58.933Z"
   },
   {
    "duration": 19,
    "start_time": "2023-10-27T13:01:59.205Z"
   },
   {
    "duration": 33,
    "start_time": "2023-10-27T13:01:59.226Z"
   },
   {
    "duration": 84,
    "start_time": "2023-10-27T13:01:59.261Z"
   },
   {
    "duration": 130,
    "start_time": "2023-10-27T13:01:59.347Z"
   },
   {
    "duration": 27,
    "start_time": "2023-10-27T13:01:59.480Z"
   },
   {
    "duration": 37,
    "start_time": "2023-10-27T13:01:59.510Z"
   },
   {
    "duration": 33,
    "start_time": "2023-10-27T13:01:59.549Z"
   },
   {
    "duration": 21,
    "start_time": "2023-10-27T13:01:59.588Z"
   },
   {
    "duration": 9,
    "start_time": "2023-10-27T13:01:59.611Z"
   },
   {
    "duration": 26,
    "start_time": "2023-10-27T13:01:59.645Z"
   },
   {
    "duration": 1332,
    "start_time": "2023-11-13T06:26:47.809Z"
   },
   {
    "duration": 556,
    "start_time": "2023-11-13T06:26:49.143Z"
   },
   {
    "duration": 25,
    "start_time": "2023-11-13T06:26:49.700Z"
   },
   {
    "duration": 109,
    "start_time": "2023-11-13T06:26:49.727Z"
   },
   {
    "duration": 24,
    "start_time": "2023-11-13T06:26:49.838Z"
   },
   {
    "duration": 20,
    "start_time": "2023-11-13T06:26:49.864Z"
   },
   {
    "duration": 165,
    "start_time": "2023-11-13T06:26:49.886Z"
   },
   {
    "duration": 70,
    "start_time": "2023-11-13T06:26:50.052Z"
   },
   {
    "duration": 19,
    "start_time": "2023-11-13T06:26:50.124Z"
   },
   {
    "duration": 29,
    "start_time": "2023-11-13T06:26:50.145Z"
   },
   {
    "duration": 108,
    "start_time": "2023-11-13T06:26:50.176Z"
   },
   {
    "duration": 89,
    "start_time": "2023-11-13T06:26:50.286Z"
   },
   {
    "duration": 111,
    "start_time": "2023-11-13T06:26:50.377Z"
   },
   {
    "duration": 80,
    "start_time": "2023-11-13T06:26:50.490Z"
   },
   {
    "duration": 79,
    "start_time": "2023-11-13T06:26:50.572Z"
   },
   {
    "duration": 42,
    "start_time": "2023-11-13T06:26:50.652Z"
   },
   {
    "duration": 11,
    "start_time": "2023-11-13T06:26:50.712Z"
   },
   {
    "duration": 32,
    "start_time": "2023-11-13T06:26:50.725Z"
   },
   {
    "duration": 237,
    "start_time": "2023-11-13T06:26:50.759Z"
   },
   {
    "duration": 389,
    "start_time": "2023-11-13T06:26:50.999Z"
   },
   {
    "duration": 6,
    "start_time": "2023-11-13T06:26:51.390Z"
   },
   {
    "duration": 406,
    "start_time": "2023-11-13T06:26:51.398Z"
   },
   {
    "duration": 31,
    "start_time": "2023-11-13T06:26:51.806Z"
   },
   {
    "duration": 49,
    "start_time": "2023-11-13T06:26:51.839Z"
   },
   {
    "duration": 70,
    "start_time": "2023-11-13T06:26:51.890Z"
   },
   {
    "duration": 17,
    "start_time": "2023-11-13T06:26:51.962Z"
   },
   {
    "duration": 52,
    "start_time": "2023-11-13T06:26:51.981Z"
   },
   {
    "duration": 191,
    "start_time": "2023-11-13T06:26:52.038Z"
   },
   {
    "duration": 90,
    "start_time": "2023-11-13T06:26:52.232Z"
   },
   {
    "duration": 13,
    "start_time": "2023-11-13T06:26:52.323Z"
   },
   {
    "duration": 14,
    "start_time": "2023-11-13T06:26:52.338Z"
   },
   {
    "duration": 535,
    "start_time": "2023-11-13T06:26:52.354Z"
   },
   {
    "duration": 226,
    "start_time": "2023-11-13T06:26:52.890Z"
   },
   {
    "duration": 19,
    "start_time": "2023-11-13T06:26:53.118Z"
   },
   {
    "duration": 13,
    "start_time": "2023-11-13T06:26:53.139Z"
   },
   {
    "duration": 85,
    "start_time": "2023-11-13T06:26:53.154Z"
   },
   {
    "duration": 141,
    "start_time": "2023-11-13T06:26:53.241Z"
   },
   {
    "duration": 15,
    "start_time": "2023-11-13T06:26:53.384Z"
   },
   {
    "duration": 47,
    "start_time": "2023-11-13T06:26:53.401Z"
   },
   {
    "duration": 23,
    "start_time": "2023-11-13T06:26:53.449Z"
   },
   {
    "duration": 23,
    "start_time": "2023-11-13T06:26:53.474Z"
   },
   {
    "duration": 10,
    "start_time": "2023-11-13T06:26:53.511Z"
   },
   {
    "duration": 20,
    "start_time": "2023-11-13T06:26:53.522Z"
   },
   {
    "duration": 77,
    "start_time": "2023-11-13T06:26:53.544Z"
   },
   {
    "duration": 0,
    "start_time": "2023-11-13T06:26:53.623Z"
   },
   {
    "duration": 0,
    "start_time": "2023-11-13T06:26:53.625Z"
   },
   {
    "duration": 0,
    "start_time": "2023-11-13T06:26:53.626Z"
   },
   {
    "duration": 0,
    "start_time": "2023-11-13T06:26:53.628Z"
   },
   {
    "duration": 0,
    "start_time": "2023-11-13T06:26:53.630Z"
   },
   {
    "duration": 0,
    "start_time": "2023-11-13T06:26:53.631Z"
   },
   {
    "duration": 0,
    "start_time": "2023-11-13T06:26:53.632Z"
   },
   {
    "duration": 0,
    "start_time": "2023-11-13T06:26:53.634Z"
   },
   {
    "duration": 1108,
    "start_time": "2023-12-11T19:06:05.868Z"
   },
   {
    "duration": 491,
    "start_time": "2023-12-11T19:06:06.978Z"
   },
   {
    "duration": 21,
    "start_time": "2023-12-11T19:06:07.471Z"
   },
   {
    "duration": 9,
    "start_time": "2023-12-11T19:06:07.494Z"
   },
   {
    "duration": 8,
    "start_time": "2023-12-11T19:06:07.505Z"
   },
   {
    "duration": 6,
    "start_time": "2023-12-11T19:06:07.515Z"
   },
   {
    "duration": 121,
    "start_time": "2023-12-11T19:06:07.522Z"
   },
   {
    "duration": 61,
    "start_time": "2023-12-11T19:06:07.644Z"
   },
   {
    "duration": 18,
    "start_time": "2023-12-11T19:06:07.706Z"
   },
   {
    "duration": 27,
    "start_time": "2023-12-11T19:06:07.726Z"
   },
   {
    "duration": 93,
    "start_time": "2023-12-11T19:06:07.754Z"
   },
   {
    "duration": 70,
    "start_time": "2023-12-11T19:06:07.849Z"
   },
   {
    "duration": 86,
    "start_time": "2023-12-11T19:06:07.921Z"
   },
   {
    "duration": 62,
    "start_time": "2023-12-11T19:06:08.009Z"
   },
   {
    "duration": 57,
    "start_time": "2023-12-11T19:06:08.081Z"
   },
   {
    "duration": 24,
    "start_time": "2023-12-11T19:06:08.139Z"
   },
   {
    "duration": 10,
    "start_time": "2023-12-11T19:06:08.182Z"
   },
   {
    "duration": 24,
    "start_time": "2023-12-11T19:06:08.193Z"
   },
   {
    "duration": 195,
    "start_time": "2023-12-11T19:06:08.218Z"
   },
   {
    "duration": 319,
    "start_time": "2023-12-11T19:06:08.414Z"
   },
   {
    "duration": 5,
    "start_time": "2023-12-11T19:06:08.734Z"
   },
   {
    "duration": 343,
    "start_time": "2023-12-11T19:06:08.740Z"
   },
   {
    "duration": 24,
    "start_time": "2023-12-11T19:06:09.084Z"
   },
   {
    "duration": 43,
    "start_time": "2023-12-11T19:06:09.110Z"
   },
   {
    "duration": 58,
    "start_time": "2023-12-11T19:06:09.154Z"
   },
   {
    "duration": 13,
    "start_time": "2023-12-11T19:06:09.213Z"
   },
   {
    "duration": 28,
    "start_time": "2023-12-11T19:06:09.228Z"
   },
   {
    "duration": 158,
    "start_time": "2023-12-11T19:06:09.259Z"
   },
   {
    "duration": 65,
    "start_time": "2023-12-11T19:06:09.418Z"
   },
   {
    "duration": 10,
    "start_time": "2023-12-11T19:06:09.484Z"
   },
   {
    "duration": 13,
    "start_time": "2023-12-11T19:06:09.496Z"
   },
   {
    "duration": 453,
    "start_time": "2023-12-11T19:06:09.510Z"
   },
   {
    "duration": 174,
    "start_time": "2023-12-11T19:06:09.965Z"
   },
   {
    "duration": 13,
    "start_time": "2023-12-11T19:06:10.140Z"
   },
   {
    "duration": 30,
    "start_time": "2023-12-11T19:06:10.155Z"
   },
   {
    "duration": 53,
    "start_time": "2023-12-11T19:06:10.186Z"
   },
   {
    "duration": 121,
    "start_time": "2023-12-11T19:06:10.240Z"
   },
   {
    "duration": 19,
    "start_time": "2023-12-11T19:06:10.363Z"
   },
   {
    "duration": 19,
    "start_time": "2023-12-11T19:06:10.383Z"
   },
   {
    "duration": 20,
    "start_time": "2023-12-11T19:06:10.403Z"
   },
   {
    "duration": 15,
    "start_time": "2023-12-11T19:06:10.424Z"
   },
   {
    "duration": 21,
    "start_time": "2023-12-11T19:06:10.440Z"
   },
   {
    "duration": 30,
    "start_time": "2023-12-11T19:06:10.462Z"
   },
   {
    "duration": 90,
    "start_time": "2023-12-11T19:06:10.493Z"
   },
   {
    "duration": 0,
    "start_time": "2023-12-11T19:06:10.585Z"
   },
   {
    "duration": 0,
    "start_time": "2023-12-11T19:06:10.586Z"
   },
   {
    "duration": 0,
    "start_time": "2023-12-11T19:06:10.587Z"
   },
   {
    "duration": 0,
    "start_time": "2023-12-11T19:06:10.589Z"
   },
   {
    "duration": 0,
    "start_time": "2023-12-11T19:06:10.590Z"
   },
   {
    "duration": 0,
    "start_time": "2023-12-11T19:06:10.591Z"
   },
   {
    "duration": 0,
    "start_time": "2023-12-11T19:06:10.592Z"
   },
   {
    "duration": 0,
    "start_time": "2023-12-11T19:06:10.593Z"
   }
  ],
  "kernelspec": {
   "display_name": "Python 3 (ipykernel)",
   "language": "python",
   "name": "python3"
  },
  "language_info": {
   "codemirror_mode": {
    "name": "ipython",
    "version": 3
   },
   "file_extension": ".py",
   "mimetype": "text/x-python",
   "name": "python",
   "nbconvert_exporter": "python",
   "pygments_lexer": "ipython3",
   "version": "3.11.5"
  },
  "toc": {
   "base_numbering": 1,
   "nav_menu": {},
   "number_sections": true,
   "sideBar": true,
   "skip_h1_title": true,
   "title_cell": "Table of Contents",
   "title_sidebar": "Contents",
   "toc_cell": false,
   "toc_position": {},
   "toc_section_display": true,
   "toc_window_display": false
  }
 },
 "nbformat": 4,
 "nbformat_minor": 4
}
